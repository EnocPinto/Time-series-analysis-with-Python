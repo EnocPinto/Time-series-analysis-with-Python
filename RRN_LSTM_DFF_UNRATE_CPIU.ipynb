{
  "nbformat": 4,
  "nbformat_minor": 0,
  "metadata": {
    "colab": {
      "provenance": [],
      "collapsed_sections": [],
      "authorship_tag": "ABX9TyMBD8iTb19G6nUawnCcO/OT",
      "include_colab_link": true
    },
    "kernelspec": {
      "name": "python3",
      "display_name": "Python 3"
    },
    "language_info": {
      "name": "python"
    }
  },
  "cells": [
    {
      "cell_type": "markdown",
      "metadata": {
        "id": "view-in-github",
        "colab_type": "text"
      },
      "source": [
        "<a href=\"https://colab.research.google.com/github/EnocPinto/Time-series-analysis-with-Python/blob/main/RRN_LSTM_DFF_UNRATE_CPIU.ipynb\" target=\"_parent\"><img src=\"https://colab.research.google.com/assets/colab-badge.svg\" alt=\"Open In Colab\"/></a>"
      ]
    },
    {
      "cell_type": "code",
      "execution_count": null,
      "metadata": {
        "id": "6przDhimQdcA"
      },
      "outputs": [],
      "source": [
        "%reset"
      ]
    },
    {
      "cell_type": "code",
      "source": [
        "#Main libraries\n",
        "import numpy as np\n",
        "import pandas as pd\n",
        "import datetime as dt\n",
        "from datetime import datetime\n",
        "\n",
        "#Plotting libraries\n",
        "import matplotlib.pyplot as plt\n",
        "plt.rcParams['figure.figsize'] = [12, 6]\n",
        "\n",
        "\n",
        "#Statistical libraries\n",
        "import tensorflow as tf\n",
        "from sklearn.preprocessing import StandardScaler\n",
        "from sklearn.preprocessing import MinMaxScaler\n",
        "from sklearn.metrics import mean_squared_error\n",
        "from sklearn import metrics\n",
        "from tensorflow import keras\n",
        "from tensorflow.keras.layers import Dense,LSTM,Activation\n",
        "from keras.callbacks import EarlyStopping, ReduceLROnPlateau, ModelCheckpoint, TensorBoard\n",
        "from keras.models import Sequential\n",
        "from keras.layers import Dropout\n",
        "from tensorflow.keras.layers import RepeatVector\n",
        "from tensorflow.keras.layers import TimeDistributed"
      ],
      "metadata": {
        "id": "nwoziZ6tQkLT"
      },
      "execution_count": 1,
      "outputs": []
    },
    {
      "cell_type": "markdown",
      "source": [
        "# **Table of content**\n",
        "\n",
        "1. Loading data\n",
        "2. LSTM - Multivariate one step ahead forecast\n",
        " - 2.1 Data preparation\n",
        " - 2.2 Model assessment function and early's stops callbacks\n",
        " - 2.3 Model_1\n",
        " - 2.4 Model_2\n",
        " - 2.5 Model_3\n",
        " - 2.6 Visualizing results \n",
        "3. Multi-step forecast\n",
        "  - 3.1 Preprocesing data\n",
        "  - 3.2 Multivariate model multi-step forecast\n",
        "  - 3.3 Predict on validation data\n",
        "4. Forecast using 7 months lagged predictors\n",
        "  - 4.1 Preprocesing data\n",
        "  - 4.2 Multivariate model multi-step forecast\n",
        "  - 4.3 Predict on validation data\n",
        "5. Forecast using CPIU 7 months lagged as only response variable\n",
        "  - 5.1 Preprocesing data\n",
        "  - 5.2 Multivariate model multi-step forecast\n",
        "  - 5.3 Predict on validation data"
      ],
      "metadata": {
        "id": "Ltzchz_AQp4b"
      }
    },
    {
      "cell_type": "markdown",
      "source": [
        "# **1. Loading data**"
      ],
      "metadata": {
        "id": "9A1D62SIQrxb"
      }
    },
    {
      "cell_type": "code",
      "source": [
        "#Load data\n",
        "DFF = pd.read_csv(\"DFF.csv\", index_col = 0, parse_dates = True, na_values = \".\", delimiter=',')\n",
        "UNRATE = pd.read_csv(\"UNRATE.csv\", index_col = 0, parse_dates = True, na_values = \".\", delimiter=',')\n",
        "CPIU_monthly = pd.read_csv(\"CPIU.csv\", delimiter = \",\")\n",
        "\n",
        "#Calculate monthly average values for DFF\n",
        "DFF_monthly = DFF.resample(\"M\").apply(np.mean)\n",
        "\n",
        "#Add month and year column for merge\n",
        "DFF_monthly[\"Year\"] = DFF_monthly.index.year\n",
        "DFF_monthly[\"Month\"] = DFF_monthly.index.month\n",
        "UNRATE[\"Year\"] = UNRATE.index.year\n",
        "UNRATE[\"Month\"] = UNRATE.index.month\n",
        "\n",
        "#Create final dataframe\n",
        "merge_df = DFF_monthly.merge(UNRATE, how = 'inner', on = ['Year', 'Month'])\n",
        "final_df = merge_df.merge(CPIU_monthly, how = 'inner', on = ['Year', 'Month'])\n",
        "\n",
        "#Prepare final DataFrame with all variables\n",
        "final_df[\"DATE\"] = pd.to_datetime(final_df[[\"Year\", \"Month\"]].assign(DAY=1))\n",
        "final_df = final_df.set_index(\"DATE\")\n",
        "final_df = final_df.drop(columns=[\"Month\", \"Year\"])\n",
        "final_df = final_df.round(2)\n",
        "final_df"
      ],
      "metadata": {
        "colab": {
          "base_uri": "https://localhost:8080/",
          "height": 455
        },
        "id": "A3mcl43DQtFS",
        "outputId": "621964f5-6f8b-4221-e977-9f7571e6ba8f"
      },
      "execution_count": 2,
      "outputs": [
        {
          "output_type": "execute_result",
          "data": {
            "text/plain": [
              "             DFF  UNRATE  CPIU\n",
              "DATE                          \n",
              "1958-01-01  2.72     5.8  3.62\n",
              "1958-02-01  1.67     6.4  3.25\n",
              "1958-03-01  1.20     6.7  3.60\n",
              "1958-04-01  1.26     7.4  3.58\n",
              "1958-05-01  0.63     7.4  3.21\n",
              "...          ...     ...   ...\n",
              "2022-02-01  0.08     3.8  7.87\n",
              "2022-03-01  0.20     3.6  8.54\n",
              "2022-04-01  0.33     3.6  8.26\n",
              "2022-05-01  0.77     3.6  8.58\n",
              "2022-06-01  1.20     3.6  9.10\n",
              "\n",
              "[774 rows x 3 columns]"
            ],
            "text/html": [
              "\n",
              "  <div id=\"df-99aa1a1b-47dd-4dcd-924d-022a11ef55c7\">\n",
              "    <div class=\"colab-df-container\">\n",
              "      <div>\n",
              "<style scoped>\n",
              "    .dataframe tbody tr th:only-of-type {\n",
              "        vertical-align: middle;\n",
              "    }\n",
              "\n",
              "    .dataframe tbody tr th {\n",
              "        vertical-align: top;\n",
              "    }\n",
              "\n",
              "    .dataframe thead th {\n",
              "        text-align: right;\n",
              "    }\n",
              "</style>\n",
              "<table border=\"1\" class=\"dataframe\">\n",
              "  <thead>\n",
              "    <tr style=\"text-align: right;\">\n",
              "      <th></th>\n",
              "      <th>DFF</th>\n",
              "      <th>UNRATE</th>\n",
              "      <th>CPIU</th>\n",
              "    </tr>\n",
              "    <tr>\n",
              "      <th>DATE</th>\n",
              "      <th></th>\n",
              "      <th></th>\n",
              "      <th></th>\n",
              "    </tr>\n",
              "  </thead>\n",
              "  <tbody>\n",
              "    <tr>\n",
              "      <th>1958-01-01</th>\n",
              "      <td>2.72</td>\n",
              "      <td>5.8</td>\n",
              "      <td>3.62</td>\n",
              "    </tr>\n",
              "    <tr>\n",
              "      <th>1958-02-01</th>\n",
              "      <td>1.67</td>\n",
              "      <td>6.4</td>\n",
              "      <td>3.25</td>\n",
              "    </tr>\n",
              "    <tr>\n",
              "      <th>1958-03-01</th>\n",
              "      <td>1.20</td>\n",
              "      <td>6.7</td>\n",
              "      <td>3.60</td>\n",
              "    </tr>\n",
              "    <tr>\n",
              "      <th>1958-04-01</th>\n",
              "      <td>1.26</td>\n",
              "      <td>7.4</td>\n",
              "      <td>3.58</td>\n",
              "    </tr>\n",
              "    <tr>\n",
              "      <th>1958-05-01</th>\n",
              "      <td>0.63</td>\n",
              "      <td>7.4</td>\n",
              "      <td>3.21</td>\n",
              "    </tr>\n",
              "    <tr>\n",
              "      <th>...</th>\n",
              "      <td>...</td>\n",
              "      <td>...</td>\n",
              "      <td>...</td>\n",
              "    </tr>\n",
              "    <tr>\n",
              "      <th>2022-02-01</th>\n",
              "      <td>0.08</td>\n",
              "      <td>3.8</td>\n",
              "      <td>7.87</td>\n",
              "    </tr>\n",
              "    <tr>\n",
              "      <th>2022-03-01</th>\n",
              "      <td>0.20</td>\n",
              "      <td>3.6</td>\n",
              "      <td>8.54</td>\n",
              "    </tr>\n",
              "    <tr>\n",
              "      <th>2022-04-01</th>\n",
              "      <td>0.33</td>\n",
              "      <td>3.6</td>\n",
              "      <td>8.26</td>\n",
              "    </tr>\n",
              "    <tr>\n",
              "      <th>2022-05-01</th>\n",
              "      <td>0.77</td>\n",
              "      <td>3.6</td>\n",
              "      <td>8.58</td>\n",
              "    </tr>\n",
              "    <tr>\n",
              "      <th>2022-06-01</th>\n",
              "      <td>1.20</td>\n",
              "      <td>3.6</td>\n",
              "      <td>9.10</td>\n",
              "    </tr>\n",
              "  </tbody>\n",
              "</table>\n",
              "<p>774 rows × 3 columns</p>\n",
              "</div>\n",
              "      <button class=\"colab-df-convert\" onclick=\"convertToInteractive('df-99aa1a1b-47dd-4dcd-924d-022a11ef55c7')\"\n",
              "              title=\"Convert this dataframe to an interactive table.\"\n",
              "              style=\"display:none;\">\n",
              "        \n",
              "  <svg xmlns=\"http://www.w3.org/2000/svg\" height=\"24px\"viewBox=\"0 0 24 24\"\n",
              "       width=\"24px\">\n",
              "    <path d=\"M0 0h24v24H0V0z\" fill=\"none\"/>\n",
              "    <path d=\"M18.56 5.44l.94 2.06.94-2.06 2.06-.94-2.06-.94-.94-2.06-.94 2.06-2.06.94zm-11 1L8.5 8.5l.94-2.06 2.06-.94-2.06-.94L8.5 2.5l-.94 2.06-2.06.94zm10 10l.94 2.06.94-2.06 2.06-.94-2.06-.94-.94-2.06-.94 2.06-2.06.94z\"/><path d=\"M17.41 7.96l-1.37-1.37c-.4-.4-.92-.59-1.43-.59-.52 0-1.04.2-1.43.59L10.3 9.45l-7.72 7.72c-.78.78-.78 2.05 0 2.83L4 21.41c.39.39.9.59 1.41.59.51 0 1.02-.2 1.41-.59l7.78-7.78 2.81-2.81c.8-.78.8-2.07 0-2.86zM5.41 20L4 18.59l7.72-7.72 1.47 1.35L5.41 20z\"/>\n",
              "  </svg>\n",
              "      </button>\n",
              "      \n",
              "  <style>\n",
              "    .colab-df-container {\n",
              "      display:flex;\n",
              "      flex-wrap:wrap;\n",
              "      gap: 12px;\n",
              "    }\n",
              "\n",
              "    .colab-df-convert {\n",
              "      background-color: #E8F0FE;\n",
              "      border: none;\n",
              "      border-radius: 50%;\n",
              "      cursor: pointer;\n",
              "      display: none;\n",
              "      fill: #1967D2;\n",
              "      height: 32px;\n",
              "      padding: 0 0 0 0;\n",
              "      width: 32px;\n",
              "    }\n",
              "\n",
              "    .colab-df-convert:hover {\n",
              "      background-color: #E2EBFA;\n",
              "      box-shadow: 0px 1px 2px rgba(60, 64, 67, 0.3), 0px 1px 3px 1px rgba(60, 64, 67, 0.15);\n",
              "      fill: #174EA6;\n",
              "    }\n",
              "\n",
              "    [theme=dark] .colab-df-convert {\n",
              "      background-color: #3B4455;\n",
              "      fill: #D2E3FC;\n",
              "    }\n",
              "\n",
              "    [theme=dark] .colab-df-convert:hover {\n",
              "      background-color: #434B5C;\n",
              "      box-shadow: 0px 1px 3px 1px rgba(0, 0, 0, 0.15);\n",
              "      filter: drop-shadow(0px 1px 2px rgba(0, 0, 0, 0.3));\n",
              "      fill: #FFFFFF;\n",
              "    }\n",
              "  </style>\n",
              "\n",
              "      <script>\n",
              "        const buttonEl =\n",
              "          document.querySelector('#df-99aa1a1b-47dd-4dcd-924d-022a11ef55c7 button.colab-df-convert');\n",
              "        buttonEl.style.display =\n",
              "          google.colab.kernel.accessAllowed ? 'block' : 'none';\n",
              "\n",
              "        async function convertToInteractive(key) {\n",
              "          const element = document.querySelector('#df-99aa1a1b-47dd-4dcd-924d-022a11ef55c7');\n",
              "          const dataTable =\n",
              "            await google.colab.kernel.invokeFunction('convertToInteractive',\n",
              "                                                     [key], {});\n",
              "          if (!dataTable) return;\n",
              "\n",
              "          const docLinkHtml = 'Like what you see? Visit the ' +\n",
              "            '<a target=\"_blank\" href=https://colab.research.google.com/notebooks/data_table.ipynb>data table notebook</a>'\n",
              "            + ' to learn more about interactive tables.';\n",
              "          element.innerHTML = '';\n",
              "          dataTable['output_type'] = 'display_data';\n",
              "          await google.colab.output.renderOutput(dataTable, element);\n",
              "          const docLink = document.createElement('div');\n",
              "          docLink.innerHTML = docLinkHtml;\n",
              "          element.appendChild(docLink);\n",
              "        }\n",
              "      </script>\n",
              "    </div>\n",
              "  </div>\n",
              "  "
            ]
          },
          "metadata": {},
          "execution_count": 2
        }
      ]
    },
    {
      "cell_type": "code",
      "source": [
        "#Create training, test and validation partitions for plotting\n",
        "#Validation set \n",
        "df_validation = final_df.iloc[-12:]\n",
        "\n",
        "#Remove the 12 observations for validation and split remaining into train and test (70% - 30%)\n",
        "df_training = final_df[:-12]\n",
        "\n",
        "#Create train and test data sets\n",
        "train_size = int(len(df_training) * 0.7)\n",
        "test_size = len(df_training) - train_size\n",
        "df_train, df_test = df_training[0:train_size], df_training[train_size:len(df_training)]\n",
        "\n",
        "#Print the shape of train test and validation sets\n",
        "print(\"df_train shape is {}\".format(df_train.shape))\n",
        "print(\"df_test shape is {}\".format(df_test.shape))\n",
        "print(\"df_validation shape is {}\".format(df_validation.shape))"
      ],
      "metadata": {
        "colab": {
          "base_uri": "https://localhost:8080/"
        },
        "id": "c6LEpGzfQvBL",
        "outputId": "2f2f70e5-1e62-4857-e9f8-e90742629ec7"
      },
      "execution_count": 3,
      "outputs": [
        {
          "output_type": "stream",
          "name": "stdout",
          "text": [
            "df_train shape is (533, 3)\n",
            "df_test shape is (229, 3)\n",
            "df_validation shape is (12, 3)\n"
          ]
        }
      ]
    },
    {
      "cell_type": "code",
      "source": [
        "#Save date for plotting, ignore the first 12 as they are burn predicting the first value\n",
        "train_dates = pd.to_datetime(df_training.index[12:774])\n",
        "\n",
        "#Convert each variable to a numpy array\n",
        "DFF_val = df_training[\"DFF\"].values\n",
        "UNRATED_val = df_training[\"UNRATE\"].values\n",
        "CPIU_val = df_training[\"CPIU\"].values\n",
        "\n",
        "#Reshape the structure of the numpy arrays to (rows, columns)\n",
        "DFF_val = DFF_val.reshape((len(DFF_val), 1))\n",
        "UNRATED_val = UNRATED_val.reshape((len(UNRATED_val), 1))\n",
        "CPIU_val = CPIU_val.reshape((len(CPIU_val), 1))\n",
        "\n",
        "#Check the shape of the previous three variables\n",
        "print(\"DFF_val shape is {}.\".format(DFF_val.shape))\n",
        "print(\"UNRATED_val shape is {}.\".format(UNRATED_val.shape))\n",
        "print(\"CPIU_val shape is {}\".format(CPIU_val.shape))"
      ],
      "metadata": {
        "colab": {
          "base_uri": "https://localhost:8080/"
        },
        "id": "0eqsBkpxQww9",
        "outputId": "ad30367f-f61b-45e3-e5af-273f82e57b72"
      },
      "execution_count": 4,
      "outputs": [
        {
          "output_type": "stream",
          "name": "stdout",
          "text": [
            "DFF_val shape is (762, 1).\n",
            "UNRATED_val shape is (762, 1).\n",
            "CPIU_val shape is (762, 1)\n"
          ]
        }
      ]
    },
    {
      "cell_type": "code",
      "source": [
        "#Scale variables individually\n",
        "\n",
        "#Apply StandardScaler to escale the data between 0 and 1 \n",
        "scaler_DFF = MinMaxScaler()\n",
        "DFF_scaled = scaler_DFF.fit_transform(DFF_val)\n",
        "\n",
        "scaler_UNRATED = MinMaxScaler()\n",
        "UNRATED_scaled = scaler_UNRATED.fit_transform(UNRATED_val)\n",
        "\n",
        "scaler_CPIU = MinMaxScaler()\n",
        "CPIU_scaled = scaler_CPIU.fit_transform(CPIU_val)\n",
        "\n",
        "#Combine the three numpy arrays\n",
        "final_np_scaled = np.hstack((DFF_scaled, UNRATED_scaled, CPIU_scaled))\n",
        "print(\"final_np_scaled shape is {}\".format(final_np_scaled.shape))"
      ],
      "metadata": {
        "colab": {
          "base_uri": "https://localhost:8080/"
        },
        "id": "ZwK4U5mLQyby",
        "outputId": "b4dbb7c1-71f8-4765-c015-74d6dd80e921"
      },
      "execution_count": 5,
      "outputs": [
        {
          "output_type": "stream",
          "name": "stdout",
          "text": [
            "final_np_scaled shape is (762, 3)\n"
          ]
        }
      ]
    },
    {
      "cell_type": "markdown",
      "source": [
        "# **2. LSTM - One step ahead forecast**"
      ],
      "metadata": {
        "id": "il05j0IPQ0S7"
      }
    },
    {
      "cell_type": "markdown",
      "source": [
        "### **2.1 Data preparation**"
      ],
      "metadata": {
        "id": "-dcqZp-hQ2G7"
      }
    },
    {
      "cell_type": "code",
      "source": [
        "#Sequence adjustment parameters\n",
        "sliding_window = 12\n",
        "forecast_values = 1\n",
        "n_features = 3"
      ],
      "metadata": {
        "id": "_uCLYx3iQ0lL"
      },
      "execution_count": 6,
      "outputs": []
    },
    {
      "cell_type": "code",
      "source": [
        "def TS_LST_Multivarite_prep (dataset, sliding_window, forecast_values):\n",
        "  \n",
        "  \"\"\" Transofrm several sequences into a shape required by the model X input =\n",
        "  (Observations, sliding_window, mumber of features) output = (Observations, forecast values)\"\"\"\n",
        "\n",
        "  X = []\n",
        "  Y = []\n",
        "\n",
        "  for i in range(sliding_window, len(dataset) - forecast_values +1):\n",
        "    X.append(dataset[i - sliding_window:i, 0:dataset.shape[1]])\n",
        "    Y.append(dataset[i - 1: i + forecast_values -1, 0])\n",
        "\n",
        "  return np.array(X), np.array(Y)"
      ],
      "metadata": {
        "id": "Ffx55Ta1Q5SU"
      },
      "execution_count": 7,
      "outputs": []
    },
    {
      "cell_type": "code",
      "source": [
        "#Create X and Y train data sets\n",
        "trainX, trainY = TS_LST_Multivarite_prep(final_np_scaled, sliding_window, forecast_values)\n",
        "\n",
        "#Check the shape of trainX and trainY\n",
        "print('trainX shape is {}.'.format(trainX.shape))\n",
        "print('trainY shape is {}.'.format(trainY.shape))"
      ],
      "metadata": {
        "colab": {
          "base_uri": "https://localhost:8080/"
        },
        "id": "f1UOdHB9Q7t7",
        "outputId": "5af10d5c-55b8-47d0-dbb1-1113b7a16ca1"
      },
      "execution_count": 8,
      "outputs": [
        {
          "output_type": "stream",
          "name": "stdout",
          "text": [
            "trainX shape is (750, 12, 3).\n",
            "trainY shape is (750, 1).\n"
          ]
        }
      ]
    },
    {
      "cell_type": "markdown",
      "source": [
        "### **2.2 Model assessment function and early's stops callbacks**"
      ],
      "metadata": {
        "id": "ixX5WAp3Q9dz"
      }
    },
    {
      "cell_type": "code",
      "source": [
        "def model_evualuation_metrics (trainY, trainPredict):\n",
        "\n",
        "  ### Mean Absolute Error (MAE)  \n",
        "  train_MAE = metrics.mean_absolute_error(trainY, trainPredict)\n",
        "  print(\"Model MAE: %.2f\" % (train_MAE))\n",
        "  ### Mean Squared Error (MSE)\n",
        "  train_MSE = metrics.mean_squared_error(trainY, trainPredict)\n",
        "  print(\"Model MSE: %.2f\" % (train_MSE))\n",
        "  ### Root Mean Squared Error(RMSE)\n",
        "  train_RMSE = np.sqrt(mean_squared_error(trainY, trainPredict))\n",
        "  print(\"Model RMSE: %.2f\" % (train_RMSE))\n",
        "  ### R-Squared \n",
        "  train_R2 = metrics.r2_score(trainY, trainPredict)\n",
        "  print(\"Model R2: %.2f\" % (train_R2))"
      ],
      "metadata": {
        "id": "Xvhc1g52Q-zz"
      },
      "execution_count": 9,
      "outputs": []
    },
    {
      "cell_type": "code",
      "source": [
        "#Early stop callbank, stop training when when the validation loss stops improving \n",
        "early_stop_CB = EarlyStopping(monitor= \"val_loss\",       \n",
        "                              min_delta=0.0005,            #Change of the monitor value less than min_delta, will count as no improvement\n",
        "                              patience=25,                 #Number of with no improvement after which the model will be stopped\n",
        "                              mode=\"min\")                  #Training will stop when the quantity monitored has stopped decreasing"
      ],
      "metadata": {
        "id": "JQ3u1A8ERAUD"
      },
      "execution_count": 10,
      "outputs": []
    },
    {
      "cell_type": "code",
      "source": [
        "#Redice the learning rate when the validation loss stopped improving.\n",
        "decrease_learning_rate_CB = ReduceLROnPlateau(monitor = \"val_loss\",                              \n",
        "                                              factor = 0.2,                          #Factor by which the learning rate will be reduced\n",
        "                                              mode = \"min\", \n",
        "                                              patience = 25, \n",
        "                                              min_lr = 0.001)"
      ],
      "metadata": {
        "id": "FYGaKBigRBwT"
      },
      "execution_count": 11,
      "outputs": []
    },
    {
      "cell_type": "code",
      "source": [
        "#Setting a random seed to ensure similar output when re-running LSTM models\n",
        "tf.random.set_seed(123)"
      ],
      "metadata": {
        "id": "WAjuIi2HRDDD"
      },
      "execution_count": 12,
      "outputs": []
    },
    {
      "cell_type": "markdown",
      "source": [
        "Fine-tuning parameters: \n",
        "- Tested patience for early_stop_CB and decrease_learning_rate_CB with the following values: 10, 15, 20 and 25\n",
        "- Tested the following sliding_windows: 12, 24 and 36 months\n",
        "- Tested the following optimizers: SGD, AdaDelta, RMSProp and Adam"
      ],
      "metadata": {
        "id": "yWFNx1AnRFrr"
      }
    },
    {
      "cell_type": "markdown",
      "source": [
        "### **2.3 Model_1**"
      ],
      "metadata": {
        "id": "De68TTrZRHcz"
      }
    },
    {
      "cell_type": "code",
      "source": [
        "#Model_1 components\n",
        "model_1 =Sequential()\n",
        "model_1.add(LSTM(50, activation=\"relu\"))\n",
        "model_1.add(Dense(1))\n",
        "model_1.compile(loss='mean_squared_error', optimizer=\"adam\")"
      ],
      "metadata": {
        "id": "OheECMRTRJF1"
      },
      "execution_count": 13,
      "outputs": []
    },
    {
      "cell_type": "code",
      "source": [
        "#Fit the model\n",
        "history_1 = model_1.fit(trainX, \n",
        "                        trainY, \n",
        "                        validation_split=0.3, \n",
        "                        epochs=200, \n",
        "                        batch_size=64, \n",
        "                        verbose=1, \n",
        "                        callbacks=[early_stop_CB,decrease_learning_rate_CB])"
      ],
      "metadata": {
        "colab": {
          "base_uri": "https://localhost:8080/"
        },
        "id": "PVYVPPMlRKji",
        "outputId": "9cff55f4-731e-4e81-b65b-33a168977b52"
      },
      "execution_count": 14,
      "outputs": [
        {
          "output_type": "stream",
          "name": "stdout",
          "text": [
            "Epoch 1/200\n",
            "9/9 [==============================] - 2s 58ms/step - loss: 0.0829 - val_loss: 0.0124 - lr: 0.0010\n",
            "Epoch 2/200\n",
            "9/9 [==============================] - 0s 16ms/step - loss: 0.0238 - val_loss: 0.0473 - lr: 0.0010\n",
            "Epoch 3/200\n",
            "9/9 [==============================] - 0s 17ms/step - loss: 0.0134 - val_loss: 0.0446 - lr: 0.0010\n",
            "Epoch 4/200\n",
            "9/9 [==============================] - 0s 17ms/step - loss: 0.0093 - val_loss: 0.0308 - lr: 0.0010\n",
            "Epoch 5/200\n",
            "9/9 [==============================] - 0s 15ms/step - loss: 0.0088 - val_loss: 0.0266 - lr: 0.0010\n",
            "Epoch 6/200\n",
            "9/9 [==============================] - 0s 20ms/step - loss: 0.0080 - val_loss: 0.0277 - lr: 0.0010\n",
            "Epoch 7/200\n",
            "9/9 [==============================] - 0s 16ms/step - loss: 0.0074 - val_loss: 0.0235 - lr: 0.0010\n",
            "Epoch 8/200\n",
            "9/9 [==============================] - 0s 17ms/step - loss: 0.0069 - val_loss: 0.0207 - lr: 0.0010\n",
            "Epoch 9/200\n",
            "9/9 [==============================] - 0s 16ms/step - loss: 0.0065 - val_loss: 0.0190 - lr: 0.0010\n",
            "Epoch 10/200\n",
            "9/9 [==============================] - 0s 17ms/step - loss: 0.0062 - val_loss: 0.0181 - lr: 0.0010\n",
            "Epoch 11/200\n",
            "9/9 [==============================] - 0s 15ms/step - loss: 0.0058 - val_loss: 0.0145 - lr: 0.0010\n",
            "Epoch 12/200\n",
            "9/9 [==============================] - 0s 16ms/step - loss: 0.0053 - val_loss: 0.0153 - lr: 0.0010\n",
            "Epoch 13/200\n",
            "9/9 [==============================] - 0s 14ms/step - loss: 0.0050 - val_loss: 0.0133 - lr: 0.0010\n",
            "Epoch 14/200\n",
            "9/9 [==============================] - 0s 14ms/step - loss: 0.0047 - val_loss: 0.0125 - lr: 0.0010\n",
            "Epoch 15/200\n",
            "9/9 [==============================] - 0s 15ms/step - loss: 0.0044 - val_loss: 0.0110 - lr: 0.0010\n",
            "Epoch 16/200\n",
            "9/9 [==============================] - 0s 14ms/step - loss: 0.0041 - val_loss: 0.0098 - lr: 0.0010\n",
            "Epoch 17/200\n",
            "9/9 [==============================] - 0s 14ms/step - loss: 0.0039 - val_loss: 0.0085 - lr: 0.0010\n",
            "Epoch 18/200\n",
            "9/9 [==============================] - 0s 16ms/step - loss: 0.0040 - val_loss: 0.0100 - lr: 0.0010\n",
            "Epoch 19/200\n",
            "9/9 [==============================] - 0s 16ms/step - loss: 0.0039 - val_loss: 0.0073 - lr: 0.0010\n",
            "Epoch 20/200\n",
            "9/9 [==============================] - 0s 17ms/step - loss: 0.0040 - val_loss: 0.0095 - lr: 0.0010\n",
            "Epoch 21/200\n",
            "9/9 [==============================] - 0s 17ms/step - loss: 0.0037 - val_loss: 0.0071 - lr: 0.0010\n",
            "Epoch 22/200\n",
            "9/9 [==============================] - 0s 16ms/step - loss: 0.0033 - val_loss: 0.0083 - lr: 0.0010\n",
            "Epoch 23/200\n",
            "9/9 [==============================] - 0s 17ms/step - loss: 0.0032 - val_loss: 0.0070 - lr: 0.0010\n",
            "Epoch 24/200\n",
            "9/9 [==============================] - 0s 20ms/step - loss: 0.0030 - val_loss: 0.0073 - lr: 0.0010\n",
            "Epoch 25/200\n",
            "9/9 [==============================] - 0s 18ms/step - loss: 0.0029 - val_loss: 0.0066 - lr: 0.0010\n",
            "Epoch 26/200\n",
            "9/9 [==============================] - 0s 20ms/step - loss: 0.0028 - val_loss: 0.0062 - lr: 0.0010\n",
            "Epoch 27/200\n",
            "9/9 [==============================] - 0s 17ms/step - loss: 0.0028 - val_loss: 0.0059 - lr: 0.0010\n",
            "Epoch 28/200\n",
            "9/9 [==============================] - 0s 17ms/step - loss: 0.0027 - val_loss: 0.0055 - lr: 0.0010\n",
            "Epoch 29/200\n",
            "9/9 [==============================] - 0s 16ms/step - loss: 0.0026 - val_loss: 0.0061 - lr: 0.0010\n",
            "Epoch 30/200\n",
            "9/9 [==============================] - 0s 16ms/step - loss: 0.0026 - val_loss: 0.0044 - lr: 0.0010\n",
            "Epoch 31/200\n",
            "9/9 [==============================] - 0s 16ms/step - loss: 0.0025 - val_loss: 0.0042 - lr: 0.0010\n",
            "Epoch 32/200\n",
            "9/9 [==============================] - 0s 16ms/step - loss: 0.0024 - val_loss: 0.0044 - lr: 0.0010\n",
            "Epoch 33/200\n",
            "9/9 [==============================] - 0s 17ms/step - loss: 0.0024 - val_loss: 0.0059 - lr: 0.0010\n",
            "Epoch 34/200\n",
            "9/9 [==============================] - 0s 16ms/step - loss: 0.0023 - val_loss: 0.0046 - lr: 0.0010\n",
            "Epoch 35/200\n",
            "9/9 [==============================] - 0s 16ms/step - loss: 0.0020 - val_loss: 0.0040 - lr: 0.0010\n",
            "Epoch 36/200\n",
            "9/9 [==============================] - 0s 18ms/step - loss: 0.0019 - val_loss: 0.0049 - lr: 0.0010\n",
            "Epoch 37/200\n",
            "9/9 [==============================] - 0s 15ms/step - loss: 0.0019 - val_loss: 0.0026 - lr: 0.0010\n",
            "Epoch 38/200\n",
            "9/9 [==============================] - 0s 13ms/step - loss: 0.0018 - val_loss: 0.0037 - lr: 0.0010\n",
            "Epoch 39/200\n",
            "9/9 [==============================] - 0s 15ms/step - loss: 0.0017 - val_loss: 0.0028 - lr: 0.0010\n",
            "Epoch 40/200\n",
            "9/9 [==============================] - 0s 15ms/step - loss: 0.0017 - val_loss: 0.0027 - lr: 0.0010\n",
            "Epoch 41/200\n",
            "9/9 [==============================] - 0s 13ms/step - loss: 0.0016 - val_loss: 0.0030 - lr: 0.0010\n",
            "Epoch 42/200\n",
            "9/9 [==============================] - 0s 14ms/step - loss: 0.0016 - val_loss: 0.0024 - lr: 0.0010\n",
            "Epoch 43/200\n",
            "9/9 [==============================] - 0s 14ms/step - loss: 0.0015 - val_loss: 0.0026 - lr: 0.0010\n",
            "Epoch 44/200\n",
            "9/9 [==============================] - 0s 13ms/step - loss: 0.0015 - val_loss: 0.0035 - lr: 0.0010\n",
            "Epoch 45/200\n",
            "9/9 [==============================] - 0s 14ms/step - loss: 0.0014 - val_loss: 0.0019 - lr: 0.0010\n",
            "Epoch 46/200\n",
            "9/9 [==============================] - 0s 13ms/step - loss: 0.0015 - val_loss: 0.0017 - lr: 0.0010\n",
            "Epoch 47/200\n",
            "9/9 [==============================] - 0s 16ms/step - loss: 0.0014 - val_loss: 0.0020 - lr: 0.0010\n",
            "Epoch 48/200\n",
            "9/9 [==============================] - 0s 13ms/step - loss: 0.0013 - val_loss: 0.0028 - lr: 0.0010\n",
            "Epoch 49/200\n",
            "9/9 [==============================] - 0s 13ms/step - loss: 0.0013 - val_loss: 0.0021 - lr: 0.0010\n",
            "Epoch 50/200\n",
            "9/9 [==============================] - 0s 13ms/step - loss: 0.0012 - val_loss: 0.0020 - lr: 0.0010\n",
            "Epoch 51/200\n",
            "9/9 [==============================] - 0s 13ms/step - loss: 0.0011 - val_loss: 0.0023 - lr: 0.0010\n",
            "Epoch 52/200\n",
            "9/9 [==============================] - 0s 13ms/step - loss: 0.0011 - val_loss: 0.0018 - lr: 0.0010\n",
            "Epoch 53/200\n",
            "9/9 [==============================] - 0s 16ms/step - loss: 0.0011 - val_loss: 0.0018 - lr: 0.0010\n",
            "Epoch 54/200\n",
            "9/9 [==============================] - 0s 16ms/step - loss: 0.0010 - val_loss: 0.0019 - lr: 0.0010\n",
            "Epoch 55/200\n",
            "9/9 [==============================] - 0s 20ms/step - loss: 9.9406e-04 - val_loss: 0.0019 - lr: 0.0010\n",
            "Epoch 56/200\n",
            "9/9 [==============================] - 0s 17ms/step - loss: 9.5293e-04 - val_loss: 0.0018 - lr: 0.0010\n",
            "Epoch 57/200\n",
            "9/9 [==============================] - 0s 16ms/step - loss: 9.5191e-04 - val_loss: 0.0014 - lr: 0.0010\n",
            "Epoch 58/200\n",
            "9/9 [==============================] - 0s 16ms/step - loss: 8.8537e-04 - val_loss: 0.0014 - lr: 0.0010\n",
            "Epoch 59/200\n",
            "9/9 [==============================] - 0s 16ms/step - loss: 8.4537e-04 - val_loss: 0.0020 - lr: 0.0010\n",
            "Epoch 60/200\n",
            "9/9 [==============================] - 0s 16ms/step - loss: 8.2120e-04 - val_loss: 0.0013 - lr: 0.0010\n",
            "Epoch 61/200\n",
            "9/9 [==============================] - 0s 17ms/step - loss: 7.3492e-04 - val_loss: 0.0016 - lr: 0.0010\n",
            "Epoch 62/200\n",
            "9/9 [==============================] - 0s 16ms/step - loss: 6.8133e-04 - val_loss: 0.0014 - lr: 0.0010\n",
            "Epoch 63/200\n",
            "9/9 [==============================] - 0s 17ms/step - loss: 6.6107e-04 - val_loss: 0.0015 - lr: 0.0010\n",
            "Epoch 64/200\n",
            "9/9 [==============================] - 0s 16ms/step - loss: 5.9683e-04 - val_loss: 0.0013 - lr: 0.0010\n",
            "Epoch 65/200\n",
            "9/9 [==============================] - 0s 16ms/step - loss: 5.6712e-04 - val_loss: 0.0010 - lr: 0.0010\n",
            "Epoch 66/200\n",
            "9/9 [==============================] - 0s 16ms/step - loss: 6.3301e-04 - val_loss: 0.0012 - lr: 0.0010\n",
            "Epoch 67/200\n",
            "9/9 [==============================] - 0s 20ms/step - loss: 5.4306e-04 - val_loss: 0.0012 - lr: 0.0010\n",
            "Epoch 68/200\n",
            "9/9 [==============================] - 0s 17ms/step - loss: 5.0139e-04 - val_loss: 0.0012 - lr: 0.0010\n",
            "Epoch 69/200\n",
            "9/9 [==============================] - 0s 15ms/step - loss: 5.1237e-04 - val_loss: 7.3713e-04 - lr: 0.0010\n",
            "Epoch 70/200\n",
            "9/9 [==============================] - 0s 15ms/step - loss: 6.8240e-04 - val_loss: 0.0015 - lr: 0.0010\n",
            "Epoch 71/200\n",
            "9/9 [==============================] - 0s 17ms/step - loss: 5.1763e-04 - val_loss: 0.0014 - lr: 0.0010\n",
            "Epoch 72/200\n",
            "9/9 [==============================] - 0s 15ms/step - loss: 4.8470e-04 - val_loss: 0.0012 - lr: 0.0010\n",
            "Epoch 73/200\n",
            "9/9 [==============================] - 0s 15ms/step - loss: 4.3848e-04 - val_loss: 0.0010 - lr: 0.0010\n",
            "Epoch 74/200\n",
            "9/9 [==============================] - 0s 13ms/step - loss: 3.6773e-04 - val_loss: 0.0015 - lr: 0.0010\n",
            "Epoch 75/200\n",
            "9/9 [==============================] - 0s 14ms/step - loss: 4.0856e-04 - val_loss: 0.0012 - lr: 0.0010\n",
            "Epoch 76/200\n",
            "9/9 [==============================] - 0s 13ms/step - loss: 3.7292e-04 - val_loss: 0.0012 - lr: 0.0010\n",
            "Epoch 77/200\n",
            "9/9 [==============================] - 0s 13ms/step - loss: 3.6299e-04 - val_loss: 0.0012 - lr: 0.0010\n",
            "Epoch 78/200\n",
            "9/9 [==============================] - 0s 14ms/step - loss: 3.0673e-04 - val_loss: 0.0011 - lr: 0.0010\n",
            "Epoch 79/200\n",
            "9/9 [==============================] - 0s 14ms/step - loss: 3.1659e-04 - val_loss: 8.1396e-04 - lr: 0.0010\n",
            "Epoch 80/200\n",
            "9/9 [==============================] - 0s 13ms/step - loss: 3.7743e-04 - val_loss: 9.1126e-04 - lr: 0.0010\n",
            "Epoch 81/200\n",
            "9/9 [==============================] - 0s 13ms/step - loss: 3.0316e-04 - val_loss: 7.1565e-04 - lr: 0.0010\n",
            "Epoch 82/200\n",
            "9/9 [==============================] - 0s 14ms/step - loss: 3.0716e-04 - val_loss: 9.6596e-04 - lr: 0.0010\n",
            "Epoch 83/200\n",
            "9/9 [==============================] - 0s 13ms/step - loss: 2.5547e-04 - val_loss: 6.6381e-04 - lr: 0.0010\n",
            "Epoch 84/200\n",
            "9/9 [==============================] - 0s 13ms/step - loss: 3.6242e-04 - val_loss: 6.3606e-04 - lr: 0.0010\n",
            "Epoch 85/200\n",
            "9/9 [==============================] - 0s 13ms/step - loss: 3.2968e-04 - val_loss: 7.2576e-04 - lr: 0.0010\n",
            "Epoch 86/200\n",
            "9/9 [==============================] - 0s 13ms/step - loss: 2.3473e-04 - val_loss: 6.5084e-04 - lr: 0.0010\n",
            "Epoch 87/200\n",
            "9/9 [==============================] - 0s 14ms/step - loss: 2.2787e-04 - val_loss: 7.2187e-04 - lr: 0.0010\n",
            "Epoch 88/200\n",
            "9/9 [==============================] - 0s 13ms/step - loss: 2.0390e-04 - val_loss: 6.6923e-04 - lr: 0.0010\n",
            "Epoch 89/200\n",
            "9/9 [==============================] - 0s 14ms/step - loss: 2.4847e-04 - val_loss: 7.3267e-04 - lr: 0.0010\n",
            "Epoch 90/200\n",
            "9/9 [==============================] - 0s 14ms/step - loss: 2.3260e-04 - val_loss: 7.8010e-04 - lr: 0.0010\n",
            "Epoch 91/200\n",
            "9/9 [==============================] - 0s 14ms/step - loss: 1.8558e-04 - val_loss: 6.3374e-04 - lr: 0.0010\n",
            "Epoch 92/200\n",
            "9/9 [==============================] - 0s 14ms/step - loss: 2.1059e-04 - val_loss: 7.4676e-04 - lr: 0.0010\n",
            "Epoch 93/200\n",
            "9/9 [==============================] - 0s 14ms/step - loss: 1.7550e-04 - val_loss: 8.4643e-04 - lr: 0.0010\n",
            "Epoch 94/200\n",
            "9/9 [==============================] - 0s 13ms/step - loss: 2.2585e-04 - val_loss: 7.5298e-04 - lr: 0.0010\n"
          ]
        }
      ]
    },
    {
      "cell_type": "code",
      "source": [
        "#Print model summary\n",
        "model_1.summary()"
      ],
      "metadata": {
        "colab": {
          "base_uri": "https://localhost:8080/"
        },
        "id": "8B_rDdgiRM-6",
        "outputId": "3fbbb928-0522-48cf-b520-b3f62d7257fa"
      },
      "execution_count": 15,
      "outputs": [
        {
          "output_type": "stream",
          "name": "stdout",
          "text": [
            "Model: \"sequential\"\n",
            "_________________________________________________________________\n",
            " Layer (type)                Output Shape              Param #   \n",
            "=================================================================\n",
            " lstm (LSTM)                 (None, 50)                10800     \n",
            "                                                                 \n",
            " dense (Dense)               (None, 1)                 51        \n",
            "                                                                 \n",
            "=================================================================\n",
            "Total params: 10,851\n",
            "Trainable params: 10,851\n",
            "Non-trainable params: 0\n",
            "_________________________________________________________________\n"
          ]
        }
      ]
    },
    {
      "cell_type": "code",
      "source": [
        "#Plot the evolution of the training and validation loss\n",
        "plt.plot(history_1.history[\"loss\"])\n",
        "plt.plot(history_1.history[\"val_loss\"])\n",
        "plt.title(\"Model loss\")\n",
        "plt.ylabel(\"loss\")\n",
        "plt.xlabel(\"epoch\")\n",
        "plt.legend([\"train loss\", \"validation loss\"], loc=\"upper left\")\n",
        "plt.rcParams[\"figure.figsize\"] = [16,9]\n",
        "plt.show()"
      ],
      "metadata": {
        "colab": {
          "base_uri": "https://localhost:8080/",
          "height": 404
        },
        "id": "AzrMGvAoROvk",
        "outputId": "a4e2e8b7-6a1d-451a-b895-45541c89788c"
      },
      "execution_count": 16,
      "outputs": [
        {
          "output_type": "display_data",
          "data": {
            "text/plain": [
              "<Figure size 864x432 with 1 Axes>"
            ],
            "image/png": "[encoded data removed]"
          },
          "metadata": {
            "needs_background": "light"
          }
        }
      ]
    },
    {
      "cell_type": "code",
      "source": [
        "#Calculate the original values for trainY\n",
        "trainY_Original = scaler_DFF.inverse_transform(trainY)"
      ],
      "metadata": {
        "id": "PF-jVvJFRRJb"
      },
      "execution_count": 17,
      "outputs": []
    },
    {
      "cell_type": "code",
      "source": [
        "#Make predictions\n",
        "trainPredict_1 = model_1.predict(trainX)\n",
        "\n",
        "#Escale-back the values to compared them agains the original values\n",
        "trainPredict_1 = scaler_DFF.inverse_transform(trainPredict_1)\n",
        "\n",
        "#Print evaluation metrics\n",
        "model_evualuation_metrics(trainY_Original, trainPredict_1)"
      ],
      "metadata": {
        "colab": {
          "base_uri": "https://localhost:8080/"
        },
        "id": "7Uw5wHkjRSeV",
        "outputId": "637961fd-50e2-484e-aa8a-3c33c55fe353"
      },
      "execution_count": 18,
      "outputs": [
        {
          "output_type": "stream",
          "name": "stdout",
          "text": [
            "Model MAE: 0.26\n",
            "Model MSE: 0.13\n",
            "Model RMSE: 0.36\n",
            "Model R2: 0.99\n"
          ]
        }
      ]
    },
    {
      "cell_type": "markdown",
      "source": [
        "### **2.4 Model_2**"
      ],
      "metadata": {
        "id": "riYR3YoLRUPj"
      }
    },
    {
      "cell_type": "code",
      "source": [
        "#Model_2 components\n",
        "model_2 =Sequential()\n",
        "model_2.add(LSTM(50, activation=\"relu\", return_sequences=True))\n",
        "model_2.add(LSTM(50, activation=\"relu\"))\n",
        "model_2.add(Dense(1))\n",
        "model_2.compile(loss='mean_squared_error', optimizer=\"adam\")"
      ],
      "metadata": {
        "id": "XRsWpFe3RUqO"
      },
      "execution_count": 19,
      "outputs": []
    },
    {
      "cell_type": "code",
      "source": [
        "#Fit the model_2 applying same call bancks\n",
        "history_2 = model_2.fit(trainX, \n",
        "                        trainY, \n",
        "                        validation_split=0.3, \n",
        "                        epochs=200, \n",
        "                        batch_size=64, \n",
        "                        verbose=1, \n",
        "                        callbacks=[early_stop_CB,decrease_learning_rate_CB])"
      ],
      "metadata": {
        "colab": {
          "base_uri": "https://localhost:8080/"
        },
        "id": "kj3fEa2aRW_2",
        "outputId": "0e525a9c-6129-40cb-b68c-68ececfd8342"
      },
      "execution_count": 20,
      "outputs": [
        {
          "output_type": "stream",
          "name": "stdout",
          "text": [
            "Epoch 1/200\n",
            "9/9 [==============================] - 3s 81ms/step - loss: 0.1098 - val_loss: 0.0093 - lr: 0.0010\n",
            "Epoch 2/200\n",
            "9/9 [==============================] - 0s 25ms/step - loss: 0.0550 - val_loss: 0.0479 - lr: 0.0010\n",
            "Epoch 3/200\n",
            "9/9 [==============================] - 0s 27ms/step - loss: 0.0190 - val_loss: 0.0696 - lr: 0.0010\n",
            "Epoch 4/200\n",
            "9/9 [==============================] - 0s 31ms/step - loss: 0.0127 - val_loss: 0.0391 - lr: 0.0010\n",
            "Epoch 5/200\n",
            "9/9 [==============================] - 0s 28ms/step - loss: 0.0111 - val_loss: 0.0329 - lr: 0.0010\n",
            "Epoch 6/200\n",
            "9/9 [==============================] - 0s 26ms/step - loss: 0.0091 - val_loss: 0.0262 - lr: 0.0010\n",
            "Epoch 7/200\n",
            "9/9 [==============================] - 0s 33ms/step - loss: 0.0076 - val_loss: 0.0189 - lr: 0.0010\n",
            "Epoch 8/200\n",
            "9/9 [==============================] - 0s 44ms/step - loss: 0.0069 - val_loss: 0.0134 - lr: 0.0010\n",
            "Epoch 9/200\n",
            "9/9 [==============================] - 0s 39ms/step - loss: 0.0064 - val_loss: 0.0134 - lr: 0.0010\n",
            "Epoch 10/200\n",
            "9/9 [==============================] - 0s 38ms/step - loss: 0.0061 - val_loss: 0.0093 - lr: 0.0010\n",
            "Epoch 11/200\n",
            "9/9 [==============================] - 0s 34ms/step - loss: 0.0058 - val_loss: 0.0100 - lr: 0.0010\n",
            "Epoch 12/200\n",
            "9/9 [==============================] - 0s 40ms/step - loss: 0.0053 - val_loss: 0.0066 - lr: 0.0010\n",
            "Epoch 13/200\n",
            "9/9 [==============================] - 0s 37ms/step - loss: 0.0049 - val_loss: 0.0071 - lr: 0.0010\n",
            "Epoch 14/200\n",
            "9/9 [==============================] - 0s 43ms/step - loss: 0.0048 - val_loss: 0.0060 - lr: 0.0010\n",
            "Epoch 15/200\n",
            "9/9 [==============================] - 0s 29ms/step - loss: 0.0046 - val_loss: 0.0043 - lr: 0.0010\n",
            "Epoch 16/200\n",
            "9/9 [==============================] - 0s 25ms/step - loss: 0.0043 - val_loss: 0.0051 - lr: 0.0010\n",
            "Epoch 17/200\n",
            "9/9 [==============================] - 0s 27ms/step - loss: 0.0041 - val_loss: 0.0039 - lr: 0.0010\n",
            "Epoch 18/200\n",
            "9/9 [==============================] - 0s 26ms/step - loss: 0.0040 - val_loss: 0.0065 - lr: 0.0010\n",
            "Epoch 19/200\n",
            "9/9 [==============================] - 0s 25ms/step - loss: 0.0040 - val_loss: 0.0032 - lr: 0.0010\n",
            "Epoch 20/200\n",
            "9/9 [==============================] - 0s 29ms/step - loss: 0.0038 - val_loss: 0.0047 - lr: 0.0010\n",
            "Epoch 21/200\n",
            "9/9 [==============================] - 0s 24ms/step - loss: 0.0036 - val_loss: 0.0056 - lr: 0.0010\n",
            "Epoch 22/200\n",
            "9/9 [==============================] - 0s 25ms/step - loss: 0.0035 - val_loss: 0.0034 - lr: 0.0010\n",
            "Epoch 23/200\n",
            "9/9 [==============================] - 0s 31ms/step - loss: 0.0033 - val_loss: 0.0041 - lr: 0.0010\n",
            "Epoch 24/200\n",
            "9/9 [==============================] - 0s 25ms/step - loss: 0.0033 - val_loss: 0.0046 - lr: 0.0010\n",
            "Epoch 25/200\n",
            "9/9 [==============================] - 0s 25ms/step - loss: 0.0031 - val_loss: 0.0032 - lr: 0.0010\n",
            "Epoch 26/200\n",
            "9/9 [==============================] - 0s 24ms/step - loss: 0.0030 - val_loss: 0.0025 - lr: 0.0010\n",
            "Epoch 27/200\n",
            "9/9 [==============================] - 0s 24ms/step - loss: 0.0029 - val_loss: 0.0020 - lr: 0.0010\n",
            "Epoch 28/200\n",
            "9/9 [==============================] - 0s 26ms/step - loss: 0.0029 - val_loss: 0.0020 - lr: 0.0010\n",
            "Epoch 29/200\n",
            "9/9 [==============================] - 0s 22ms/step - loss: 0.0026 - val_loss: 0.0027 - lr: 0.0010\n",
            "Epoch 30/200\n",
            "9/9 [==============================] - 0s 22ms/step - loss: 0.0025 - val_loss: 0.0025 - lr: 0.0010\n",
            "Epoch 31/200\n",
            "9/9 [==============================] - 0s 22ms/step - loss: 0.0025 - val_loss: 0.0016 - lr: 0.0010\n",
            "Epoch 32/200\n",
            "9/9 [==============================] - 0s 24ms/step - loss: 0.0025 - val_loss: 0.0010 - lr: 0.0010\n",
            "Epoch 33/200\n",
            "9/9 [==============================] - 0s 27ms/step - loss: 0.0026 - val_loss: 0.0021 - lr: 0.0010\n",
            "Epoch 34/200\n",
            "9/9 [==============================] - 0s 21ms/step - loss: 0.0023 - val_loss: 0.0040 - lr: 0.0010\n",
            "Epoch 35/200\n",
            "9/9 [==============================] - 0s 27ms/step - loss: 0.0024 - val_loss: 0.0026 - lr: 0.0010\n",
            "Epoch 36/200\n",
            "9/9 [==============================] - 0s 29ms/step - loss: 0.0022 - val_loss: 0.0024 - lr: 0.0010\n",
            "Epoch 37/200\n",
            "9/9 [==============================] - 0s 24ms/step - loss: 0.0020 - val_loss: 0.0018 - lr: 0.0010\n",
            "Epoch 38/200\n",
            "9/9 [==============================] - 0s 24ms/step - loss: 0.0019 - val_loss: 0.0024 - lr: 0.0010\n",
            "Epoch 39/200\n",
            "9/9 [==============================] - 0s 24ms/step - loss: 0.0019 - val_loss: 0.0024 - lr: 0.0010\n",
            "Epoch 40/200\n",
            "9/9 [==============================] - 0s 23ms/step - loss: 0.0020 - val_loss: 0.0011 - lr: 0.0010\n",
            "Epoch 41/200\n",
            "9/9 [==============================] - 0s 26ms/step - loss: 0.0020 - val_loss: 0.0017 - lr: 0.0010\n",
            "Epoch 42/200\n",
            "9/9 [==============================] - 0s 27ms/step - loss: 0.0023 - val_loss: 0.0013 - lr: 0.0010\n",
            "Epoch 43/200\n",
            "9/9 [==============================] - 0s 25ms/step - loss: 0.0020 - val_loss: 0.0011 - lr: 0.0010\n",
            "Epoch 44/200\n",
            "9/9 [==============================] - 0s 24ms/step - loss: 0.0017 - val_loss: 0.0027 - lr: 0.0010\n",
            "Epoch 45/200\n",
            "9/9 [==============================] - 0s 28ms/step - loss: 0.0015 - val_loss: 0.0020 - lr: 0.0010\n",
            "Epoch 46/200\n",
            "9/9 [==============================] - 0s 24ms/step - loss: 0.0015 - val_loss: 0.0016 - lr: 0.0010\n",
            "Epoch 47/200\n",
            "9/9 [==============================] - 0s 22ms/step - loss: 0.0016 - val_loss: 0.0014 - lr: 0.0010\n",
            "Epoch 48/200\n",
            "9/9 [==============================] - 0s 22ms/step - loss: 0.0018 - val_loss: 0.0019 - lr: 0.0010\n",
            "Epoch 49/200\n",
            "9/9 [==============================] - 0s 23ms/step - loss: 0.0014 - val_loss: 0.0016 - lr: 0.0010\n",
            "Epoch 50/200\n",
            "9/9 [==============================] - 0s 25ms/step - loss: 0.0013 - val_loss: 0.0012 - lr: 0.0010\n",
            "Epoch 51/200\n",
            "9/9 [==============================] - 0s 25ms/step - loss: 0.0013 - val_loss: 0.0020 - lr: 0.0010\n",
            "Epoch 52/200\n",
            "9/9 [==============================] - 0s 25ms/step - loss: 0.0013 - val_loss: 0.0015 - lr: 0.0010\n",
            "Epoch 53/200\n",
            "9/9 [==============================] - 0s 25ms/step - loss: 0.0012 - val_loss: 0.0013 - lr: 0.0010\n",
            "Epoch 54/200\n",
            "9/9 [==============================] - 0s 30ms/step - loss: 0.0012 - val_loss: 0.0013 - lr: 0.0010\n",
            "Epoch 55/200\n",
            "9/9 [==============================] - 0s 26ms/step - loss: 0.0013 - val_loss: 0.0016 - lr: 0.0010\n",
            "Epoch 56/200\n",
            "9/9 [==============================] - 0s 25ms/step - loss: 0.0011 - val_loss: 0.0018 - lr: 0.0010\n",
            "Epoch 57/200\n",
            "9/9 [==============================] - 0s 24ms/step - loss: 0.0011 - val_loss: 0.0018 - lr: 0.0010\n"
          ]
        }
      ]
    },
    {
      "cell_type": "code",
      "source": [
        "#Print model summary\n",
        "model_2.summary()"
      ],
      "metadata": {
        "colab": {
          "base_uri": "https://localhost:8080/"
        },
        "id": "7yIPA3zoRY78",
        "outputId": "abdabb42-0099-435a-c767-51e0a9f6e3f8"
      },
      "execution_count": 21,
      "outputs": [
        {
          "output_type": "stream",
          "name": "stdout",
          "text": [
            "Model: \"sequential_1\"\n",
            "_________________________________________________________________\n",
            " Layer (type)                Output Shape              Param #   \n",
            "=================================================================\n",
            " lstm_1 (LSTM)               (None, 12, 50)            10800     \n",
            "                                                                 \n",
            " lstm_2 (LSTM)               (None, 50)                20200     \n",
            "                                                                 \n",
            " dense_1 (Dense)             (None, 1)                 51        \n",
            "                                                                 \n",
            "=================================================================\n",
            "Total params: 31,051\n",
            "Trainable params: 31,051\n",
            "Non-trainable params: 0\n",
            "_________________________________________________________________\n"
          ]
        }
      ]
    },
    {
      "cell_type": "code",
      "source": [
        "#Plot the evolution of the training and validation loss\n",
        "plt.plot(history_2.history[\"loss\"])\n",
        "plt.plot(history_2.history[\"val_loss\"])\n",
        "plt.title(\"Model loss\")\n",
        "plt.ylabel(\"loss\")\n",
        "plt.xlabel(\"epoch\")\n",
        "plt.legend([\"train loss\", \"validation loss\"], loc=\"upper left\")\n",
        "plt.rcParams[\"figure.figsize\"] = [16,9]\n",
        "plt.show()"
      ],
      "metadata": {
        "colab": {
          "base_uri": "https://localhost:8080/",
          "height": 567
        },
        "id": "K5uLDuOvRbKi",
        "outputId": "21405cbb-e64b-40bd-9e45-14b542bc8740"
      },
      "execution_count": 22,
      "outputs": [
        {
          "output_type": "display_data",
          "data": {
            "text/plain": [
              "<Figure size 1152x648 with 1 Axes>"
            ],
            "image/png": "[encoded data removed]"
          },
          "metadata": {
            "needs_background": "light"
          }
        }
      ]
    },
    {
      "cell_type": "code",
      "source": [
        "#Make predictions\n",
        "trainPredict_2 = model_2.predict(trainX)\n",
        "\n",
        "#Escale-back the values to compared them agains the original values\n",
        "trainPredict_2 = scaler_DFF.inverse_transform(trainPredict_2)\n",
        "\n",
        "#Print evaluation metrics\n",
        "model_evualuation_metrics(trainY_Original, trainPredict_2)"
      ],
      "metadata": {
        "colab": {
          "base_uri": "https://localhost:8080/"
        },
        "id": "_KkGo35URc93",
        "outputId": "e0771edb-6344-4c88-bf54-67e3566931f2"
      },
      "execution_count": 23,
      "outputs": [
        {
          "output_type": "stream",
          "name": "stdout",
          "text": [
            "Model MAE: 0.48\n",
            "Model MSE: 0.46\n",
            "Model RMSE: 0.68\n",
            "Model R2: 0.97\n"
          ]
        }
      ]
    },
    {
      "cell_type": "markdown",
      "source": [
        "### **2.5 Model_3**"
      ],
      "metadata": {
        "id": "DJk3bnmERevd"
      }
    },
    {
      "cell_type": "code",
      "source": [
        "#Model_3 components\n",
        "model_3 =Sequential()\n",
        "model_3.add(LSTM(50, activation=\"relu\", return_sequences=True))\n",
        "model_3.add(Dropout(0.2))\n",
        "model_3.add(LSTM(50, activation=\"relu\"))\n",
        "model_3.add(Dense(1))\n",
        "model_3.compile(loss='mean_squared_error', optimizer=\"adam\")"
      ],
      "metadata": {
        "id": "-BlTYbV5Re9z"
      },
      "execution_count": 24,
      "outputs": []
    },
    {
      "cell_type": "code",
      "source": [
        "#Fit the model_3 applying same call bancks\n",
        "history_3 = model_3.fit(trainX, \n",
        "                        trainY, \n",
        "                        validation_split=0.3, \n",
        "                        epochs=200, \n",
        "                        batch_size=64, \n",
        "                        verbose=1, \n",
        "                        callbacks=[early_stop_CB,decrease_learning_rate_CB])"
      ],
      "metadata": {
        "colab": {
          "base_uri": "https://localhost:8080/"
        },
        "id": "Hv6A8jcnRhBb",
        "outputId": "1743a165-73ac-47a3-cf7a-529dcb925877"
      },
      "execution_count": 25,
      "outputs": [
        {
          "output_type": "stream",
          "name": "stdout",
          "text": [
            "Epoch 1/200\n",
            "9/9 [==============================] - 3s 75ms/step - loss: 0.1356 - val_loss: 0.0045 - lr: 0.0010\n",
            "Epoch 2/200\n",
            "9/9 [==============================] - 0s 25ms/step - loss: 0.0368 - val_loss: 0.0231 - lr: 0.0010\n",
            "Epoch 3/200\n",
            "9/9 [==============================] - 0s 24ms/step - loss: 0.0132 - val_loss: 0.0304 - lr: 0.0010\n",
            "Epoch 4/200\n",
            "9/9 [==============================] - 0s 28ms/step - loss: 0.0079 - val_loss: 0.0196 - lr: 0.0010\n",
            "Epoch 5/200\n",
            "9/9 [==============================] - 0s 26ms/step - loss: 0.0083 - val_loss: 0.0213 - lr: 0.0010\n",
            "Epoch 6/200\n",
            "9/9 [==============================] - 0s 23ms/step - loss: 0.0074 - val_loss: 0.0220 - lr: 0.0010\n",
            "Epoch 7/200\n",
            "9/9 [==============================] - 0s 22ms/step - loss: 0.0066 - val_loss: 0.0155 - lr: 0.0010\n",
            "Epoch 8/200\n",
            "9/9 [==============================] - 0s 23ms/step - loss: 0.0061 - val_loss: 0.0148 - lr: 0.0010\n",
            "Epoch 9/200\n",
            "9/9 [==============================] - 0s 24ms/step - loss: 0.0058 - val_loss: 0.0110 - lr: 0.0010\n",
            "Epoch 10/200\n",
            "9/9 [==============================] - 0s 26ms/step - loss: 0.0055 - val_loss: 0.0094 - lr: 0.0010\n",
            "Epoch 11/200\n",
            "9/9 [==============================] - 0s 23ms/step - loss: 0.0051 - val_loss: 0.0089 - lr: 0.0010\n",
            "Epoch 12/200\n",
            "9/9 [==============================] - 0s 23ms/step - loss: 0.0050 - val_loss: 0.0070 - lr: 0.0010\n",
            "Epoch 13/200\n",
            "9/9 [==============================] - 0s 23ms/step - loss: 0.0043 - val_loss: 0.0072 - lr: 0.0010\n",
            "Epoch 14/200\n",
            "9/9 [==============================] - 0s 23ms/step - loss: 0.0044 - val_loss: 0.0052 - lr: 0.0010\n",
            "Epoch 15/200\n",
            "9/9 [==============================] - 0s 24ms/step - loss: 0.0040 - val_loss: 0.0056 - lr: 0.0010\n",
            "Epoch 16/200\n",
            "9/9 [==============================] - 0s 22ms/step - loss: 0.0041 - val_loss: 0.0047 - lr: 0.0010\n",
            "Epoch 17/200\n",
            "9/9 [==============================] - 0s 23ms/step - loss: 0.0038 - val_loss: 0.0042 - lr: 0.0010\n",
            "Epoch 18/200\n",
            "9/9 [==============================] - 0s 23ms/step - loss: 0.0036 - val_loss: 0.0050 - lr: 0.0010\n",
            "Epoch 19/200\n",
            "9/9 [==============================] - 0s 24ms/step - loss: 0.0037 - val_loss: 0.0029 - lr: 0.0010\n",
            "Epoch 20/200\n",
            "9/9 [==============================] - 0s 25ms/step - loss: 0.0038 - val_loss: 0.0046 - lr: 0.0010\n",
            "Epoch 21/200\n",
            "9/9 [==============================] - 0s 25ms/step - loss: 0.0037 - val_loss: 0.0034 - lr: 0.0010\n",
            "Epoch 22/200\n",
            "9/9 [==============================] - 0s 25ms/step - loss: 0.0035 - val_loss: 0.0027 - lr: 0.0010\n",
            "Epoch 23/200\n",
            "9/9 [==============================] - 0s 29ms/step - loss: 0.0036 - val_loss: 0.0044 - lr: 0.0010\n",
            "Epoch 24/200\n",
            "9/9 [==============================] - 0s 24ms/step - loss: 0.0033 - val_loss: 0.0040 - lr: 0.0010\n",
            "Epoch 25/200\n",
            "9/9 [==============================] - 0s 22ms/step - loss: 0.0036 - val_loss: 0.0024 - lr: 0.0010\n",
            "Epoch 26/200\n",
            "9/9 [==============================] - 0s 22ms/step - loss: 0.0031 - val_loss: 0.0023 - lr: 0.0010\n",
            "Epoch 27/200\n",
            "9/9 [==============================] - 0s 22ms/step - loss: 0.0029 - val_loss: 0.0021 - lr: 0.0010\n",
            "Epoch 28/200\n",
            "9/9 [==============================] - 0s 23ms/step - loss: 0.0030 - val_loss: 0.0015 - lr: 0.0010\n",
            "Epoch 29/200\n",
            "9/9 [==============================] - 0s 24ms/step - loss: 0.0028 - val_loss: 0.0021 - lr: 0.0010\n",
            "Epoch 30/200\n",
            "9/9 [==============================] - 0s 23ms/step - loss: 0.0026 - val_loss: 0.0017 - lr: 0.0010\n",
            "Epoch 31/200\n",
            "9/9 [==============================] - 0s 23ms/step - loss: 0.0032 - val_loss: 0.0010 - lr: 0.0010\n",
            "Epoch 32/200\n",
            "9/9 [==============================] - 0s 22ms/step - loss: 0.0030 - val_loss: 0.0019 - lr: 0.0010\n",
            "Epoch 33/200\n",
            "9/9 [==============================] - 0s 23ms/step - loss: 0.0030 - val_loss: 0.0039 - lr: 0.0010\n",
            "Epoch 34/200\n",
            "9/9 [==============================] - 0s 22ms/step - loss: 0.0034 - val_loss: 0.0023 - lr: 0.0010\n",
            "Epoch 35/200\n",
            "9/9 [==============================] - 0s 21ms/step - loss: 0.0029 - val_loss: 0.0017 - lr: 0.0010\n",
            "Epoch 36/200\n",
            "9/9 [==============================] - 0s 22ms/step - loss: 0.0024 - val_loss: 0.0025 - lr: 0.0010\n",
            "Epoch 37/200\n",
            "9/9 [==============================] - 0s 22ms/step - loss: 0.0024 - val_loss: 0.0018 - lr: 0.0010\n",
            "Epoch 38/200\n",
            "9/9 [==============================] - 0s 24ms/step - loss: 0.0024 - val_loss: 0.0023 - lr: 0.0010\n",
            "Epoch 39/200\n",
            "9/9 [==============================] - 0s 23ms/step - loss: 0.0022 - val_loss: 0.0024 - lr: 0.0010\n",
            "Epoch 40/200\n",
            "9/9 [==============================] - 0s 21ms/step - loss: 0.0027 - val_loss: 0.0014 - lr: 0.0010\n",
            "Epoch 41/200\n",
            "9/9 [==============================] - 0s 23ms/step - loss: 0.0024 - val_loss: 0.0012 - lr: 0.0010\n",
            "Epoch 42/200\n",
            "9/9 [==============================] - 0s 24ms/step - loss: 0.0026 - val_loss: 0.0016 - lr: 0.0010\n",
            "Epoch 43/200\n",
            "9/9 [==============================] - 0s 26ms/step - loss: 0.0025 - val_loss: 0.0021 - lr: 0.0010\n",
            "Epoch 44/200\n",
            "9/9 [==============================] - 0s 23ms/step - loss: 0.0024 - val_loss: 0.0027 - lr: 0.0010\n",
            "Epoch 45/200\n",
            "9/9 [==============================] - 0s 23ms/step - loss: 0.0022 - val_loss: 0.0013 - lr: 0.0010\n",
            "Epoch 46/200\n",
            "9/9 [==============================] - 0s 22ms/step - loss: 0.0025 - val_loss: 0.0020 - lr: 0.0010\n",
            "Epoch 47/200\n",
            "9/9 [==============================] - 0s 26ms/step - loss: 0.0022 - val_loss: 0.0018 - lr: 0.0010\n",
            "Epoch 48/200\n",
            "9/9 [==============================] - 0s 29ms/step - loss: 0.0023 - val_loss: 0.0041 - lr: 0.0010\n",
            "Epoch 49/200\n",
            "9/9 [==============================] - 0s 27ms/step - loss: 0.0022 - val_loss: 0.0020 - lr: 0.0010\n",
            "Epoch 50/200\n",
            "9/9 [==============================] - 0s 29ms/step - loss: 0.0020 - val_loss: 8.8494e-04 - lr: 0.0010\n",
            "Epoch 51/200\n",
            "9/9 [==============================] - 0s 25ms/step - loss: 0.0020 - val_loss: 0.0018 - lr: 0.0010\n",
            "Epoch 52/200\n",
            "9/9 [==============================] - 0s 28ms/step - loss: 0.0019 - val_loss: 0.0019 - lr: 0.0010\n",
            "Epoch 53/200\n",
            "9/9 [==============================] - 0s 22ms/step - loss: 0.0022 - val_loss: 0.0028 - lr: 0.0010\n",
            "Epoch 54/200\n",
            "9/9 [==============================] - 0s 23ms/step - loss: 0.0018 - val_loss: 0.0025 - lr: 0.0010\n",
            "Epoch 55/200\n",
            "9/9 [==============================] - 0s 23ms/step - loss: 0.0020 - val_loss: 0.0022 - lr: 0.0010\n",
            "Epoch 56/200\n",
            "9/9 [==============================] - 0s 23ms/step - loss: 0.0019 - val_loss: 0.0023 - lr: 0.0010\n",
            "Epoch 57/200\n",
            "9/9 [==============================] - 0s 24ms/step - loss: 0.0018 - val_loss: 0.0026 - lr: 0.0010\n",
            "Epoch 58/200\n",
            "9/9 [==============================] - 0s 24ms/step - loss: 0.0019 - val_loss: 0.0030 - lr: 0.0010\n",
            "Epoch 59/200\n",
            "9/9 [==============================] - 0s 24ms/step - loss: 0.0019 - val_loss: 0.0031 - lr: 0.0010\n",
            "Epoch 60/200\n",
            "9/9 [==============================] - 0s 24ms/step - loss: 0.0020 - val_loss: 0.0016 - lr: 0.0010\n",
            "Epoch 61/200\n",
            "9/9 [==============================] - 0s 25ms/step - loss: 0.0018 - val_loss: 0.0018 - lr: 0.0010\n",
            "Epoch 62/200\n",
            "9/9 [==============================] - 0s 22ms/step - loss: 0.0017 - val_loss: 0.0021 - lr: 0.0010\n",
            "Epoch 63/200\n",
            "9/9 [==============================] - 0s 23ms/step - loss: 0.0017 - val_loss: 0.0027 - lr: 0.0010\n",
            "Epoch 64/200\n",
            "9/9 [==============================] - 0s 23ms/step - loss: 0.0016 - val_loss: 0.0021 - lr: 0.0010\n",
            "Epoch 65/200\n",
            "9/9 [==============================] - 0s 22ms/step - loss: 0.0014 - val_loss: 0.0018 - lr: 0.0010\n",
            "Epoch 66/200\n",
            "9/9 [==============================] - 0s 26ms/step - loss: 0.0016 - val_loss: 0.0021 - lr: 0.0010\n",
            "Epoch 67/200\n",
            "9/9 [==============================] - 0s 27ms/step - loss: 0.0015 - val_loss: 0.0018 - lr: 0.0010\n",
            "Epoch 68/200\n",
            "9/9 [==============================] - 0s 25ms/step - loss: 0.0016 - val_loss: 0.0016 - lr: 0.0010\n",
            "Epoch 69/200\n",
            "9/9 [==============================] - 0s 31ms/step - loss: 0.0018 - val_loss: 0.0012 - lr: 0.0010\n",
            "Epoch 70/200\n",
            "9/9 [==============================] - 0s 26ms/step - loss: 0.0018 - val_loss: 0.0038 - lr: 0.0010\n",
            "Epoch 71/200\n",
            "9/9 [==============================] - 0s 25ms/step - loss: 0.0019 - val_loss: 0.0029 - lr: 0.0010\n",
            "Epoch 72/200\n",
            "9/9 [==============================] - 0s 24ms/step - loss: 0.0018 - val_loss: 0.0019 - lr: 0.0010\n",
            "Epoch 73/200\n",
            "9/9 [==============================] - 0s 24ms/step - loss: 0.0017 - val_loss: 0.0011 - lr: 0.0010\n",
            "Epoch 74/200\n",
            "9/9 [==============================] - 0s 26ms/step - loss: 0.0015 - val_loss: 0.0024 - lr: 0.0010\n",
            "Epoch 75/200\n",
            "9/9 [==============================] - 0s 25ms/step - loss: 0.0017 - val_loss: 0.0019 - lr: 0.0010\n"
          ]
        }
      ]
    },
    {
      "cell_type": "code",
      "source": [
        "#Print model summary\n",
        "model_2.summary()"
      ],
      "metadata": {
        "colab": {
          "base_uri": "https://localhost:8080/"
        },
        "id": "7Rq4TeytRieM",
        "outputId": "1a4bb42c-ac69-4095-cbd5-66fed879e12a"
      },
      "execution_count": 26,
      "outputs": [
        {
          "output_type": "stream",
          "name": "stdout",
          "text": [
            "Model: \"sequential_1\"\n",
            "_________________________________________________________________\n",
            " Layer (type)                Output Shape              Param #   \n",
            "=================================================================\n",
            " lstm_1 (LSTM)               (None, 12, 50)            10800     \n",
            "                                                                 \n",
            " lstm_2 (LSTM)               (None, 50)                20200     \n",
            "                                                                 \n",
            " dense_1 (Dense)             (None, 1)                 51        \n",
            "                                                                 \n",
            "=================================================================\n",
            "Total params: 31,051\n",
            "Trainable params: 31,051\n",
            "Non-trainable params: 0\n",
            "_________________________________________________________________\n"
          ]
        }
      ]
    },
    {
      "cell_type": "code",
      "source": [
        "#Plot the evolution of the training and validation loss\n",
        "plt.plot(history_2.history[\"loss\"])\n",
        "plt.plot(history_2.history[\"val_loss\"])\n",
        "plt.title(\"Model loss\")\n",
        "plt.ylabel(\"loss\")\n",
        "plt.xlabel(\"epoch\")\n",
        "plt.legend([\"train loss\", \"validation loss\"], loc=\"upper left\")\n",
        "plt.rcParams[\"figure.figsize\"] = [16,9]\n",
        "plt.show()"
      ],
      "metadata": {
        "colab": {
          "base_uri": "https://localhost:8080/",
          "height": 567
        },
        "id": "rcB3JUpbRkMD",
        "outputId": "608fc897-ea04-4a05-aa71-a70ba4628376"
      },
      "execution_count": 27,
      "outputs": [
        {
          "output_type": "display_data",
          "data": {
            "text/plain": [
              "<Figure size 1152x648 with 1 Axes>"
            ],
            "image/png": "[encoded data removed]"
          },
          "metadata": {
            "needs_background": "light"
          }
        }
      ]
    },
    {
      "cell_type": "code",
      "source": [
        "#Make predictions\n",
        "trainPredict_3 = model_3.predict(trainX)\n",
        "\n",
        "#Escale-back the values to compared them agains the original values\n",
        "trainPredict_3 = scaler_DFF.inverse_transform(trainPredict_3)\n",
        "\n",
        "#Print evaluation metrics\n",
        "model_evualuation_metrics(trainY_Original, trainPredict_3)"
      ],
      "metadata": {
        "colab": {
          "base_uri": "https://localhost:8080/"
        },
        "id": "06mG75PpRmSL",
        "outputId": "c322fcf5-7ffd-4b8c-8beb-b25f9d11bdb6"
      },
      "execution_count": 28,
      "outputs": [
        {
          "output_type": "stream",
          "name": "stdout",
          "text": [
            "Model MAE: 0.51\n",
            "Model MSE: 0.47\n",
            "Model RMSE: 0.68\n",
            "Model R2: 0.97\n"
          ]
        }
      ]
    },
    {
      "cell_type": "markdown",
      "source": [
        "### **2.6 Visualizing results** "
      ],
      "metadata": {
        "id": "7jF1R862RoTE"
      }
    },
    {
      "cell_type": "code",
      "source": [
        "#Convert predictions into DataFrames\n",
        "df_trainY = pd.DataFrame(trainY_Original, columns = [\"DFF_Original\"])\n",
        "df_trainPredict_1 = pd.DataFrame(trainPredict_1, columns = [\"DFF_pred_1\"])\n",
        "df_trainPredict_2 = pd.DataFrame(trainPredict_2, columns = [\"DFF_pred_2\"])\n",
        "df_trainPredict_3 = pd.DataFrame(trainPredict_3, columns = [\"DFF_pred_3\"])\n",
        "\n",
        "#Combine original and predicted values\n",
        "Train_comp = pd.concat([df_trainY, df_trainPredict_1, df_trainPredict_2, df_trainPredict_3], axis=1)\n",
        "\n",
        "#Add the dates to original and predicted values dataframe\n",
        "Train_comp[\"Date\"] = train_dates\n",
        "Train_comp.set_index(\"Date\", inplace=True)\n",
        "\n",
        "Train_comp"
      ],
      "metadata": {
        "colab": {
          "base_uri": "https://localhost:8080/",
          "height": 455
        },
        "id": "D4qEWr1DRpvs",
        "outputId": "8a566386-9c1d-4952-d371-25120677f6e4"
      },
      "execution_count": 29,
      "outputs": [
        {
          "output_type": "execute_result",
          "data": {
            "text/plain": [
              "            DFF_Original  DFF_pred_1  DFF_pred_2  DFF_pred_3\n",
              "Date                                                        \n",
              "1959-01-01          2.42    2.283479    1.919236    2.100108\n",
              "1959-02-01          2.48    2.421788    2.241746    2.304833\n",
              "1959-03-01          2.43    2.474118    2.465757    2.475191\n",
              "1959-04-01          2.80    2.590818    2.670787    2.663243\n",
              "1959-05-01          2.96    2.762767    2.846862    2.860195\n",
              "...                  ...         ...         ...         ...\n",
              "2021-02-01          0.09    0.960279    1.460106    1.316123\n",
              "2021-03-01          0.08    0.994544    1.716869    1.498713\n",
              "2021-04-01          0.07    1.079674    1.875381    1.623367\n",
              "2021-05-01          0.07    1.125601    1.650814    1.517288\n",
              "2021-06-01          0.06    1.195367    1.539742    1.478707\n",
              "\n",
              "[750 rows x 4 columns]"
            ],
            "text/html": [
              "\n",
              "  <div id=\"df-36c42b97-8828-48de-bb3b-77a5c847829f\">\n",
              "    <div class=\"colab-df-container\">\n",
              "      <div>\n",
              "<style scoped>\n",
              "    .dataframe tbody tr th:only-of-type {\n",
              "        vertical-align: middle;\n",
              "    }\n",
              "\n",
              "    .dataframe tbody tr th {\n",
              "        vertical-align: top;\n",
              "    }\n",
              "\n",
              "    .dataframe thead th {\n",
              "        text-align: right;\n",
              "    }\n",
              "</style>\n",
              "<table border=\"1\" class=\"dataframe\">\n",
              "  <thead>\n",
              "    <tr style=\"text-align: right;\">\n",
              "      <th></th>\n",
              "      <th>DFF_Original</th>\n",
              "      <th>DFF_pred_1</th>\n",
              "      <th>DFF_pred_2</th>\n",
              "      <th>DFF_pred_3</th>\n",
              "    </tr>\n",
              "    <tr>\n",
              "      <th>Date</th>\n",
              "      <th></th>\n",
              "      <th></th>\n",
              "      <th></th>\n",
              "      <th></th>\n",
              "    </tr>\n",
              "  </thead>\n",
              "  <tbody>\n",
              "    <tr>\n",
              "      <th>1959-01-01</th>\n",
              "      <td>2.42</td>\n",
              "      <td>2.283479</td>\n",
              "      <td>1.919236</td>\n",
              "      <td>2.100108</td>\n",
              "    </tr>\n",
              "    <tr>\n",
              "      <th>1959-02-01</th>\n",
              "      <td>2.48</td>\n",
              "      <td>2.421788</td>\n",
              "      <td>2.241746</td>\n",
              "      <td>2.304833</td>\n",
              "    </tr>\n",
              "    <tr>\n",
              "      <th>1959-03-01</th>\n",
              "      <td>2.43</td>\n",
              "      <td>2.474118</td>\n",
              "      <td>2.465757</td>\n",
              "      <td>2.475191</td>\n",
              "    </tr>\n",
              "    <tr>\n",
              "      <th>1959-04-01</th>\n",
              "      <td>2.80</td>\n",
              "      <td>2.590818</td>\n",
              "      <td>2.670787</td>\n",
              "      <td>2.663243</td>\n",
              "    </tr>\n",
              "    <tr>\n",
              "      <th>1959-05-01</th>\n",
              "      <td>2.96</td>\n",
              "      <td>2.762767</td>\n",
              "      <td>2.846862</td>\n",
              "      <td>2.860195</td>\n",
              "    </tr>\n",
              "    <tr>\n",
              "      <th>...</th>\n",
              "      <td>...</td>\n",
              "      <td>...</td>\n",
              "      <td>...</td>\n",
              "      <td>...</td>\n",
              "    </tr>\n",
              "    <tr>\n",
              "      <th>2021-02-01</th>\n",
              "      <td>0.09</td>\n",
              "      <td>0.960279</td>\n",
              "      <td>1.460106</td>\n",
              "      <td>1.316123</td>\n",
              "    </tr>\n",
              "    <tr>\n",
              "      <th>2021-03-01</th>\n",
              "      <td>0.08</td>\n",
              "      <td>0.994544</td>\n",
              "      <td>1.716869</td>\n",
              "      <td>1.498713</td>\n",
              "    </tr>\n",
              "    <tr>\n",
              "      <th>2021-04-01</th>\n",
              "      <td>0.07</td>\n",
              "      <td>1.079674</td>\n",
              "      <td>1.875381</td>\n",
              "      <td>1.623367</td>\n",
              "    </tr>\n",
              "    <tr>\n",
              "      <th>2021-05-01</th>\n",
              "      <td>0.07</td>\n",
              "      <td>1.125601</td>\n",
              "      <td>1.650814</td>\n",
              "      <td>1.517288</td>\n",
              "    </tr>\n",
              "    <tr>\n",
              "      <th>2021-06-01</th>\n",
              "      <td>0.06</td>\n",
              "      <td>1.195367</td>\n",
              "      <td>1.539742</td>\n",
              "      <td>1.478707</td>\n",
              "    </tr>\n",
              "  </tbody>\n",
              "</table>\n",
              "<p>750 rows × 4 columns</p>\n",
              "</div>\n",
              "      <button class=\"colab-df-convert\" onclick=\"convertToInteractive('df-36c42b97-8828-48de-bb3b-77a5c847829f')\"\n",
              "              title=\"Convert this dataframe to an interactive table.\"\n",
              "              style=\"display:none;\">\n",
              "        \n",
              "  <svg xmlns=\"http://www.w3.org/2000/svg\" height=\"24px\"viewBox=\"0 0 24 24\"\n",
              "       width=\"24px\">\n",
              "    <path d=\"M0 0h24v24H0V0z\" fill=\"none\"/>\n",
              "    <path d=\"M18.56 5.44l.94 2.06.94-2.06 2.06-.94-2.06-.94-.94-2.06-.94 2.06-2.06.94zm-11 1L8.5 8.5l.94-2.06 2.06-.94-2.06-.94L8.5 2.5l-.94 2.06-2.06.94zm10 10l.94 2.06.94-2.06 2.06-.94-2.06-.94-.94-2.06-.94 2.06-2.06.94z\"/><path d=\"M17.41 7.96l-1.37-1.37c-.4-.4-.92-.59-1.43-.59-.52 0-1.04.2-1.43.59L10.3 9.45l-7.72 7.72c-.78.78-.78 2.05 0 2.83L4 21.41c.39.39.9.59 1.41.59.51 0 1.02-.2 1.41-.59l7.78-7.78 2.81-2.81c.8-.78.8-2.07 0-2.86zM5.41 20L4 18.59l7.72-7.72 1.47 1.35L5.41 20z\"/>\n",
              "  </svg>\n",
              "      </button>\n",
              "      \n",
              "  <style>\n",
              "    .colab-df-container {\n",
              "      display:flex;\n",
              "      flex-wrap:wrap;\n",
              "      gap: 12px;\n",
              "    }\n",
              "\n",
              "    .colab-df-convert {\n",
              "      background-color: #E8F0FE;\n",
              "      border: none;\n",
              "      border-radius: 50%;\n",
              "      cursor: pointer;\n",
              "      display: none;\n",
              "      fill: #1967D2;\n",
              "      height: 32px;\n",
              "      padding: 0 0 0 0;\n",
              "      width: 32px;\n",
              "    }\n",
              "\n",
              "    .colab-df-convert:hover {\n",
              "      background-color: #E2EBFA;\n",
              "      box-shadow: 0px 1px 2px rgba(60, 64, 67, 0.3), 0px 1px 3px 1px rgba(60, 64, 67, 0.15);\n",
              "      fill: #174EA6;\n",
              "    }\n",
              "\n",
              "    [theme=dark] .colab-df-convert {\n",
              "      background-color: #3B4455;\n",
              "      fill: #D2E3FC;\n",
              "    }\n",
              "\n",
              "    [theme=dark] .colab-df-convert:hover {\n",
              "      background-color: #434B5C;\n",
              "      box-shadow: 0px 1px 3px 1px rgba(0, 0, 0, 0.15);\n",
              "      filter: drop-shadow(0px 1px 2px rgba(0, 0, 0, 0.3));\n",
              "      fill: #FFFFFF;\n",
              "    }\n",
              "  </style>\n",
              "\n",
              "      <script>\n",
              "        const buttonEl =\n",
              "          document.querySelector('#df-36c42b97-8828-48de-bb3b-77a5c847829f button.colab-df-convert');\n",
              "        buttonEl.style.display =\n",
              "          google.colab.kernel.accessAllowed ? 'block' : 'none';\n",
              "\n",
              "        async function convertToInteractive(key) {\n",
              "          const element = document.querySelector('#df-36c42b97-8828-48de-bb3b-77a5c847829f');\n",
              "          const dataTable =\n",
              "            await google.colab.kernel.invokeFunction('convertToInteractive',\n",
              "                                                     [key], {});\n",
              "          if (!dataTable) return;\n",
              "\n",
              "          const docLinkHtml = 'Like what you see? Visit the ' +\n",
              "            '<a target=\"_blank\" href=https://colab.research.google.com/notebooks/data_table.ipynb>data table notebook</a>'\n",
              "            + ' to learn more about interactive tables.';\n",
              "          element.innerHTML = '';\n",
              "          dataTable['output_type'] = 'display_data';\n",
              "          await google.colab.output.renderOutput(dataTable, element);\n",
              "          const docLink = document.createElement('div');\n",
              "          docLink.innerHTML = docLinkHtml;\n",
              "          element.appendChild(docLink);\n",
              "        }\n",
              "      </script>\n",
              "    </div>\n",
              "  </div>\n",
              "  "
            ]
          },
          "metadata": {},
          "execution_count": 29
        }
      ]
    },
    {
      "cell_type": "code",
      "source": [
        "#Plot in sample prediction for the three models \n",
        "fig, (ax1, ax2, ax3) = plt.subplots(3)\n",
        "\n",
        "ax1.plot(Train_comp.DFF_Original, label= \"Original values\")\n",
        "ax1.plot(Train_comp.DFF_pred_1, label = \"Predicted values\")\n",
        "ax1.set_title(\"Original vs predicted values Moldel 1\")\n",
        "ax1.legend(loc=\"best\")\n",
        "\n",
        "ax2.plot(Train_comp.DFF_Original, label= \"Original values\")\n",
        "ax2.plot(Train_comp.DFF_pred_2, label = \"Predicted values\")\n",
        "ax2.set_title(\"Original vs predicted values Moldel 2\")\n",
        "ax2.legend(loc=\"best\")\n",
        "\n",
        "ax3.plot(Train_comp.DFF_Original, label= \"Original values\")\n",
        "ax3.plot(Train_comp.DFF_pred_3, label = \"Predicted values\")\n",
        "ax3.set_title(\"Original vs predicted values Moldel 3\")\n",
        "ax3.legend(loc=\"best\")"
      ],
      "metadata": {
        "colab": {
          "base_uri": "https://localhost:8080/",
          "height": 570
        },
        "id": "xyDLNJ24RrjT",
        "outputId": "24b503e1-73b1-4bf8-c7db-96f987b7eefd"
      },
      "execution_count": 30,
      "outputs": [
        {
          "output_type": "execute_result",
          "data": {
            "text/plain": [
              "<matplotlib.legend.Legend at 0x7fc5de3e7e10>"
            ]
          },
          "metadata": {},
          "execution_count": 30
        },
        {
          "output_type": "display_data",
          "data": {
            "text/plain": [
              "<Figure size 1152x648 with 3 Axes>"
            ],
            "image/png": "[encoded data removed]"
          },
          "metadata": {
            "needs_background": "light"
          }
        }
      ]
    },
    {
      "cell_type": "markdown",
      "source": [
        "# **3. Multi-step forecast**"
      ],
      "metadata": {
        "id": "8IHDXd22R6aN"
      }
    },
    {
      "cell_type": "markdown",
      "source": [
        "### **3.1 Preprocesing data**"
      ],
      "metadata": {
        "id": "mNgrt5PIR748"
      }
    },
    {
      "cell_type": "code",
      "source": [
        "#Sequence adjustment parameters\n",
        "sliding_window = 12\n",
        "forecast_values = 12\n",
        "n_features = 3"
      ],
      "metadata": {
        "id": "IP0t8VeER9Or"
      },
      "execution_count": 31,
      "outputs": []
    },
    {
      "cell_type": "code",
      "source": [
        "#Create X and Y train data sets\n",
        "trainX, trainY = TS_LST_Multivarite_prep(final_np_scaled, sliding_window, forecast_values)\n",
        "\n",
        "#Check the shape of trainX and trainY\n",
        "print('trainX shape == {}.'.format(trainX.shape))\n",
        "print('trainY shape == {}.'.format(trainY.shape))"
      ],
      "metadata": {
        "colab": {
          "base_uri": "https://localhost:8080/"
        },
        "id": "X1WXOwQ8R-3w",
        "outputId": "678983cd-2992-4d42-9edc-2980e05d5c40"
      },
      "execution_count": 32,
      "outputs": [
        {
          "output_type": "stream",
          "name": "stdout",
          "text": [
            "trainX shape == (739, 12, 3).\n",
            "trainY shape == (739, 12).\n"
          ]
        }
      ]
    },
    {
      "cell_type": "markdown",
      "source": [
        "### **3.2 Multivariate model multi-step forecast**"
      ],
      "metadata": {
        "id": "Ai5Ps4MsSAhH"
      }
    },
    {
      "cell_type": "code",
      "source": [
        "#Model_1 components\n",
        "model_1_MSforecast =Sequential()\n",
        "model_1_MSforecast.add(LSTM(50, activation=\"relu\"))\n",
        "model_1_MSforecast.add(Dense(forecast_values))\n",
        "model_1_MSforecast.compile(loss='mean_squared_error', optimizer=\"adam\")"
      ],
      "metadata": {
        "id": "1NfE2zADSBnc"
      },
      "execution_count": 33,
      "outputs": []
    },
    {
      "cell_type": "code",
      "source": [
        "#Fit the model_2 applying same call bancks\n",
        "history_1 = model_1_MSforecast.fit(trainX, \n",
        "                                   trainY, \n",
        "                                   validation_split=0.3, \n",
        "                                   epochs=100, \n",
        "                                   batch_size=64, \n",
        "                                   verbose=1, \n",
        "                                   callbacks=[early_stop_CB,decrease_learning_rate_CB])"
      ],
      "metadata": {
        "colab": {
          "base_uri": "https://localhost:8080/"
        },
        "id": "SAVyxHATSDIW",
        "outputId": "10e7a344-897a-41bd-b3ff-fc16da158e75"
      },
      "execution_count": 34,
      "outputs": [
        {
          "output_type": "stream",
          "name": "stdout",
          "text": [
            "Epoch 1/100\n",
            "9/9 [==============================] - 2s 42ms/step - loss: 0.1248 - val_loss: 0.0091 - lr: 0.0010\n",
            "Epoch 2/100\n",
            "9/9 [==============================] - 0s 14ms/step - loss: 0.0928 - val_loss: 0.0103 - lr: 0.0010\n",
            "Epoch 3/100\n",
            "9/9 [==============================] - 0s 13ms/step - loss: 0.0572 - val_loss: 0.0249 - lr: 0.0010\n",
            "Epoch 4/100\n",
            "9/9 [==============================] - 0s 14ms/step - loss: 0.0308 - val_loss: 0.0401 - lr: 0.0010\n",
            "Epoch 5/100\n",
            "9/9 [==============================] - 0s 15ms/step - loss: 0.0183 - val_loss: 0.0302 - lr: 0.0010\n",
            "Epoch 6/100\n",
            "9/9 [==============================] - 0s 16ms/step - loss: 0.0144 - val_loss: 0.0308 - lr: 0.0010\n",
            "Epoch 7/100\n",
            "9/9 [==============================] - 0s 16ms/step - loss: 0.0126 - val_loss: 0.0289 - lr: 0.0010\n",
            "Epoch 8/100\n",
            "9/9 [==============================] - 0s 16ms/step - loss: 0.0122 - val_loss: 0.0275 - lr: 0.0010\n",
            "Epoch 9/100\n",
            "9/9 [==============================] - 0s 14ms/step - loss: 0.0118 - val_loss: 0.0276 - lr: 0.0010\n",
            "Epoch 10/100\n",
            "9/9 [==============================] - 0s 15ms/step - loss: 0.0114 - val_loss: 0.0251 - lr: 0.0010\n",
            "Epoch 11/100\n",
            "9/9 [==============================] - 0s 19ms/step - loss: 0.0112 - val_loss: 0.0252 - lr: 0.0010\n",
            "Epoch 12/100\n",
            "9/9 [==============================] - 0s 15ms/step - loss: 0.0111 - val_loss: 0.0252 - lr: 0.0010\n",
            "Epoch 13/100\n",
            "9/9 [==============================] - 0s 14ms/step - loss: 0.0116 - val_loss: 0.0221 - lr: 0.0010\n",
            "Epoch 14/100\n",
            "9/9 [==============================] - 0s 14ms/step - loss: 0.0111 - val_loss: 0.0224 - lr: 0.0010\n",
            "Epoch 15/100\n",
            "9/9 [==============================] - 0s 16ms/step - loss: 0.0109 - val_loss: 0.0248 - lr: 0.0010\n",
            "Epoch 16/100\n",
            "9/9 [==============================] - 0s 14ms/step - loss: 0.0106 - val_loss: 0.0211 - lr: 0.0010\n",
            "Epoch 17/100\n",
            "9/9 [==============================] - 0s 15ms/step - loss: 0.0106 - val_loss: 0.0218 - lr: 0.0010\n",
            "Epoch 18/100\n",
            "9/9 [==============================] - 0s 15ms/step - loss: 0.0103 - val_loss: 0.0204 - lr: 0.0010\n",
            "Epoch 19/100\n",
            "9/9 [==============================] - 0s 14ms/step - loss: 0.0102 - val_loss: 0.0201 - lr: 0.0010\n",
            "Epoch 20/100\n",
            "9/9 [==============================] - 0s 13ms/step - loss: 0.0100 - val_loss: 0.0195 - lr: 0.0010\n",
            "Epoch 21/100\n",
            "9/9 [==============================] - 0s 16ms/step - loss: 0.0100 - val_loss: 0.0191 - lr: 0.0010\n",
            "Epoch 22/100\n",
            "9/9 [==============================] - 0s 13ms/step - loss: 0.0101 - val_loss: 0.0196 - lr: 0.0010\n",
            "Epoch 23/100\n",
            "9/9 [==============================] - 0s 15ms/step - loss: 0.0103 - val_loss: 0.0180 - lr: 0.0010\n",
            "Epoch 24/100\n",
            "9/9 [==============================] - 0s 14ms/step - loss: 0.0103 - val_loss: 0.0183 - lr: 0.0010\n",
            "Epoch 25/100\n",
            "9/9 [==============================] - 0s 16ms/step - loss: 0.0104 - val_loss: 0.0190 - lr: 0.0010\n",
            "Epoch 26/100\n",
            "9/9 [==============================] - 0s 15ms/step - loss: 0.0096 - val_loss: 0.0173 - lr: 0.0010\n"
          ]
        }
      ]
    },
    {
      "cell_type": "code",
      "source": [
        "#Print model summary\n",
        "model_1_MSforecast.summary()"
      ],
      "metadata": {
        "colab": {
          "base_uri": "https://localhost:8080/"
        },
        "id": "jAOSpGuRSFDQ",
        "outputId": "5bbb7267-f4ce-4bac-c4f8-c81d9ba83864"
      },
      "execution_count": 35,
      "outputs": [
        {
          "output_type": "stream",
          "name": "stdout",
          "text": [
            "Model: \"sequential_3\"\n",
            "_________________________________________________________________\n",
            " Layer (type)                Output Shape              Param #   \n",
            "=================================================================\n",
            " lstm_5 (LSTM)               (None, 50)                10800     \n",
            "                                                                 \n",
            " dense_3 (Dense)             (None, 12)                612       \n",
            "                                                                 \n",
            "=================================================================\n",
            "Total params: 11,412\n",
            "Trainable params: 11,412\n",
            "Non-trainable params: 0\n",
            "_________________________________________________________________\n"
          ]
        }
      ]
    },
    {
      "cell_type": "code",
      "source": [
        "#Plot the evolution of the training and validation loss\n",
        "plt.plot(history_1.history[\"loss\"])\n",
        "plt.plot(history_1.history[\"val_loss\"])\n",
        "plt.title(\"Model loss\")\n",
        "plt.ylabel(\"loss\")\n",
        "plt.xlabel(\"epoch\")\n",
        "plt.legend([\"train loss\", \"validation loss\"], loc=\"upper left\")\n",
        "plt.rcParams[\"figure.figsize\"] = [16,9]\n",
        "plt.show()"
      ],
      "metadata": {
        "colab": {
          "base_uri": "https://localhost:8080/",
          "height": 567
        },
        "id": "UGln8X7gSGXo",
        "outputId": "a4da4cc1-120d-4e3f-e310-2aa1ab872144"
      },
      "execution_count": 36,
      "outputs": [
        {
          "output_type": "display_data",
          "data": {
            "text/plain": [
              "<Figure size 1152x648 with 1 Axes>"
            ],
            "image/png": "[encoded data removed]"
          },
          "metadata": {
            "needs_background": "light"
          }
        }
      ]
    },
    {
      "cell_type": "code",
      "source": [
        "#Make predictions\n",
        "trainPredict_1 = model_1_MSforecast.predict(trainX)\n",
        "\n",
        "#Escale-back the values to compared them agains the original values\n",
        "trainPredict_1 = scaler_DFF.inverse_transform(trainPredict_1)\n",
        "\n",
        "#Print evaluation metrics\n",
        "model_evualuation_metrics(trainY, trainPredict_1)"
      ],
      "metadata": {
        "colab": {
          "base_uri": "https://localhost:8080/"
        },
        "id": "JUsF1V4JSH3A",
        "outputId": "51f3dff5-8e87-40e5-80b8-55fa29b8838d"
      },
      "execution_count": 37,
      "outputs": [
        {
          "output_type": "stream",
          "name": "stdout",
          "text": [
            "Model MAE: 5.23\n",
            "Model MSE: 32.48\n",
            "Model RMSE: 5.70\n",
            "Model R2: -876.75\n"
          ]
        }
      ]
    },
    {
      "cell_type": "markdown",
      "source": [
        "### **3.3 Prediction validation data**"
      ],
      "metadata": {
        "id": "8_UnPME_SJcZ"
      }
    },
    {
      "cell_type": "code",
      "source": [
        "#Get the last 12 values for the training set to predict validation data\n",
        "initial_data = final_np_scaled[-sliding_window:]\n",
        "initial_data = initial_data.reshape(1, sliding_window, 3) #Reshap"
      ],
      "metadata": {
        "id": "rXT12qFaSKjf"
      },
      "execution_count": 38,
      "outputs": []
    },
    {
      "cell_type": "code",
      "source": [
        "#Make predictions\n",
        "trainPredict_1_MSforecast = model_1_MSforecast.predict(initial_data)\n",
        "\n",
        "#Escale-back the values to compared them agains the original values\n",
        "prediction_new_MultiStep = scaler_DFF.inverse_transform(trainPredict_1_MSforecast)"
      ],
      "metadata": {
        "id": "H5ucpuKhSL_L"
      },
      "execution_count": 39,
      "outputs": []
    },
    {
      "cell_type": "code",
      "source": [
        "#Convine predicted and original validation values\n",
        "df_trainY_val_MultiStep = prediction_new_MultiStep.ravel()\n",
        "df_validation.insert(1, \"DFF_Pred_MUltiStep\", df_trainY_val_MultiStep)\n",
        "df_validation"
      ],
      "metadata": {
        "colab": {
          "base_uri": "https://localhost:8080/",
          "height": 457
        },
        "id": "NwA4_WSCSNOy",
        "outputId": "df64d443-9a89-4aec-f7e8-8e7bec1c0cf5"
      },
      "execution_count": 40,
      "outputs": [
        {
          "output_type": "execute_result",
          "data": {
            "text/plain": [
              "             DFF  DFF_Pred_MUltiStep  UNRATE  CPIU\n",
              "DATE                                              \n",
              "2021-07-01  0.10            2.750732     5.4  5.37\n",
              "2021-08-01  0.09            3.097193     5.2  5.25\n",
              "2021-09-01  0.08            2.801743     4.7  5.39\n",
              "2021-10-01  0.08            2.474051     4.6  6.22\n",
              "2021-11-01  0.08            3.360018     4.2  6.81\n",
              "2021-12-01  0.08            3.552549     3.9  7.04\n",
              "2022-01-01  0.08            4.313427     4.0  7.48\n",
              "2022-02-01  0.08            3.548975     3.8  7.87\n",
              "2022-03-01  0.20            3.731188     3.6  8.54\n",
              "2022-04-01  0.33            3.513271     3.6  8.26\n",
              "2022-05-01  0.77            3.383790     3.6  8.58\n",
              "2022-06-01  1.20            3.363846     3.6  9.10"
            ],
            "text/html": [
              "\n",
              "  <div id=\"df-46059935-a392-442c-9199-dc11352b5c90\">\n",
              "    <div class=\"colab-df-container\">\n",
              "      <div>\n",
              "<style scoped>\n",
              "    .dataframe tbody tr th:only-of-type {\n",
              "        vertical-align: middle;\n",
              "    }\n",
              "\n",
              "    .dataframe tbody tr th {\n",
              "        vertical-align: top;\n",
              "    }\n",
              "\n",
              "    .dataframe thead th {\n",
              "        text-align: right;\n",
              "    }\n",
              "</style>\n",
              "<table border=\"1\" class=\"dataframe\">\n",
              "  <thead>\n",
              "    <tr style=\"text-align: right;\">\n",
              "      <th></th>\n",
              "      <th>DFF</th>\n",
              "      <th>DFF_Pred_MUltiStep</th>\n",
              "      <th>UNRATE</th>\n",
              "      <th>CPIU</th>\n",
              "    </tr>\n",
              "    <tr>\n",
              "      <th>DATE</th>\n",
              "      <th></th>\n",
              "      <th></th>\n",
              "      <th></th>\n",
              "      <th></th>\n",
              "    </tr>\n",
              "  </thead>\n",
              "  <tbody>\n",
              "    <tr>\n",
              "      <th>2021-07-01</th>\n",
              "      <td>0.10</td>\n",
              "      <td>2.750732</td>\n",
              "      <td>5.4</td>\n",
              "      <td>5.37</td>\n",
              "    </tr>\n",
              "    <tr>\n",
              "      <th>2021-08-01</th>\n",
              "      <td>0.09</td>\n",
              "      <td>3.097193</td>\n",
              "      <td>5.2</td>\n",
              "      <td>5.25</td>\n",
              "    </tr>\n",
              "    <tr>\n",
              "      <th>2021-09-01</th>\n",
              "      <td>0.08</td>\n",
              "      <td>2.801743</td>\n",
              "      <td>4.7</td>\n",
              "      <td>5.39</td>\n",
              "    </tr>\n",
              "    <tr>\n",
              "      <th>2021-10-01</th>\n",
              "      <td>0.08</td>\n",
              "      <td>2.474051</td>\n",
              "      <td>4.6</td>\n",
              "      <td>6.22</td>\n",
              "    </tr>\n",
              "    <tr>\n",
              "      <th>2021-11-01</th>\n",
              "      <td>0.08</td>\n",
              "      <td>3.360018</td>\n",
              "      <td>4.2</td>\n",
              "      <td>6.81</td>\n",
              "    </tr>\n",
              "    <tr>\n",
              "      <th>2021-12-01</th>\n",
              "      <td>0.08</td>\n",
              "      <td>3.552549</td>\n",
              "      <td>3.9</td>\n",
              "      <td>7.04</td>\n",
              "    </tr>\n",
              "    <tr>\n",
              "      <th>2022-01-01</th>\n",
              "      <td>0.08</td>\n",
              "      <td>4.313427</td>\n",
              "      <td>4.0</td>\n",
              "      <td>7.48</td>\n",
              "    </tr>\n",
              "    <tr>\n",
              "      <th>2022-02-01</th>\n",
              "      <td>0.08</td>\n",
              "      <td>3.548975</td>\n",
              "      <td>3.8</td>\n",
              "      <td>7.87</td>\n",
              "    </tr>\n",
              "    <tr>\n",
              "      <th>2022-03-01</th>\n",
              "      <td>0.20</td>\n",
              "      <td>3.731188</td>\n",
              "      <td>3.6</td>\n",
              "      <td>8.54</td>\n",
              "    </tr>\n",
              "    <tr>\n",
              "      <th>2022-04-01</th>\n",
              "      <td>0.33</td>\n",
              "      <td>3.513271</td>\n",
              "      <td>3.6</td>\n",
              "      <td>8.26</td>\n",
              "    </tr>\n",
              "    <tr>\n",
              "      <th>2022-05-01</th>\n",
              "      <td>0.77</td>\n",
              "      <td>3.383790</td>\n",
              "      <td>3.6</td>\n",
              "      <td>8.58</td>\n",
              "    </tr>\n",
              "    <tr>\n",
              "      <th>2022-06-01</th>\n",
              "      <td>1.20</td>\n",
              "      <td>3.363846</td>\n",
              "      <td>3.6</td>\n",
              "      <td>9.10</td>\n",
              "    </tr>\n",
              "  </tbody>\n",
              "</table>\n",
              "</div>\n",
              "      <button class=\"colab-df-convert\" onclick=\"convertToInteractive('df-46059935-a392-442c-9199-dc11352b5c90')\"\n",
              "              title=\"Convert this dataframe to an interactive table.\"\n",
              "              style=\"display:none;\">\n",
              "        \n",
              "  <svg xmlns=\"http://www.w3.org/2000/svg\" height=\"24px\"viewBox=\"0 0 24 24\"\n",
              "       width=\"24px\">\n",
              "    <path d=\"M0 0h24v24H0V0z\" fill=\"none\"/>\n",
              "    <path d=\"M18.56 5.44l.94 2.06.94-2.06 2.06-.94-2.06-.94-.94-2.06-.94 2.06-2.06.94zm-11 1L8.5 8.5l.94-2.06 2.06-.94-2.06-.94L8.5 2.5l-.94 2.06-2.06.94zm10 10l.94 2.06.94-2.06 2.06-.94-2.06-.94-.94-2.06-.94 2.06-2.06.94z\"/><path d=\"M17.41 7.96l-1.37-1.37c-.4-.4-.92-.59-1.43-.59-.52 0-1.04.2-1.43.59L10.3 9.45l-7.72 7.72c-.78.78-.78 2.05 0 2.83L4 21.41c.39.39.9.59 1.41.59.51 0 1.02-.2 1.41-.59l7.78-7.78 2.81-2.81c.8-.78.8-2.07 0-2.86zM5.41 20L4 18.59l7.72-7.72 1.47 1.35L5.41 20z\"/>\n",
              "  </svg>\n",
              "      </button>\n",
              "      \n",
              "  <style>\n",
              "    .colab-df-container {\n",
              "      display:flex;\n",
              "      flex-wrap:wrap;\n",
              "      gap: 12px;\n",
              "    }\n",
              "\n",
              "    .colab-df-convert {\n",
              "      background-color: #E8F0FE;\n",
              "      border: none;\n",
              "      border-radius: 50%;\n",
              "      cursor: pointer;\n",
              "      display: none;\n",
              "      fill: #1967D2;\n",
              "      height: 32px;\n",
              "      padding: 0 0 0 0;\n",
              "      width: 32px;\n",
              "    }\n",
              "\n",
              "    .colab-df-convert:hover {\n",
              "      background-color: #E2EBFA;\n",
              "      box-shadow: 0px 1px 2px rgba(60, 64, 67, 0.3), 0px 1px 3px 1px rgba(60, 64, 67, 0.15);\n",
              "      fill: #174EA6;\n",
              "    }\n",
              "\n",
              "    [theme=dark] .colab-df-convert {\n",
              "      background-color: #3B4455;\n",
              "      fill: #D2E3FC;\n",
              "    }\n",
              "\n",
              "    [theme=dark] .colab-df-convert:hover {\n",
              "      background-color: #434B5C;\n",
              "      box-shadow: 0px 1px 3px 1px rgba(0, 0, 0, 0.15);\n",
              "      filter: drop-shadow(0px 1px 2px rgba(0, 0, 0, 0.3));\n",
              "      fill: #FFFFFF;\n",
              "    }\n",
              "  </style>\n",
              "\n",
              "      <script>\n",
              "        const buttonEl =\n",
              "          document.querySelector('#df-46059935-a392-442c-9199-dc11352b5c90 button.colab-df-convert');\n",
              "        buttonEl.style.display =\n",
              "          google.colab.kernel.accessAllowed ? 'block' : 'none';\n",
              "\n",
              "        async function convertToInteractive(key) {\n",
              "          const element = document.querySelector('#df-46059935-a392-442c-9199-dc11352b5c90');\n",
              "          const dataTable =\n",
              "            await google.colab.kernel.invokeFunction('convertToInteractive',\n",
              "                                                     [key], {});\n",
              "          if (!dataTable) return;\n",
              "\n",
              "          const docLinkHtml = 'Like what you see? Visit the ' +\n",
              "            '<a target=\"_blank\" href=https://colab.research.google.com/notebooks/data_table.ipynb>data table notebook</a>'\n",
              "            + ' to learn more about interactive tables.';\n",
              "          element.innerHTML = '';\n",
              "          dataTable['output_type'] = 'display_data';\n",
              "          await google.colab.output.renderOutput(dataTable, element);\n",
              "          const docLink = document.createElement('div');\n",
              "          docLink.innerHTML = docLinkHtml;\n",
              "          element.appendChild(docLink);\n",
              "        }\n",
              "      </script>\n",
              "    </div>\n",
              "  </div>\n",
              "  "
            ]
          },
          "metadata": {},
          "execution_count": 40
        }
      ]
    },
    {
      "cell_type": "code",
      "source": [
        "#Plot validation values and original data from 1996\n",
        "plt.plot(Train_comp.DFF_Original[572:], label= \"Training data from 2006\")\n",
        "plt.plot(Train_comp.DFF_pred_1[572:], label = \"Predicted values from 2006 - Training\")\n",
        "plt.plot(df_validation.DFF, label= \"Original values - Validation\")\n",
        "plt.plot(df_validation.DFF_Pred_MUltiStep, label = \"Predicted values - Validation\")\n",
        "plt.title(\"LSTM Multivariate forecast - Validation\")\n",
        "plt.legend(loc=\"best\")\n",
        "plt.show()"
      ],
      "metadata": {
        "colab": {
          "base_uri": "https://localhost:8080/",
          "height": 553
        },
        "id": "genF6uhSSOwA",
        "outputId": "bb693467-7150-43fc-959c-d290f041aff0"
      },
      "execution_count": 41,
      "outputs": [
        {
          "output_type": "display_data",
          "data": {
            "text/plain": [
              "<Figure size 1152x648 with 1 Axes>"
            ],
            "image/png": "[encoded data removed]"
          },
          "metadata": {
            "needs_background": "light"
          }
        }
      ]
    },
    {
      "cell_type": "code",
      "source": [
        "#Print evaluation metrics\n",
        "model_evualuation_metrics(df_validation.DFF, df_validation.DFF_Pred_MUltiStep)"
      ],
      "metadata": {
        "colab": {
          "base_uri": "https://localhost:8080/"
        },
        "id": "QjJc0hZLSQS3",
        "outputId": "65097e79-b88e-499b-de02-b4abb7f5ee82"
      },
      "execution_count": 42,
      "outputs": [
        {
          "output_type": "stream",
          "name": "stdout",
          "text": [
            "Model MAE: 3.06\n",
            "Model MSE: 9.67\n",
            "Model RMSE: 3.11\n",
            "Model R2: -81.87\n"
          ]
        }
      ]
    },
    {
      "cell_type": "markdown",
      "source": [
        "#**4. Forecast using 7 months lagged predictor**"
      ],
      "metadata": {
        "id": "plwjX9xWSR6_"
      }
    },
    {
      "cell_type": "markdown",
      "source": [
        "## **4.1 Preprocessing data**"
      ],
      "metadata": {
        "id": "VdOCdDBXSTVH"
      }
    },
    {
      "cell_type": "code",
      "source": [
        "#Select DFF and CPIU\n",
        "final_df = final_df.loc[:, [\"DFF\", \"UNRATE\", \"CPIU\"]]\n",
        "final_df"
      ],
      "metadata": {
        "colab": {
          "base_uri": "https://localhost:8080/",
          "height": 455
        },
        "id": "dOVtPs7sSUXo",
        "outputId": "7513cb85-5bff-439c-ee52-08eb3a0ed9b6"
      },
      "execution_count": 43,
      "outputs": [
        {
          "output_type": "execute_result",
          "data": {
            "text/plain": [
              "             DFF  UNRATE  CPIU\n",
              "DATE                          \n",
              "1958-01-01  2.72     5.8  3.62\n",
              "1958-02-01  1.67     6.4  3.25\n",
              "1958-03-01  1.20     6.7  3.60\n",
              "1958-04-01  1.26     7.4  3.58\n",
              "1958-05-01  0.63     7.4  3.21\n",
              "...          ...     ...   ...\n",
              "2022-02-01  0.08     3.8  7.87\n",
              "2022-03-01  0.20     3.6  8.54\n",
              "2022-04-01  0.33     3.6  8.26\n",
              "2022-05-01  0.77     3.6  8.58\n",
              "2022-06-01  1.20     3.6  9.10\n",
              "\n",
              "[774 rows x 3 columns]"
            ],
            "text/html": [
              "\n",
              "  <div id=\"df-4acad7a2-2c99-485d-a4ee-f631e867ddb7\">\n",
              "    <div class=\"colab-df-container\">\n",
              "      <div>\n",
              "<style scoped>\n",
              "    .dataframe tbody tr th:only-of-type {\n",
              "        vertical-align: middle;\n",
              "    }\n",
              "\n",
              "    .dataframe tbody tr th {\n",
              "        vertical-align: top;\n",
              "    }\n",
              "\n",
              "    .dataframe thead th {\n",
              "        text-align: right;\n",
              "    }\n",
              "</style>\n",
              "<table border=\"1\" class=\"dataframe\">\n",
              "  <thead>\n",
              "    <tr style=\"text-align: right;\">\n",
              "      <th></th>\n",
              "      <th>DFF</th>\n",
              "      <th>UNRATE</th>\n",
              "      <th>CPIU</th>\n",
              "    </tr>\n",
              "    <tr>\n",
              "      <th>DATE</th>\n",
              "      <th></th>\n",
              "      <th></th>\n",
              "      <th></th>\n",
              "    </tr>\n",
              "  </thead>\n",
              "  <tbody>\n",
              "    <tr>\n",
              "      <th>1958-01-01</th>\n",
              "      <td>2.72</td>\n",
              "      <td>5.8</td>\n",
              "      <td>3.62</td>\n",
              "    </tr>\n",
              "    <tr>\n",
              "      <th>1958-02-01</th>\n",
              "      <td>1.67</td>\n",
              "      <td>6.4</td>\n",
              "      <td>3.25</td>\n",
              "    </tr>\n",
              "    <tr>\n",
              "      <th>1958-03-01</th>\n",
              "      <td>1.20</td>\n",
              "      <td>6.7</td>\n",
              "      <td>3.60</td>\n",
              "    </tr>\n",
              "    <tr>\n",
              "      <th>1958-04-01</th>\n",
              "      <td>1.26</td>\n",
              "      <td>7.4</td>\n",
              "      <td>3.58</td>\n",
              "    </tr>\n",
              "    <tr>\n",
              "      <th>1958-05-01</th>\n",
              "      <td>0.63</td>\n",
              "      <td>7.4</td>\n",
              "      <td>3.21</td>\n",
              "    </tr>\n",
              "    <tr>\n",
              "      <th>...</th>\n",
              "      <td>...</td>\n",
              "      <td>...</td>\n",
              "      <td>...</td>\n",
              "    </tr>\n",
              "    <tr>\n",
              "      <th>2022-02-01</th>\n",
              "      <td>0.08</td>\n",
              "      <td>3.8</td>\n",
              "      <td>7.87</td>\n",
              "    </tr>\n",
              "    <tr>\n",
              "      <th>2022-03-01</th>\n",
              "      <td>0.20</td>\n",
              "      <td>3.6</td>\n",
              "      <td>8.54</td>\n",
              "    </tr>\n",
              "    <tr>\n",
              "      <th>2022-04-01</th>\n",
              "      <td>0.33</td>\n",
              "      <td>3.6</td>\n",
              "      <td>8.26</td>\n",
              "    </tr>\n",
              "    <tr>\n",
              "      <th>2022-05-01</th>\n",
              "      <td>0.77</td>\n",
              "      <td>3.6</td>\n",
              "      <td>8.58</td>\n",
              "    </tr>\n",
              "    <tr>\n",
              "      <th>2022-06-01</th>\n",
              "      <td>1.20</td>\n",
              "      <td>3.6</td>\n",
              "      <td>9.10</td>\n",
              "    </tr>\n",
              "  </tbody>\n",
              "</table>\n",
              "<p>774 rows × 3 columns</p>\n",
              "</div>\n",
              "      <button class=\"colab-df-convert\" onclick=\"convertToInteractive('df-4acad7a2-2c99-485d-a4ee-f631e867ddb7')\"\n",
              "              title=\"Convert this dataframe to an interactive table.\"\n",
              "              style=\"display:none;\">\n",
              "        \n",
              "  <svg xmlns=\"http://www.w3.org/2000/svg\" height=\"24px\"viewBox=\"0 0 24 24\"\n",
              "       width=\"24px\">\n",
              "    <path d=\"M0 0h24v24H0V0z\" fill=\"none\"/>\n",
              "    <path d=\"M18.56 5.44l.94 2.06.94-2.06 2.06-.94-2.06-.94-.94-2.06-.94 2.06-2.06.94zm-11 1L8.5 8.5l.94-2.06 2.06-.94-2.06-.94L8.5 2.5l-.94 2.06-2.06.94zm10 10l.94 2.06.94-2.06 2.06-.94-2.06-.94-.94-2.06-.94 2.06-2.06.94z\"/><path d=\"M17.41 7.96l-1.37-1.37c-.4-.4-.92-.59-1.43-.59-.52 0-1.04.2-1.43.59L10.3 9.45l-7.72 7.72c-.78.78-.78 2.05 0 2.83L4 21.41c.39.39.9.59 1.41.59.51 0 1.02-.2 1.41-.59l7.78-7.78 2.81-2.81c.8-.78.8-2.07 0-2.86zM5.41 20L4 18.59l7.72-7.72 1.47 1.35L5.41 20z\"/>\n",
              "  </svg>\n",
              "      </button>\n",
              "      \n",
              "  <style>\n",
              "    .colab-df-container {\n",
              "      display:flex;\n",
              "      flex-wrap:wrap;\n",
              "      gap: 12px;\n",
              "    }\n",
              "\n",
              "    .colab-df-convert {\n",
              "      background-color: #E8F0FE;\n",
              "      border: none;\n",
              "      border-radius: 50%;\n",
              "      cursor: pointer;\n",
              "      display: none;\n",
              "      fill: #1967D2;\n",
              "      height: 32px;\n",
              "      padding: 0 0 0 0;\n",
              "      width: 32px;\n",
              "    }\n",
              "\n",
              "    .colab-df-convert:hover {\n",
              "      background-color: #E2EBFA;\n",
              "      box-shadow: 0px 1px 2px rgba(60, 64, 67, 0.3), 0px 1px 3px 1px rgba(60, 64, 67, 0.15);\n",
              "      fill: #174EA6;\n",
              "    }\n",
              "\n",
              "    [theme=dark] .colab-df-convert {\n",
              "      background-color: #3B4455;\n",
              "      fill: #D2E3FC;\n",
              "    }\n",
              "\n",
              "    [theme=dark] .colab-df-convert:hover {\n",
              "      background-color: #434B5C;\n",
              "      box-shadow: 0px 1px 3px 1px rgba(0, 0, 0, 0.15);\n",
              "      filter: drop-shadow(0px 1px 2px rgba(0, 0, 0, 0.3));\n",
              "      fill: #FFFFFF;\n",
              "    }\n",
              "  </style>\n",
              "\n",
              "      <script>\n",
              "        const buttonEl =\n",
              "          document.querySelector('#df-4acad7a2-2c99-485d-a4ee-f631e867ddb7 button.colab-df-convert');\n",
              "        buttonEl.style.display =\n",
              "          google.colab.kernel.accessAllowed ? 'block' : 'none';\n",
              "\n",
              "        async function convertToInteractive(key) {\n",
              "          const element = document.querySelector('#df-4acad7a2-2c99-485d-a4ee-f631e867ddb7');\n",
              "          const dataTable =\n",
              "            await google.colab.kernel.invokeFunction('convertToInteractive',\n",
              "                                                     [key], {});\n",
              "          if (!dataTable) return;\n",
              "\n",
              "          const docLinkHtml = 'Like what you see? Visit the ' +\n",
              "            '<a target=\"_blank\" href=https://colab.research.google.com/notebooks/data_table.ipynb>data table notebook</a>'\n",
              "            + ' to learn more about interactive tables.';\n",
              "          element.innerHTML = '';\n",
              "          dataTable['output_type'] = 'display_data';\n",
              "          await google.colab.output.renderOutput(dataTable, element);\n",
              "          const docLink = document.createElement('div');\n",
              "          docLink.innerHTML = docLinkHtml;\n",
              "          element.appendChild(docLink);\n",
              "        }\n",
              "      </script>\n",
              "    </div>\n",
              "  </div>\n",
              "  "
            ]
          },
          "metadata": {},
          "execution_count": 43
        }
      ]
    },
    {
      "cell_type": "code",
      "source": [
        "#Convert the DFF column into a np array and remove the last 7 values\n",
        "DFF_Adj_7M = final_df[\"DFF\"].values\n",
        "DFF_Adj_7M = DFF_Adj_7M[:-7]\n",
        "\n",
        "#Remove the first 7 observations of final_df_7M\n",
        "final_df_7M_Adj = final_df.iloc[7:]\n",
        "final_df_7M_Adj = final_df_7M_Adj.drop(columns=[\"DFF\"])\n",
        "final_df_7M_Adj\n",
        "\n",
        "#Combine1 predicted and original validation values\n",
        "final_df_7M_Adj.insert(0, \"DFF\", DFF_Adj_7M)\n",
        "final_df_7M_Adj"
      ],
      "metadata": {
        "colab": {
          "base_uri": "https://localhost:8080/",
          "height": 455
        },
        "id": "UO9YWhk0SWOf",
        "outputId": "e2235811-e6bb-485e-980b-479496cb5d3e"
      },
      "execution_count": 44,
      "outputs": [
        {
          "output_type": "execute_result",
          "data": {
            "text/plain": [
              "             DFF  UNRATE  CPIU\n",
              "DATE                          \n",
              "1958-08-01  2.72     7.4  2.12\n",
              "1958-09-01  1.67     7.1  2.12\n",
              "1958-10-01  1.20     6.7  2.12\n",
              "1958-11-01  1.26     6.2  2.11\n",
              "1958-12-01  0.63     6.2  1.76\n",
              "...          ...     ...   ...\n",
              "2022-02-01  0.10     3.8  7.87\n",
              "2022-03-01  0.09     3.6  8.54\n",
              "2022-04-01  0.08     3.6  8.26\n",
              "2022-05-01  0.08     3.6  8.58\n",
              "2022-06-01  0.08     3.6  9.10\n",
              "\n",
              "[767 rows x 3 columns]"
            ],
            "text/html": [
              "\n",
              "  <div id=\"df-e247128f-3b26-4a8c-b35c-e34b80cf2333\">\n",
              "    <div class=\"colab-df-container\">\n",
              "      <div>\n",
              "<style scoped>\n",
              "    .dataframe tbody tr th:only-of-type {\n",
              "        vertical-align: middle;\n",
              "    }\n",
              "\n",
              "    .dataframe tbody tr th {\n",
              "        vertical-align: top;\n",
              "    }\n",
              "\n",
              "    .dataframe thead th {\n",
              "        text-align: right;\n",
              "    }\n",
              "</style>\n",
              "<table border=\"1\" class=\"dataframe\">\n",
              "  <thead>\n",
              "    <tr style=\"text-align: right;\">\n",
              "      <th></th>\n",
              "      <th>DFF</th>\n",
              "      <th>UNRATE</th>\n",
              "      <th>CPIU</th>\n",
              "    </tr>\n",
              "    <tr>\n",
              "      <th>DATE</th>\n",
              "      <th></th>\n",
              "      <th></th>\n",
              "      <th></th>\n",
              "    </tr>\n",
              "  </thead>\n",
              "  <tbody>\n",
              "    <tr>\n",
              "      <th>1958-08-01</th>\n",
              "      <td>2.72</td>\n",
              "      <td>7.4</td>\n",
              "      <td>2.12</td>\n",
              "    </tr>\n",
              "    <tr>\n",
              "      <th>1958-09-01</th>\n",
              "      <td>1.67</td>\n",
              "      <td>7.1</td>\n",
              "      <td>2.12</td>\n",
              "    </tr>\n",
              "    <tr>\n",
              "      <th>1958-10-01</th>\n",
              "      <td>1.20</td>\n",
              "      <td>6.7</td>\n",
              "      <td>2.12</td>\n",
              "    </tr>\n",
              "    <tr>\n",
              "      <th>1958-11-01</th>\n",
              "      <td>1.26</td>\n",
              "      <td>6.2</td>\n",
              "      <td>2.11</td>\n",
              "    </tr>\n",
              "    <tr>\n",
              "      <th>1958-12-01</th>\n",
              "      <td>0.63</td>\n",
              "      <td>6.2</td>\n",
              "      <td>1.76</td>\n",
              "    </tr>\n",
              "    <tr>\n",
              "      <th>...</th>\n",
              "      <td>...</td>\n",
              "      <td>...</td>\n",
              "      <td>...</td>\n",
              "    </tr>\n",
              "    <tr>\n",
              "      <th>2022-02-01</th>\n",
              "      <td>0.10</td>\n",
              "      <td>3.8</td>\n",
              "      <td>7.87</td>\n",
              "    </tr>\n",
              "    <tr>\n",
              "      <th>2022-03-01</th>\n",
              "      <td>0.09</td>\n",
              "      <td>3.6</td>\n",
              "      <td>8.54</td>\n",
              "    </tr>\n",
              "    <tr>\n",
              "      <th>2022-04-01</th>\n",
              "      <td>0.08</td>\n",
              "      <td>3.6</td>\n",
              "      <td>8.26</td>\n",
              "    </tr>\n",
              "    <tr>\n",
              "      <th>2022-05-01</th>\n",
              "      <td>0.08</td>\n",
              "      <td>3.6</td>\n",
              "      <td>8.58</td>\n",
              "    </tr>\n",
              "    <tr>\n",
              "      <th>2022-06-01</th>\n",
              "      <td>0.08</td>\n",
              "      <td>3.6</td>\n",
              "      <td>9.10</td>\n",
              "    </tr>\n",
              "  </tbody>\n",
              "</table>\n",
              "<p>767 rows × 3 columns</p>\n",
              "</div>\n",
              "      <button class=\"colab-df-convert\" onclick=\"convertToInteractive('df-e247128f-3b26-4a8c-b35c-e34b80cf2333')\"\n",
              "              title=\"Convert this dataframe to an interactive table.\"\n",
              "              style=\"display:none;\">\n",
              "        \n",
              "  <svg xmlns=\"http://www.w3.org/2000/svg\" height=\"24px\"viewBox=\"0 0 24 24\"\n",
              "       width=\"24px\">\n",
              "    <path d=\"M0 0h24v24H0V0z\" fill=\"none\"/>\n",
              "    <path d=\"M18.56 5.44l.94 2.06.94-2.06 2.06-.94-2.06-.94-.94-2.06-.94 2.06-2.06.94zm-11 1L8.5 8.5l.94-2.06 2.06-.94-2.06-.94L8.5 2.5l-.94 2.06-2.06.94zm10 10l.94 2.06.94-2.06 2.06-.94-2.06-.94-.94-2.06-.94 2.06-2.06.94z\"/><path d=\"M17.41 7.96l-1.37-1.37c-.4-.4-.92-.59-1.43-.59-.52 0-1.04.2-1.43.59L10.3 9.45l-7.72 7.72c-.78.78-.78 2.05 0 2.83L4 21.41c.39.39.9.59 1.41.59.51 0 1.02-.2 1.41-.59l7.78-7.78 2.81-2.81c.8-.78.8-2.07 0-2.86zM5.41 20L4 18.59l7.72-7.72 1.47 1.35L5.41 20z\"/>\n",
              "  </svg>\n",
              "      </button>\n",
              "      \n",
              "  <style>\n",
              "    .colab-df-container {\n",
              "      display:flex;\n",
              "      flex-wrap:wrap;\n",
              "      gap: 12px;\n",
              "    }\n",
              "\n",
              "    .colab-df-convert {\n",
              "      background-color: #E8F0FE;\n",
              "      border: none;\n",
              "      border-radius: 50%;\n",
              "      cursor: pointer;\n",
              "      display: none;\n",
              "      fill: #1967D2;\n",
              "      height: 32px;\n",
              "      padding: 0 0 0 0;\n",
              "      width: 32px;\n",
              "    }\n",
              "\n",
              "    .colab-df-convert:hover {\n",
              "      background-color: #E2EBFA;\n",
              "      box-shadow: 0px 1px 2px rgba(60, 64, 67, 0.3), 0px 1px 3px 1px rgba(60, 64, 67, 0.15);\n",
              "      fill: #174EA6;\n",
              "    }\n",
              "\n",
              "    [theme=dark] .colab-df-convert {\n",
              "      background-color: #3B4455;\n",
              "      fill: #D2E3FC;\n",
              "    }\n",
              "\n",
              "    [theme=dark] .colab-df-convert:hover {\n",
              "      background-color: #434B5C;\n",
              "      box-shadow: 0px 1px 3px 1px rgba(0, 0, 0, 0.15);\n",
              "      filter: drop-shadow(0px 1px 2px rgba(0, 0, 0, 0.3));\n",
              "      fill: #FFFFFF;\n",
              "    }\n",
              "  </style>\n",
              "\n",
              "      <script>\n",
              "        const buttonEl =\n",
              "          document.querySelector('#df-e247128f-3b26-4a8c-b35c-e34b80cf2333 button.colab-df-convert');\n",
              "        buttonEl.style.display =\n",
              "          google.colab.kernel.accessAllowed ? 'block' : 'none';\n",
              "\n",
              "        async function convertToInteractive(key) {\n",
              "          const element = document.querySelector('#df-e247128f-3b26-4a8c-b35c-e34b80cf2333');\n",
              "          const dataTable =\n",
              "            await google.colab.kernel.invokeFunction('convertToInteractive',\n",
              "                                                     [key], {});\n",
              "          if (!dataTable) return;\n",
              "\n",
              "          const docLinkHtml = 'Like what you see? Visit the ' +\n",
              "            '<a target=\"_blank\" href=https://colab.research.google.com/notebooks/data_table.ipynb>data table notebook</a>'\n",
              "            + ' to learn more about interactive tables.';\n",
              "          element.innerHTML = '';\n",
              "          dataTable['output_type'] = 'display_data';\n",
              "          await google.colab.output.renderOutput(dataTable, element);\n",
              "          const docLink = document.createElement('div');\n",
              "          docLink.innerHTML = docLinkHtml;\n",
              "          element.appendChild(docLink);\n",
              "        }\n",
              "      </script>\n",
              "    </div>\n",
              "  </div>\n",
              "  "
            ]
          },
          "metadata": {},
          "execution_count": 44
        }
      ]
    },
    {
      "cell_type": "code",
      "source": [
        "#Create training, test and validation partitions for plotting\n",
        "#Validation set \n",
        "df_validation_7M = final_df_7M_Adj.iloc[-12:]\n",
        "\n",
        "#Remove the 12 observations for validation and split remaining into train and test (70% - 30%)\n",
        "final_df_7M_Adj = final_df_7M_Adj[:-12]\n",
        "\n",
        "#Create train and test data sets\n",
        "train_size = int(len(final_df_7M_Adj) * 0.7)\n",
        "test_size = len(final_df_7M_Adj) - train_size\n",
        "df_train, df_test = final_df_7M_Adj[0:train_size], final_df_7M_Adj[train_size:len(final_df_7M_Adj)]\n",
        "\n",
        "#Print the shape of train test and validation sets\n",
        "print(\"df_train shape is {}\".format(df_train.shape))\n",
        "print(\"df_test shape is {}\".format(df_test.shape))\n",
        "print(\"df_validation shape is {}\".format(df_validation_7M.shape))"
      ],
      "metadata": {
        "colab": {
          "base_uri": "https://localhost:8080/"
        },
        "id": "ji-p7r_PSYi3",
        "outputId": "2cf7075a-9ac1-464d-dc0f-36b02c4e5731"
      },
      "execution_count": 45,
      "outputs": [
        {
          "output_type": "stream",
          "name": "stdout",
          "text": [
            "df_train shape is (528, 3)\n",
            "df_test shape is (227, 3)\n",
            "df_validation shape is (12, 3)\n"
          ]
        }
      ]
    },
    {
      "cell_type": "code",
      "source": [
        "#Save date for plotting, ignore the first 12 as they are burn predicting the first value\n",
        "train_dates = pd.to_datetime(final_df_7M_Adj.index[12:774])\n",
        "\n",
        "#Convert each variable to a numpy array\n",
        "DFF_val = final_df_7M_Adj[\"DFF\"].values\n",
        "UNRATED_val = final_df_7M_Adj[\"UNRATE\"].values\n",
        "CPIU_val = final_df_7M_Adj[\"CPIU\"].values\n",
        "\n",
        "#Reshape the structure of the numpy arrays to (rows, columns)\n",
        "DFF_val = DFF_val.reshape((len(DFF_val), 1))\n",
        "UNRATED_val = UNRATED_val.reshape((len(UNRATED_val), 1))\n",
        "CPIU_val = CPIU_val.reshape((len(CPIU_val), 1))\n",
        "\n",
        "#Check the shape of the previous three variables\n",
        "print(\"DFF_val shape is {}.\".format(DFF_val.shape))\n",
        "print(\"UNRATED_val shape is {}.\".format(UNRATED_val.shape))\n",
        "print(\"CPIU_val shape is {}\".format(CPIU_val.shape))"
      ],
      "metadata": {
        "colab": {
          "base_uri": "https://localhost:8080/"
        },
        "id": "3E1DSdtISaWn",
        "outputId": "642192d0-0f3d-464e-c204-62a40e0379cc"
      },
      "execution_count": 46,
      "outputs": [
        {
          "output_type": "stream",
          "name": "stdout",
          "text": [
            "DFF_val shape is (755, 1).\n",
            "UNRATED_val shape is (755, 1).\n",
            "CPIU_val shape is (755, 1)\n"
          ]
        }
      ]
    },
    {
      "cell_type": "code",
      "source": [
        "#Scale variables individually\n",
        "\n",
        "#Apply StandardScaler to escale the data between 0 and 1 \n",
        "scaler_DFF = MinMaxScaler()\n",
        "DFF_scaled = scaler_DFF.fit_transform(DFF_val)\n",
        "\n",
        "scaler_UNRATED = MinMaxScaler()\n",
        "UNRATED_scaled = scaler_UNRATED.fit_transform(UNRATED_val)\n",
        "\n",
        "scaler_CPIU = MinMaxScaler()\n",
        "CPIU_scaled = scaler_CPIU.fit_transform(CPIU_val)\n",
        "\n",
        "#Combine the three numpy arrays\n",
        "final_np_scaled = np.hstack((DFF_scaled, UNRATED_scaled, CPIU_scaled))\n",
        "print(\"final_np_scaled shape == {}\".format(final_np_scaled.shape))"
      ],
      "metadata": {
        "colab": {
          "base_uri": "https://localhost:8080/"
        },
        "id": "4YeGow2BScG3",
        "outputId": "05f09b5d-47a1-469d-a5b3-c6434d624f0f"
      },
      "execution_count": 47,
      "outputs": [
        {
          "output_type": "stream",
          "name": "stdout",
          "text": [
            "final_np_scaled shape == (755, 3)\n"
          ]
        }
      ]
    },
    {
      "cell_type": "code",
      "source": [
        "#Sequence adjustment parameters\n",
        "sliding_window = 12\n",
        "forecast_values = 12\n",
        "n_features = 3"
      ],
      "metadata": {
        "id": "ua-QpDxDSdZQ"
      },
      "execution_count": 48,
      "outputs": []
    },
    {
      "cell_type": "code",
      "source": [
        "#Create X and Y train data sets\n",
        "trainX, trainY = TS_LST_Multivarite_prep(final_np_scaled, sliding_window, forecast_values)\n",
        "\n",
        "#Check the shape of trainX and trainY\n",
        "print('trainX shape is {}.'.format(trainX.shape))\n",
        "print('trainY shape is {}.'.format(trainY.shape))"
      ],
      "metadata": {
        "colab": {
          "base_uri": "https://localhost:8080/"
        },
        "id": "wCq2RqDdSey4",
        "outputId": "4b0b4e0e-2fa5-436b-f4f8-d59ed646ac98"
      },
      "execution_count": 49,
      "outputs": [
        {
          "output_type": "stream",
          "name": "stdout",
          "text": [
            "trainX shape is (732, 12, 3).\n",
            "trainY shape is (732, 12).\n"
          ]
        }
      ]
    },
    {
      "cell_type": "markdown",
      "source": [
        "## **4.2 Multivariate model multi-step forecast**"
      ],
      "metadata": {
        "id": "u5Klm15kSgTY"
      }
    },
    {
      "cell_type": "code",
      "source": [
        "#Model_1 components\n",
        "model_1_MSforecast =Sequential()\n",
        "model_1_MSforecast.add(LSTM(50, activation=\"relu\"))\n",
        "model_1_MSforecast.add(Dense(forecast_values))\n",
        "model_1_MSforecast.compile(loss='mean_squared_error', optimizer=\"adam\")"
      ],
      "metadata": {
        "id": "T5hwVumXSgn3"
      },
      "execution_count": 50,
      "outputs": []
    },
    {
      "cell_type": "code",
      "source": [
        "#Fit the model_2 applying same call bancks\n",
        "history_1 = model_1_MSforecast.fit(trainX, \n",
        "                                   trainY, \n",
        "                                   validation_split=0.3, \n",
        "                                   epochs=100, \n",
        "                                   batch_size=64, \n",
        "                                   verbose=1, \n",
        "                                   callbacks=[early_stop_CB,decrease_learning_rate_CB])"
      ],
      "metadata": {
        "colab": {
          "base_uri": "https://localhost:8080/"
        },
        "id": "KRGRDzjgSjHo",
        "outputId": "00d1ee8a-7c80-47ef-e5c5-f164040506fe"
      },
      "execution_count": 51,
      "outputs": [
        {
          "output_type": "stream",
          "name": "stdout",
          "text": [
            "Epoch 1/100\n",
            "8/8 [==============================] - 2s 66ms/step - loss: 0.1324 - val_loss: 0.0095 - lr: 0.0010\n",
            "Epoch 2/100\n",
            "8/8 [==============================] - 0s 14ms/step - loss: 0.1062 - val_loss: 0.0092 - lr: 0.0010\n",
            "Epoch 3/100\n",
            "8/8 [==============================] - 0s 13ms/step - loss: 0.0719 - val_loss: 0.0190 - lr: 0.0010\n",
            "Epoch 4/100\n",
            "8/8 [==============================] - 0s 14ms/step - loss: 0.0369 - val_loss: 0.0554 - lr: 0.0010\n",
            "Epoch 5/100\n",
            "8/8 [==============================] - 0s 14ms/step - loss: 0.0220 - val_loss: 0.0400 - lr: 0.0010\n",
            "Epoch 6/100\n",
            "8/8 [==============================] - 0s 14ms/step - loss: 0.0147 - val_loss: 0.0360 - lr: 0.0010\n",
            "Epoch 7/100\n",
            "8/8 [==============================] - 0s 14ms/step - loss: 0.0133 - val_loss: 0.0397 - lr: 0.0010\n",
            "Epoch 8/100\n",
            "8/8 [==============================] - 0s 13ms/step - loss: 0.0121 - val_loss: 0.0331 - lr: 0.0010\n",
            "Epoch 9/100\n",
            "8/8 [==============================] - 0s 15ms/step - loss: 0.0110 - val_loss: 0.0303 - lr: 0.0010\n",
            "Epoch 10/100\n",
            "8/8 [==============================] - 0s 13ms/step - loss: 0.0104 - val_loss: 0.0272 - lr: 0.0010\n",
            "Epoch 11/100\n",
            "8/8 [==============================] - 0s 17ms/step - loss: 0.0099 - val_loss: 0.0242 - lr: 0.0010\n",
            "Epoch 12/100\n",
            "8/8 [==============================] - 0s 16ms/step - loss: 0.0096 - val_loss: 0.0218 - lr: 0.0010\n",
            "Epoch 13/100\n",
            "8/8 [==============================] - 0s 17ms/step - loss: 0.0092 - val_loss: 0.0203 - lr: 0.0010\n",
            "Epoch 14/100\n",
            "8/8 [==============================] - 0s 15ms/step - loss: 0.0091 - val_loss: 0.0206 - lr: 0.0010\n",
            "Epoch 15/100\n",
            "8/8 [==============================] - 0s 16ms/step - loss: 0.0089 - val_loss: 0.0182 - lr: 0.0010\n",
            "Epoch 16/100\n",
            "8/8 [==============================] - 0s 15ms/step - loss: 0.0087 - val_loss: 0.0188 - lr: 0.0010\n",
            "Epoch 17/100\n",
            "8/8 [==============================] - 0s 16ms/step - loss: 0.0084 - val_loss: 0.0177 - lr: 0.0010\n",
            "Epoch 18/100\n",
            "8/8 [==============================] - 0s 15ms/step - loss: 0.0083 - val_loss: 0.0177 - lr: 0.0010\n",
            "Epoch 19/100\n",
            "8/8 [==============================] - 0s 14ms/step - loss: 0.0082 - val_loss: 0.0169 - lr: 0.0010\n",
            "Epoch 20/100\n",
            "8/8 [==============================] - 0s 14ms/step - loss: 0.0081 - val_loss: 0.0161 - lr: 0.0010\n",
            "Epoch 21/100\n",
            "8/8 [==============================] - 0s 17ms/step - loss: 0.0081 - val_loss: 0.0165 - lr: 0.0010\n",
            "Epoch 22/100\n",
            "8/8 [==============================] - 0s 13ms/step - loss: 0.0079 - val_loss: 0.0156 - lr: 0.0010\n",
            "Epoch 23/100\n",
            "8/8 [==============================] - 0s 13ms/step - loss: 0.0081 - val_loss: 0.0143 - lr: 0.0010\n",
            "Epoch 24/100\n",
            "8/8 [==============================] - 0s 13ms/step - loss: 0.0081 - val_loss: 0.0169 - lr: 0.0010\n",
            "Epoch 25/100\n",
            "8/8 [==============================] - 0s 13ms/step - loss: 0.0077 - val_loss: 0.0153 - lr: 0.0010\n",
            "Epoch 26/100\n",
            "8/8 [==============================] - 0s 13ms/step - loss: 0.0076 - val_loss: 0.0150 - lr: 0.0010\n"
          ]
        }
      ]
    },
    {
      "cell_type": "code",
      "source": [
        "#Print model summary\n",
        "model_1_MSforecast.summary()"
      ],
      "metadata": {
        "colab": {
          "base_uri": "https://localhost:8080/"
        },
        "id": "EqNlR9KVSks7",
        "outputId": "25fd4249-ce36-4ed3-afbf-acd3da391aef"
      },
      "execution_count": 52,
      "outputs": [
        {
          "output_type": "stream",
          "name": "stdout",
          "text": [
            "Model: \"sequential_4\"\n",
            "_________________________________________________________________\n",
            " Layer (type)                Output Shape              Param #   \n",
            "=================================================================\n",
            " lstm_6 (LSTM)               (None, 50)                10800     \n",
            "                                                                 \n",
            " dense_4 (Dense)             (None, 12)                612       \n",
            "                                                                 \n",
            "=================================================================\n",
            "Total params: 11,412\n",
            "Trainable params: 11,412\n",
            "Non-trainable params: 0\n",
            "_________________________________________________________________\n"
          ]
        }
      ]
    },
    {
      "cell_type": "code",
      "source": [
        "#Plot the evolution of the training and validation loss\n",
        "plt.plot(history_1.history[\"loss\"])\n",
        "plt.plot(history_1.history[\"val_loss\"])\n",
        "plt.title(\"Model loss\")\n",
        "plt.ylabel(\"loss\")\n",
        "plt.xlabel(\"epoch\")\n",
        "plt.legend([\"train loss\", \"validation loss\"], loc=\"upper left\")\n",
        "plt.rcParams[\"figure.figsize\"] = [16,9]\n",
        "plt.show()"
      ],
      "metadata": {
        "colab": {
          "base_uri": "https://localhost:8080/",
          "height": 567
        },
        "id": "H_qdQCf2SmJr",
        "outputId": "f247dc5d-6148-407c-8b10-76bb31947812"
      },
      "execution_count": 53,
      "outputs": [
        {
          "output_type": "display_data",
          "data": {
            "text/plain": [
              "<Figure size 1152x648 with 1 Axes>"
            ],
            "image/png": "[encoded data removed]"
          },
          "metadata": {
            "needs_background": "light"
          }
        }
      ]
    },
    {
      "cell_type": "markdown",
      "source": [
        " ## **4.3 Predict on validation data**"
      ],
      "metadata": {
        "id": "U9Z9l0hFSnnz"
      }
    },
    {
      "cell_type": "code",
      "source": [
        "#Get the last 12 values for the training set to predict validation data\n",
        "initial_data = final_np_scaled[-sliding_window:]\n",
        "initial_data = initial_data.reshape(1, sliding_window, 3) #Reshap"
      ],
      "metadata": {
        "id": "8FBihJvBSpOX"
      },
      "execution_count": 54,
      "outputs": []
    },
    {
      "cell_type": "code",
      "source": [
        "#Make predictions\n",
        "trainPredict_1_MSforecast = model_1_MSforecast.predict(initial_data)\n",
        "\n",
        "#Escale-back the values to compared them agains the original values\n",
        "prediction_new_MultiStep = scaler_DFF.inverse_transform(trainPredict_1_MSforecast)"
      ],
      "metadata": {
        "id": "LJeUX89kSqw3"
      },
      "execution_count": 55,
      "outputs": []
    },
    {
      "cell_type": "code",
      "source": [
        "#Convine predicted and original validation values\n",
        "df_trainY_val_MultiStep = prediction_new_MultiStep.ravel()\n",
        "df_validation_7M.insert(1, \"DFF_Pred_MUltiStep\", df_trainY_val_MultiStep)\n",
        "df_validation_7M"
      ],
      "metadata": {
        "colab": {
          "base_uri": "https://localhost:8080/",
          "height": 457
        },
        "id": "UMZ50bIPSsCo",
        "outputId": "712341aa-31ec-4049-a33d-8b07d0414997"
      },
      "execution_count": 56,
      "outputs": [
        {
          "output_type": "execute_result",
          "data": {
            "text/plain": [
              "             DFF  DFF_Pred_MUltiStep  UNRATE  CPIU\n",
              "DATE                                              \n",
              "2021-07-01  0.09            2.765464     5.4  5.37\n",
              "2021-08-01  0.09            3.156976     5.2  5.25\n",
              "2021-09-01  0.08            2.413485     4.7  5.39\n",
              "2021-10-01  0.07            3.156282     4.6  6.22\n",
              "2021-11-01  0.07            2.534174     4.2  6.81\n",
              "2021-12-01  0.06            3.282280     3.9  7.04\n",
              "2022-01-01  0.08            2.621210     4.0  7.48\n",
              "2022-02-01  0.10            2.868590     3.8  7.87\n",
              "2022-03-01  0.09            3.185435     3.6  8.54\n",
              "2022-04-01  0.08            3.764400     3.6  8.26\n",
              "2022-05-01  0.08            3.541384     3.6  8.58\n",
              "2022-06-01  0.08            4.013091     3.6  9.10"
            ],
            "text/html": [
              "\n",
              "  <div id=\"df-70e5acc2-9e9e-4b2c-84dc-312c6151a51a\">\n",
              "    <div class=\"colab-df-container\">\n",
              "      <div>\n",
              "<style scoped>\n",
              "    .dataframe tbody tr th:only-of-type {\n",
              "        vertical-align: middle;\n",
              "    }\n",
              "\n",
              "    .dataframe tbody tr th {\n",
              "        vertical-align: top;\n",
              "    }\n",
              "\n",
              "    .dataframe thead th {\n",
              "        text-align: right;\n",
              "    }\n",
              "</style>\n",
              "<table border=\"1\" class=\"dataframe\">\n",
              "  <thead>\n",
              "    <tr style=\"text-align: right;\">\n",
              "      <th></th>\n",
              "      <th>DFF</th>\n",
              "      <th>DFF_Pred_MUltiStep</th>\n",
              "      <th>UNRATE</th>\n",
              "      <th>CPIU</th>\n",
              "    </tr>\n",
              "    <tr>\n",
              "      <th>DATE</th>\n",
              "      <th></th>\n",
              "      <th></th>\n",
              "      <th></th>\n",
              "      <th></th>\n",
              "    </tr>\n",
              "  </thead>\n",
              "  <tbody>\n",
              "    <tr>\n",
              "      <th>2021-07-01</th>\n",
              "      <td>0.09</td>\n",
              "      <td>2.765464</td>\n",
              "      <td>5.4</td>\n",
              "      <td>5.37</td>\n",
              "    </tr>\n",
              "    <tr>\n",
              "      <th>2021-08-01</th>\n",
              "      <td>0.09</td>\n",
              "      <td>3.156976</td>\n",
              "      <td>5.2</td>\n",
              "      <td>5.25</td>\n",
              "    </tr>\n",
              "    <tr>\n",
              "      <th>2021-09-01</th>\n",
              "      <td>0.08</td>\n",
              "      <td>2.413485</td>\n",
              "      <td>4.7</td>\n",
              "      <td>5.39</td>\n",
              "    </tr>\n",
              "    <tr>\n",
              "      <th>2021-10-01</th>\n",
              "      <td>0.07</td>\n",
              "      <td>3.156282</td>\n",
              "      <td>4.6</td>\n",
              "      <td>6.22</td>\n",
              "    </tr>\n",
              "    <tr>\n",
              "      <th>2021-11-01</th>\n",
              "      <td>0.07</td>\n",
              "      <td>2.534174</td>\n",
              "      <td>4.2</td>\n",
              "      <td>6.81</td>\n",
              "    </tr>\n",
              "    <tr>\n",
              "      <th>2021-12-01</th>\n",
              "      <td>0.06</td>\n",
              "      <td>3.282280</td>\n",
              "      <td>3.9</td>\n",
              "      <td>7.04</td>\n",
              "    </tr>\n",
              "    <tr>\n",
              "      <th>2022-01-01</th>\n",
              "      <td>0.08</td>\n",
              "      <td>2.621210</td>\n",
              "      <td>4.0</td>\n",
              "      <td>7.48</td>\n",
              "    </tr>\n",
              "    <tr>\n",
              "      <th>2022-02-01</th>\n",
              "      <td>0.10</td>\n",
              "      <td>2.868590</td>\n",
              "      <td>3.8</td>\n",
              "      <td>7.87</td>\n",
              "    </tr>\n",
              "    <tr>\n",
              "      <th>2022-03-01</th>\n",
              "      <td>0.09</td>\n",
              "      <td>3.185435</td>\n",
              "      <td>3.6</td>\n",
              "      <td>8.54</td>\n",
              "    </tr>\n",
              "    <tr>\n",
              "      <th>2022-04-01</th>\n",
              "      <td>0.08</td>\n",
              "      <td>3.764400</td>\n",
              "      <td>3.6</td>\n",
              "      <td>8.26</td>\n",
              "    </tr>\n",
              "    <tr>\n",
              "      <th>2022-05-01</th>\n",
              "      <td>0.08</td>\n",
              "      <td>3.541384</td>\n",
              "      <td>3.6</td>\n",
              "      <td>8.58</td>\n",
              "    </tr>\n",
              "    <tr>\n",
              "      <th>2022-06-01</th>\n",
              "      <td>0.08</td>\n",
              "      <td>4.013091</td>\n",
              "      <td>3.6</td>\n",
              "      <td>9.10</td>\n",
              "    </tr>\n",
              "  </tbody>\n",
              "</table>\n",
              "</div>\n",
              "      <button class=\"colab-df-convert\" onclick=\"convertToInteractive('df-70e5acc2-9e9e-4b2c-84dc-312c6151a51a')\"\n",
              "              title=\"Convert this dataframe to an interactive table.\"\n",
              "              style=\"display:none;\">\n",
              "        \n",
              "  <svg xmlns=\"http://www.w3.org/2000/svg\" height=\"24px\"viewBox=\"0 0 24 24\"\n",
              "       width=\"24px\">\n",
              "    <path d=\"M0 0h24v24H0V0z\" fill=\"none\"/>\n",
              "    <path d=\"M18.56 5.44l.94 2.06.94-2.06 2.06-.94-2.06-.94-.94-2.06-.94 2.06-2.06.94zm-11 1L8.5 8.5l.94-2.06 2.06-.94-2.06-.94L8.5 2.5l-.94 2.06-2.06.94zm10 10l.94 2.06.94-2.06 2.06-.94-2.06-.94-.94-2.06-.94 2.06-2.06.94z\"/><path d=\"M17.41 7.96l-1.37-1.37c-.4-.4-.92-.59-1.43-.59-.52 0-1.04.2-1.43.59L10.3 9.45l-7.72 7.72c-.78.78-.78 2.05 0 2.83L4 21.41c.39.39.9.59 1.41.59.51 0 1.02-.2 1.41-.59l7.78-7.78 2.81-2.81c.8-.78.8-2.07 0-2.86zM5.41 20L4 18.59l7.72-7.72 1.47 1.35L5.41 20z\"/>\n",
              "  </svg>\n",
              "      </button>\n",
              "      \n",
              "  <style>\n",
              "    .colab-df-container {\n",
              "      display:flex;\n",
              "      flex-wrap:wrap;\n",
              "      gap: 12px;\n",
              "    }\n",
              "\n",
              "    .colab-df-convert {\n",
              "      background-color: #E8F0FE;\n",
              "      border: none;\n",
              "      border-radius: 50%;\n",
              "      cursor: pointer;\n",
              "      display: none;\n",
              "      fill: #1967D2;\n",
              "      height: 32px;\n",
              "      padding: 0 0 0 0;\n",
              "      width: 32px;\n",
              "    }\n",
              "\n",
              "    .colab-df-convert:hover {\n",
              "      background-color: #E2EBFA;\n",
              "      box-shadow: 0px 1px 2px rgba(60, 64, 67, 0.3), 0px 1px 3px 1px rgba(60, 64, 67, 0.15);\n",
              "      fill: #174EA6;\n",
              "    }\n",
              "\n",
              "    [theme=dark] .colab-df-convert {\n",
              "      background-color: #3B4455;\n",
              "      fill: #D2E3FC;\n",
              "    }\n",
              "\n",
              "    [theme=dark] .colab-df-convert:hover {\n",
              "      background-color: #434B5C;\n",
              "      box-shadow: 0px 1px 3px 1px rgba(0, 0, 0, 0.15);\n",
              "      filter: drop-shadow(0px 1px 2px rgba(0, 0, 0, 0.3));\n",
              "      fill: #FFFFFF;\n",
              "    }\n",
              "  </style>\n",
              "\n",
              "      <script>\n",
              "        const buttonEl =\n",
              "          document.querySelector('#df-70e5acc2-9e9e-4b2c-84dc-312c6151a51a button.colab-df-convert');\n",
              "        buttonEl.style.display =\n",
              "          google.colab.kernel.accessAllowed ? 'block' : 'none';\n",
              "\n",
              "        async function convertToInteractive(key) {\n",
              "          const element = document.querySelector('#df-70e5acc2-9e9e-4b2c-84dc-312c6151a51a');\n",
              "          const dataTable =\n",
              "            await google.colab.kernel.invokeFunction('convertToInteractive',\n",
              "                                                     [key], {});\n",
              "          if (!dataTable) return;\n",
              "\n",
              "          const docLinkHtml = 'Like what you see? Visit the ' +\n",
              "            '<a target=\"_blank\" href=https://colab.research.google.com/notebooks/data_table.ipynb>data table notebook</a>'\n",
              "            + ' to learn more about interactive tables.';\n",
              "          element.innerHTML = '';\n",
              "          dataTable['output_type'] = 'display_data';\n",
              "          await google.colab.output.renderOutput(dataTable, element);\n",
              "          const docLink = document.createElement('div');\n",
              "          docLink.innerHTML = docLinkHtml;\n",
              "          element.appendChild(docLink);\n",
              "        }\n",
              "      </script>\n",
              "    </div>\n",
              "  </div>\n",
              "  "
            ]
          },
          "metadata": {},
          "execution_count": 56
        }
      ]
    },
    {
      "cell_type": "code",
      "source": [
        "#Plot validation values and original data from 2006\n",
        "plt.plot(Train_comp.DFF_Original[572:], label= \"Training data from 2006\")\n",
        "plt.plot(Train_comp.DFF_pred_1[572:], label = \"Predicted values from 2006 - Training\")\n",
        "plt.plot(df_validation_7M.DFF, label= \"Original values - Validation\")\n",
        "plt.plot(df_validation_7M.DFF_Pred_MUltiStep, label = \"Predicted values - Validation\")\n",
        "plt.title(\"LSTM Multivariate forecast Validation - 7 months lagged predictors\")\n",
        "plt.legend(loc=\"best\")\n",
        "plt.show()"
      ],
      "metadata": {
        "colab": {
          "base_uri": "https://localhost:8080/",
          "height": 553
        },
        "id": "yBWRDrrnStdg",
        "outputId": "e0fe1e09-3260-4a85-cce9-085d3a1ac54a"
      },
      "execution_count": 57,
      "outputs": [
        {
          "output_type": "display_data",
          "data": {
            "text/plain": [
              "<Figure size 1152x648 with 1 Axes>"
            ],
            "image/png": "[encoded data removed]"
          },
          "metadata": {
            "needs_background": "light"
          }
        }
      ]
    },
    {
      "cell_type": "code",
      "source": [
        "#Print evaluation metrics\n",
        "Org_values = df_validation.DFF.values\n",
        "Pred_values = df_validation.DFF_Pred_MUltiStep.values\n",
        "\n",
        "model_evualuation_metrics(Org_values, Pred_values)"
      ],
      "metadata": {
        "colab": {
          "base_uri": "https://localhost:8080/"
        },
        "id": "e_L9K-uCSvfY",
        "outputId": "dcf2b7be-903e-4c50-9a9b-d1ab326ff805"
      },
      "execution_count": 58,
      "outputs": [
        {
          "output_type": "stream",
          "name": "stdout",
          "text": [
            "Model MAE: 3.06\n",
            "Model MSE: 9.67\n",
            "Model RMSE: 3.11\n",
            "Model R2: -81.87\n"
          ]
        }
      ]
    },
    {
      "cell_type": "markdown",
      "source": [
        "# **5. Forecast using CPIU 7 months lagged as only response variable**"
      ],
      "metadata": {
        "id": "wlSoxDs6SxI4"
      }
    },
    {
      "cell_type": "markdown",
      "source": [
        "## **5.1 Preprocesing data**"
      ],
      "metadata": {
        "id": "kvM1UDZKSyhC"
      }
    },
    {
      "cell_type": "code",
      "source": [
        "#Select DFF and CPIU\n",
        "final_df_CPIU = final_df.loc[:, [\"DFF\", \"CPIU\"]]\n",
        "final_df_CPIU"
      ],
      "metadata": {
        "colab": {
          "base_uri": "https://localhost:8080/",
          "height": 455
        },
        "id": "CGoIuTIISzrI",
        "outputId": "4ee9d3cd-fcd1-4555-a14e-fc341b31290a"
      },
      "execution_count": 59,
      "outputs": [
        {
          "output_type": "execute_result",
          "data": {
            "text/plain": [
              "             DFF  CPIU\n",
              "DATE                  \n",
              "1958-01-01  2.72  3.62\n",
              "1958-02-01  1.67  3.25\n",
              "1958-03-01  1.20  3.60\n",
              "1958-04-01  1.26  3.58\n",
              "1958-05-01  0.63  3.21\n",
              "...          ...   ...\n",
              "2022-02-01  0.08  7.87\n",
              "2022-03-01  0.20  8.54\n",
              "2022-04-01  0.33  8.26\n",
              "2022-05-01  0.77  8.58\n",
              "2022-06-01  1.20  9.10\n",
              "\n",
              "[774 rows x 2 columns]"
            ],
            "text/html": [
              "\n",
              "  <div id=\"df-de36cb40-ad32-48cd-84b6-6a2a10fce48e\">\n",
              "    <div class=\"colab-df-container\">\n",
              "      <div>\n",
              "<style scoped>\n",
              "    .dataframe tbody tr th:only-of-type {\n",
              "        vertical-align: middle;\n",
              "    }\n",
              "\n",
              "    .dataframe tbody tr th {\n",
              "        vertical-align: top;\n",
              "    }\n",
              "\n",
              "    .dataframe thead th {\n",
              "        text-align: right;\n",
              "    }\n",
              "</style>\n",
              "<table border=\"1\" class=\"dataframe\">\n",
              "  <thead>\n",
              "    <tr style=\"text-align: right;\">\n",
              "      <th></th>\n",
              "      <th>DFF</th>\n",
              "      <th>CPIU</th>\n",
              "    </tr>\n",
              "    <tr>\n",
              "      <th>DATE</th>\n",
              "      <th></th>\n",
              "      <th></th>\n",
              "    </tr>\n",
              "  </thead>\n",
              "  <tbody>\n",
              "    <tr>\n",
              "      <th>1958-01-01</th>\n",
              "      <td>2.72</td>\n",
              "      <td>3.62</td>\n",
              "    </tr>\n",
              "    <tr>\n",
              "      <th>1958-02-01</th>\n",
              "      <td>1.67</td>\n",
              "      <td>3.25</td>\n",
              "    </tr>\n",
              "    <tr>\n",
              "      <th>1958-03-01</th>\n",
              "      <td>1.20</td>\n",
              "      <td>3.60</td>\n",
              "    </tr>\n",
              "    <tr>\n",
              "      <th>1958-04-01</th>\n",
              "      <td>1.26</td>\n",
              "      <td>3.58</td>\n",
              "    </tr>\n",
              "    <tr>\n",
              "      <th>1958-05-01</th>\n",
              "      <td>0.63</td>\n",
              "      <td>3.21</td>\n",
              "    </tr>\n",
              "    <tr>\n",
              "      <th>...</th>\n",
              "      <td>...</td>\n",
              "      <td>...</td>\n",
              "    </tr>\n",
              "    <tr>\n",
              "      <th>2022-02-01</th>\n",
              "      <td>0.08</td>\n",
              "      <td>7.87</td>\n",
              "    </tr>\n",
              "    <tr>\n",
              "      <th>2022-03-01</th>\n",
              "      <td>0.20</td>\n",
              "      <td>8.54</td>\n",
              "    </tr>\n",
              "    <tr>\n",
              "      <th>2022-04-01</th>\n",
              "      <td>0.33</td>\n",
              "      <td>8.26</td>\n",
              "    </tr>\n",
              "    <tr>\n",
              "      <th>2022-05-01</th>\n",
              "      <td>0.77</td>\n",
              "      <td>8.58</td>\n",
              "    </tr>\n",
              "    <tr>\n",
              "      <th>2022-06-01</th>\n",
              "      <td>1.20</td>\n",
              "      <td>9.10</td>\n",
              "    </tr>\n",
              "  </tbody>\n",
              "</table>\n",
              "<p>774 rows × 2 columns</p>\n",
              "</div>\n",
              "      <button class=\"colab-df-convert\" onclick=\"convertToInteractive('df-de36cb40-ad32-48cd-84b6-6a2a10fce48e')\"\n",
              "              title=\"Convert this dataframe to an interactive table.\"\n",
              "              style=\"display:none;\">\n",
              "        \n",
              "  <svg xmlns=\"http://www.w3.org/2000/svg\" height=\"24px\"viewBox=\"0 0 24 24\"\n",
              "       width=\"24px\">\n",
              "    <path d=\"M0 0h24v24H0V0z\" fill=\"none\"/>\n",
              "    <path d=\"M18.56 5.44l.94 2.06.94-2.06 2.06-.94-2.06-.94-.94-2.06-.94 2.06-2.06.94zm-11 1L8.5 8.5l.94-2.06 2.06-.94-2.06-.94L8.5 2.5l-.94 2.06-2.06.94zm10 10l.94 2.06.94-2.06 2.06-.94-2.06-.94-.94-2.06-.94 2.06-2.06.94z\"/><path d=\"M17.41 7.96l-1.37-1.37c-.4-.4-.92-.59-1.43-.59-.52 0-1.04.2-1.43.59L10.3 9.45l-7.72 7.72c-.78.78-.78 2.05 0 2.83L4 21.41c.39.39.9.59 1.41.59.51 0 1.02-.2 1.41-.59l7.78-7.78 2.81-2.81c.8-.78.8-2.07 0-2.86zM5.41 20L4 18.59l7.72-7.72 1.47 1.35L5.41 20z\"/>\n",
              "  </svg>\n",
              "      </button>\n",
              "      \n",
              "  <style>\n",
              "    .colab-df-container {\n",
              "      display:flex;\n",
              "      flex-wrap:wrap;\n",
              "      gap: 12px;\n",
              "    }\n",
              "\n",
              "    .colab-df-convert {\n",
              "      background-color: #E8F0FE;\n",
              "      border: none;\n",
              "      border-radius: 50%;\n",
              "      cursor: pointer;\n",
              "      display: none;\n",
              "      fill: #1967D2;\n",
              "      height: 32px;\n",
              "      padding: 0 0 0 0;\n",
              "      width: 32px;\n",
              "    }\n",
              "\n",
              "    .colab-df-convert:hover {\n",
              "      background-color: #E2EBFA;\n",
              "      box-shadow: 0px 1px 2px rgba(60, 64, 67, 0.3), 0px 1px 3px 1px rgba(60, 64, 67, 0.15);\n",
              "      fill: #174EA6;\n",
              "    }\n",
              "\n",
              "    [theme=dark] .colab-df-convert {\n",
              "      background-color: #3B4455;\n",
              "      fill: #D2E3FC;\n",
              "    }\n",
              "\n",
              "    [theme=dark] .colab-df-convert:hover {\n",
              "      background-color: #434B5C;\n",
              "      box-shadow: 0px 1px 3px 1px rgba(0, 0, 0, 0.15);\n",
              "      filter: drop-shadow(0px 1px 2px rgba(0, 0, 0, 0.3));\n",
              "      fill: #FFFFFF;\n",
              "    }\n",
              "  </style>\n",
              "\n",
              "      <script>\n",
              "        const buttonEl =\n",
              "          document.querySelector('#df-de36cb40-ad32-48cd-84b6-6a2a10fce48e button.colab-df-convert');\n",
              "        buttonEl.style.display =\n",
              "          google.colab.kernel.accessAllowed ? 'block' : 'none';\n",
              "\n",
              "        async function convertToInteractive(key) {\n",
              "          const element = document.querySelector('#df-de36cb40-ad32-48cd-84b6-6a2a10fce48e');\n",
              "          const dataTable =\n",
              "            await google.colab.kernel.invokeFunction('convertToInteractive',\n",
              "                                                     [key], {});\n",
              "          if (!dataTable) return;\n",
              "\n",
              "          const docLinkHtml = 'Like what you see? Visit the ' +\n",
              "            '<a target=\"_blank\" href=https://colab.research.google.com/notebooks/data_table.ipynb>data table notebook</a>'\n",
              "            + ' to learn more about interactive tables.';\n",
              "          element.innerHTML = '';\n",
              "          dataTable['output_type'] = 'display_data';\n",
              "          await google.colab.output.renderOutput(dataTable, element);\n",
              "          const docLink = document.createElement('div');\n",
              "          docLink.innerHTML = docLinkHtml;\n",
              "          element.appendChild(docLink);\n",
              "        }\n",
              "      </script>\n",
              "    </div>\n",
              "  </div>\n",
              "  "
            ]
          },
          "metadata": {},
          "execution_count": 59
        }
      ]
    },
    {
      "cell_type": "code",
      "source": [
        "#Convert the DFF column into a np array and remove the last 6 values\n",
        "DFF_Adj = final_df_CPIU[\"DFF\"].values\n",
        "DFF_Adj = DFF_Adj[:-7]\n",
        "\n",
        "#Remove the first 6 observations of final_df\n",
        "final_df_7M_CPIU = final_df_CPIU.iloc[7:]\n",
        "final_df_7M_CPIU = final_df_7M_CPIU.drop(columns=[\"DFF\"])\n",
        "final_df_7M_CPIU\n",
        "\n",
        "#Convine predicted and original validation values\n",
        "final_df_7M_CPIU.insert(0, \"DFF\", DFF_Adj)\n",
        "final_df_7M_CPIU"
      ],
      "metadata": {
        "colab": {
          "base_uri": "https://localhost:8080/",
          "height": 455
        },
        "id": "CYl1ME7_S3KX",
        "outputId": "27edc721-0c08-4034-c501-c8deda7e9582"
      },
      "execution_count": 60,
      "outputs": [
        {
          "output_type": "execute_result",
          "data": {
            "text/plain": [
              "             DFF  CPIU\n",
              "DATE                  \n",
              "1958-08-01  2.72  2.12\n",
              "1958-09-01  1.67  2.12\n",
              "1958-10-01  1.20  2.12\n",
              "1958-11-01  1.26  2.11\n",
              "1958-12-01  0.63  1.76\n",
              "...          ...   ...\n",
              "2022-02-01  0.10  7.87\n",
              "2022-03-01  0.09  8.54\n",
              "2022-04-01  0.08  8.26\n",
              "2022-05-01  0.08  8.58\n",
              "2022-06-01  0.08  9.10\n",
              "\n",
              "[767 rows x 2 columns]"
            ],
            "text/html": [
              "\n",
              "  <div id=\"df-554d6a51-6e54-4970-884b-e02d77153de9\">\n",
              "    <div class=\"colab-df-container\">\n",
              "      <div>\n",
              "<style scoped>\n",
              "    .dataframe tbody tr th:only-of-type {\n",
              "        vertical-align: middle;\n",
              "    }\n",
              "\n",
              "    .dataframe tbody tr th {\n",
              "        vertical-align: top;\n",
              "    }\n",
              "\n",
              "    .dataframe thead th {\n",
              "        text-align: right;\n",
              "    }\n",
              "</style>\n",
              "<table border=\"1\" class=\"dataframe\">\n",
              "  <thead>\n",
              "    <tr style=\"text-align: right;\">\n",
              "      <th></th>\n",
              "      <th>DFF</th>\n",
              "      <th>CPIU</th>\n",
              "    </tr>\n",
              "    <tr>\n",
              "      <th>DATE</th>\n",
              "      <th></th>\n",
              "      <th></th>\n",
              "    </tr>\n",
              "  </thead>\n",
              "  <tbody>\n",
              "    <tr>\n",
              "      <th>1958-08-01</th>\n",
              "      <td>2.72</td>\n",
              "      <td>2.12</td>\n",
              "    </tr>\n",
              "    <tr>\n",
              "      <th>1958-09-01</th>\n",
              "      <td>1.67</td>\n",
              "      <td>2.12</td>\n",
              "    </tr>\n",
              "    <tr>\n",
              "      <th>1958-10-01</th>\n",
              "      <td>1.20</td>\n",
              "      <td>2.12</td>\n",
              "    </tr>\n",
              "    <tr>\n",
              "      <th>1958-11-01</th>\n",
              "      <td>1.26</td>\n",
              "      <td>2.11</td>\n",
              "    </tr>\n",
              "    <tr>\n",
              "      <th>1958-12-01</th>\n",
              "      <td>0.63</td>\n",
              "      <td>1.76</td>\n",
              "    </tr>\n",
              "    <tr>\n",
              "      <th>...</th>\n",
              "      <td>...</td>\n",
              "      <td>...</td>\n",
              "    </tr>\n",
              "    <tr>\n",
              "      <th>2022-02-01</th>\n",
              "      <td>0.10</td>\n",
              "      <td>7.87</td>\n",
              "    </tr>\n",
              "    <tr>\n",
              "      <th>2022-03-01</th>\n",
              "      <td>0.09</td>\n",
              "      <td>8.54</td>\n",
              "    </tr>\n",
              "    <tr>\n",
              "      <th>2022-04-01</th>\n",
              "      <td>0.08</td>\n",
              "      <td>8.26</td>\n",
              "    </tr>\n",
              "    <tr>\n",
              "      <th>2022-05-01</th>\n",
              "      <td>0.08</td>\n",
              "      <td>8.58</td>\n",
              "    </tr>\n",
              "    <tr>\n",
              "      <th>2022-06-01</th>\n",
              "      <td>0.08</td>\n",
              "      <td>9.10</td>\n",
              "    </tr>\n",
              "  </tbody>\n",
              "</table>\n",
              "<p>767 rows × 2 columns</p>\n",
              "</div>\n",
              "      <button class=\"colab-df-convert\" onclick=\"convertToInteractive('df-554d6a51-6e54-4970-884b-e02d77153de9')\"\n",
              "              title=\"Convert this dataframe to an interactive table.\"\n",
              "              style=\"display:none;\">\n",
              "        \n",
              "  <svg xmlns=\"http://www.w3.org/2000/svg\" height=\"24px\"viewBox=\"0 0 24 24\"\n",
              "       width=\"24px\">\n",
              "    <path d=\"M0 0h24v24H0V0z\" fill=\"none\"/>\n",
              "    <path d=\"M18.56 5.44l.94 2.06.94-2.06 2.06-.94-2.06-.94-.94-2.06-.94 2.06-2.06.94zm-11 1L8.5 8.5l.94-2.06 2.06-.94-2.06-.94L8.5 2.5l-.94 2.06-2.06.94zm10 10l.94 2.06.94-2.06 2.06-.94-2.06-.94-.94-2.06-.94 2.06-2.06.94z\"/><path d=\"M17.41 7.96l-1.37-1.37c-.4-.4-.92-.59-1.43-.59-.52 0-1.04.2-1.43.59L10.3 9.45l-7.72 7.72c-.78.78-.78 2.05 0 2.83L4 21.41c.39.39.9.59 1.41.59.51 0 1.02-.2 1.41-.59l7.78-7.78 2.81-2.81c.8-.78.8-2.07 0-2.86zM5.41 20L4 18.59l7.72-7.72 1.47 1.35L5.41 20z\"/>\n",
              "  </svg>\n",
              "      </button>\n",
              "      \n",
              "  <style>\n",
              "    .colab-df-container {\n",
              "      display:flex;\n",
              "      flex-wrap:wrap;\n",
              "      gap: 12px;\n",
              "    }\n",
              "\n",
              "    .colab-df-convert {\n",
              "      background-color: #E8F0FE;\n",
              "      border: none;\n",
              "      border-radius: 50%;\n",
              "      cursor: pointer;\n",
              "      display: none;\n",
              "      fill: #1967D2;\n",
              "      height: 32px;\n",
              "      padding: 0 0 0 0;\n",
              "      width: 32px;\n",
              "    }\n",
              "\n",
              "    .colab-df-convert:hover {\n",
              "      background-color: #E2EBFA;\n",
              "      box-shadow: 0px 1px 2px rgba(60, 64, 67, 0.3), 0px 1px 3px 1px rgba(60, 64, 67, 0.15);\n",
              "      fill: #174EA6;\n",
              "    }\n",
              "\n",
              "    [theme=dark] .colab-df-convert {\n",
              "      background-color: #3B4455;\n",
              "      fill: #D2E3FC;\n",
              "    }\n",
              "\n",
              "    [theme=dark] .colab-df-convert:hover {\n",
              "      background-color: #434B5C;\n",
              "      box-shadow: 0px 1px 3px 1px rgba(0, 0, 0, 0.15);\n",
              "      filter: drop-shadow(0px 1px 2px rgba(0, 0, 0, 0.3));\n",
              "      fill: #FFFFFF;\n",
              "    }\n",
              "  </style>\n",
              "\n",
              "      <script>\n",
              "        const buttonEl =\n",
              "          document.querySelector('#df-554d6a51-6e54-4970-884b-e02d77153de9 button.colab-df-convert');\n",
              "        buttonEl.style.display =\n",
              "          google.colab.kernel.accessAllowed ? 'block' : 'none';\n",
              "\n",
              "        async function convertToInteractive(key) {\n",
              "          const element = document.querySelector('#df-554d6a51-6e54-4970-884b-e02d77153de9');\n",
              "          const dataTable =\n",
              "            await google.colab.kernel.invokeFunction('convertToInteractive',\n",
              "                                                     [key], {});\n",
              "          if (!dataTable) return;\n",
              "\n",
              "          const docLinkHtml = 'Like what you see? Visit the ' +\n",
              "            '<a target=\"_blank\" href=https://colab.research.google.com/notebooks/data_table.ipynb>data table notebook</a>'\n",
              "            + ' to learn more about interactive tables.';\n",
              "          element.innerHTML = '';\n",
              "          dataTable['output_type'] = 'display_data';\n",
              "          await google.colab.output.renderOutput(dataTable, element);\n",
              "          const docLink = document.createElement('div');\n",
              "          docLink.innerHTML = docLinkHtml;\n",
              "          element.appendChild(docLink);\n",
              "        }\n",
              "      </script>\n",
              "    </div>\n",
              "  </div>\n",
              "  "
            ]
          },
          "metadata": {},
          "execution_count": 60
        }
      ]
    },
    {
      "cell_type": "code",
      "source": [
        "#Create training, test and validation partitions for plotting\n",
        "#Validation set \n",
        "df_validation_7M_CPIU = final_df_7M_CPIU.iloc[-12:]\n",
        "\n",
        "#Remove the 12 observations for validation and split remaining into train and test (70% - 30%)\n",
        "final_df_7M_CPIU = final_df_7M_CPIU[:-12]\n",
        "\n",
        "#Create train and test data sets\n",
        "train_size = int(len(final_df_7M_CPIU) * 0.7)\n",
        "test_size = len(final_df_7M_CPIU) - train_size\n",
        "df_train, df_test = final_df_7M_CPIU[0:train_size], final_df_7M_CPIU[train_size:len(final_df_7M_CPIU)]\n",
        "\n",
        "#Print the shape of train test and validation sets\n",
        "print(\"df_train shape is {}\".format(df_train.shape))\n",
        "print(\"df_test shape is {}\".format(df_test.shape))\n",
        "print(\"df_validation shape is {}\".format(df_validation_7M.shape))"
      ],
      "metadata": {
        "colab": {
          "base_uri": "https://localhost:8080/"
        },
        "id": "F_KYr3y_S5hs",
        "outputId": "fddb46ae-16ef-4fa9-ea36-d1a9eb9a92dd"
      },
      "execution_count": 61,
      "outputs": [
        {
          "output_type": "stream",
          "name": "stdout",
          "text": [
            "df_train shape is (528, 2)\n",
            "df_test shape is (227, 2)\n",
            "df_validation shape is (12, 4)\n"
          ]
        }
      ]
    },
    {
      "cell_type": "code",
      "source": [
        "#Save date for plotting, ignore the first 12 as they are burn predicting the first value\n",
        "train_dates = pd.to_datetime(final_df_7M_CPIU.index[12:774])\n",
        "\n",
        "#Convert each variable to a numpy array\n",
        "DFF_val = final_df_7M_CPIU[\"DFF\"].values\n",
        "CPIU_val = final_df_7M_CPIU[\"CPIU\"].values\n",
        "\n",
        "#Reshape the structure of the numpy arrays to (rows, columns)\n",
        "DFF_val = DFF_val.reshape((len(DFF_val), 1))\n",
        "CPIU_val = CPIU_val.reshape((len(CPIU_val), 1))\n",
        "\n",
        "#Check the shape of the previous three variables\n",
        "print(\"DFF_val shape is {}.\".format(DFF_val.shape))\n",
        "print(\"CPIU_val shape is {}\".format(CPIU_val.shape))"
      ],
      "metadata": {
        "colab": {
          "base_uri": "https://localhost:8080/"
        },
        "id": "T_6ChZWzS7GH",
        "outputId": "54ccbf2d-704c-43c1-8bd1-631aa1ad8848"
      },
      "execution_count": 62,
      "outputs": [
        {
          "output_type": "stream",
          "name": "stdout",
          "text": [
            "DFF_val shape is (755, 1).\n",
            "CPIU_val shape is (755, 1)\n"
          ]
        }
      ]
    },
    {
      "cell_type": "code",
      "source": [
        "#Scale variables individually\n",
        "\n",
        "#Apply StandardScaler to escale the data between 0 and 1 \n",
        "scaler_DFF = MinMaxScaler()\n",
        "DFF_scaled = scaler_DFF.fit_transform(DFF_val)\n",
        "\n",
        "scaler_CPIU = MinMaxScaler()\n",
        "CPIU_scaled = scaler_CPIU.fit_transform(CPIU_val)\n",
        "\n",
        "#Combine the three numpy arrays\n",
        "final_np_scaled = np.hstack((DFF_scaled, CPIU_scaled))\n",
        "print(\"final_np_scaled shape == {}\".format(final_np_scaled.shape))"
      ],
      "metadata": {
        "colab": {
          "base_uri": "https://localhost:8080/"
        },
        "id": "g2oS-JbpS8tH",
        "outputId": "2115a5a0-6159-45a6-bb2f-0e44258aafcc"
      },
      "execution_count": 63,
      "outputs": [
        {
          "output_type": "stream",
          "name": "stdout",
          "text": [
            "final_np_scaled shape == (755, 2)\n"
          ]
        }
      ]
    },
    {
      "cell_type": "code",
      "source": [
        "#Sequence adjustment parameters\n",
        "sliding_window = 12\n",
        "forecast_values = 12\n",
        "n_features = 3"
      ],
      "metadata": {
        "id": "nznhKGyXS97Y"
      },
      "execution_count": 64,
      "outputs": []
    },
    {
      "cell_type": "code",
      "source": [
        "#Create X and Y train data sets\n",
        "trainX, trainY = TS_LST_Multivarite_prep(final_np_scaled, sliding_window, forecast_values)\n",
        "\n",
        "#Check the shape of trainX and trainY\n",
        "print('trainX shape is {}.'.format(trainX.shape))\n",
        "print('trainY shape is {}.'.format(trainY.shape))"
      ],
      "metadata": {
        "colab": {
          "base_uri": "https://localhost:8080/"
        },
        "id": "pDNPaa48S_D5",
        "outputId": "66ed7504-1b71-4c27-e1b3-3097ec9ca7ab"
      },
      "execution_count": 65,
      "outputs": [
        {
          "output_type": "stream",
          "name": "stdout",
          "text": [
            "trainX shape is (732, 12, 2).\n",
            "trainY shape is (732, 12).\n"
          ]
        }
      ]
    },
    {
      "cell_type": "markdown",
      "source": [
        "## **5.2 Multivariate model multi-step forecast**"
      ],
      "metadata": {
        "id": "6dsuAWRHTAlK"
      }
    },
    {
      "cell_type": "code",
      "source": [
        "#Model_1 components\n",
        "model_1_MSforecast =Sequential()\n",
        "model_1_MSforecast.add(LSTM(50, activation=\"relu\"))\n",
        "model_1_MSforecast.add(Dense(forecast_values))\n",
        "model_1_MSforecast.compile(loss='mean_squared_error', optimizer=\"adam\")"
      ],
      "metadata": {
        "id": "WTGlSvGkTB3Q"
      },
      "execution_count": 66,
      "outputs": []
    },
    {
      "cell_type": "code",
      "source": [
        "#Fit the model_2 applying same call bancks\n",
        "history_1 = model_1_MSforecast.fit(trainX, \n",
        "                                   trainY, \n",
        "                                   validation_split=0.3, \n",
        "                                   epochs=100, \n",
        "                                   batch_size=64, \n",
        "                                   verbose=1, \n",
        "                                   callbacks=[early_stop_CB,decrease_learning_rate_CB])"
      ],
      "metadata": {
        "colab": {
          "base_uri": "https://localhost:8080/"
        },
        "id": "5VnWYfe6TDM3",
        "outputId": "26ed0e42-cd2f-44f7-be8e-0f1bcb05a9ad"
      },
      "execution_count": 67,
      "outputs": [
        {
          "output_type": "stream",
          "name": "stdout",
          "text": [
            "Epoch 1/100\n",
            "8/8 [==============================] - 2s 64ms/step - loss: 0.1335 - val_loss: 0.0093 - lr: 0.0010\n",
            "Epoch 2/100\n",
            "8/8 [==============================] - 0s 13ms/step - loss: 0.1161 - val_loss: 0.0075 - lr: 0.0010\n",
            "Epoch 3/100\n",
            "8/8 [==============================] - 0s 14ms/step - loss: 0.0960 - val_loss: 0.0070 - lr: 0.0010\n",
            "Epoch 4/100\n",
            "8/8 [==============================] - 0s 14ms/step - loss: 0.0690 - val_loss: 0.0122 - lr: 0.0010\n",
            "Epoch 5/100\n",
            "8/8 [==============================] - 0s 14ms/step - loss: 0.0341 - val_loss: 0.0403 - lr: 0.0010\n",
            "Epoch 6/100\n",
            "8/8 [==============================] - 0s 14ms/step - loss: 0.0215 - val_loss: 0.0304 - lr: 0.0010\n",
            "Epoch 7/100\n",
            "8/8 [==============================] - 0s 14ms/step - loss: 0.0139 - val_loss: 0.0282 - lr: 0.0010\n",
            "Epoch 8/100\n",
            "8/8 [==============================] - 0s 14ms/step - loss: 0.0106 - val_loss: 0.0335 - lr: 0.0010\n",
            "Epoch 9/100\n",
            "8/8 [==============================] - 0s 14ms/step - loss: 0.0102 - val_loss: 0.0278 - lr: 0.0010\n",
            "Epoch 10/100\n",
            "8/8 [==============================] - 0s 15ms/step - loss: 0.0100 - val_loss: 0.0273 - lr: 0.0010\n",
            "Epoch 11/100\n",
            "8/8 [==============================] - 0s 16ms/step - loss: 0.0096 - val_loss: 0.0270 - lr: 0.0010\n",
            "Epoch 12/100\n",
            "8/8 [==============================] - 0s 17ms/step - loss: 0.0096 - val_loss: 0.0245 - lr: 0.0010\n",
            "Epoch 13/100\n",
            "8/8 [==============================] - 0s 15ms/step - loss: 0.0093 - val_loss: 0.0252 - lr: 0.0010\n",
            "Epoch 14/100\n",
            "8/8 [==============================] - 0s 15ms/step - loss: 0.0093 - val_loss: 0.0229 - lr: 0.0010\n",
            "Epoch 15/100\n",
            "8/8 [==============================] - 0s 16ms/step - loss: 0.0091 - val_loss: 0.0239 - lr: 0.0010\n",
            "Epoch 16/100\n",
            "8/8 [==============================] - 0s 15ms/step - loss: 0.0090 - val_loss: 0.0216 - lr: 0.0010\n",
            "Epoch 17/100\n",
            "8/8 [==============================] - 0s 16ms/step - loss: 0.0089 - val_loss: 0.0220 - lr: 0.0010\n",
            "Epoch 18/100\n",
            "8/8 [==============================] - 0s 15ms/step - loss: 0.0088 - val_loss: 0.0216 - lr: 0.0010\n",
            "Epoch 19/100\n",
            "8/8 [==============================] - 0s 16ms/step - loss: 0.0087 - val_loss: 0.0210 - lr: 0.0010\n",
            "Epoch 20/100\n",
            "8/8 [==============================] - 0s 18ms/step - loss: 0.0087 - val_loss: 0.0206 - lr: 0.0010\n",
            "Epoch 21/100\n",
            "8/8 [==============================] - 0s 16ms/step - loss: 0.0087 - val_loss: 0.0205 - lr: 0.0010\n",
            "Epoch 22/100\n",
            "8/8 [==============================] - 0s 15ms/step - loss: 0.0086 - val_loss: 0.0198 - lr: 0.0010\n",
            "Epoch 23/100\n",
            "8/8 [==============================] - 0s 15ms/step - loss: 0.0087 - val_loss: 0.0198 - lr: 0.0010\n",
            "Epoch 24/100\n",
            "8/8 [==============================] - 0s 15ms/step - loss: 0.0086 - val_loss: 0.0198 - lr: 0.0010\n",
            "Epoch 25/100\n",
            "8/8 [==============================] - 0s 15ms/step - loss: 0.0085 - val_loss: 0.0197 - lr: 0.0010\n",
            "Epoch 26/100\n",
            "8/8 [==============================] - 0s 16ms/step - loss: 0.0085 - val_loss: 0.0197 - lr: 0.0010\n",
            "Epoch 27/100\n",
            "8/8 [==============================] - 0s 16ms/step - loss: 0.0085 - val_loss: 0.0192 - lr: 0.0010\n"
          ]
        }
      ]
    },
    {
      "cell_type": "code",
      "source": [
        "#Print model summary\n",
        "model_1_MSforecast.summary()"
      ],
      "metadata": {
        "colab": {
          "base_uri": "https://localhost:8080/"
        },
        "id": "CeHpEeEzTFAL",
        "outputId": "3615d423-c107-41ed-a821-68b17a33606b"
      },
      "execution_count": 68,
      "outputs": [
        {
          "output_type": "stream",
          "name": "stdout",
          "text": [
            "Model: \"sequential_5\"\n",
            "_________________________________________________________________\n",
            " Layer (type)                Output Shape              Param #   \n",
            "=================================================================\n",
            " lstm_7 (LSTM)               (None, 50)                10600     \n",
            "                                                                 \n",
            " dense_5 (Dense)             (None, 12)                612       \n",
            "                                                                 \n",
            "=================================================================\n",
            "Total params: 11,212\n",
            "Trainable params: 11,212\n",
            "Non-trainable params: 0\n",
            "_________________________________________________________________\n"
          ]
        }
      ]
    },
    {
      "cell_type": "code",
      "source": [
        "#Plot the evolution of the training and validation loss\n",
        "plt.plot(history_1.history[\"loss\"])\n",
        "plt.plot(history_1.history[\"val_loss\"])\n",
        "plt.title(\"Model loss\")\n",
        "plt.ylabel(\"loss\")\n",
        "plt.xlabel(\"epoch\")\n",
        "plt.legend([\"train loss\", \"validation loss\"], loc=\"upper left\")\n",
        "plt.rcParams[\"figure.figsize\"] = [16,9]\n",
        "plt.show()"
      ],
      "metadata": {
        "colab": {
          "base_uri": "https://localhost:8080/",
          "height": 567
        },
        "id": "h6QTL1fSTGF_",
        "outputId": "682c35bb-e1ea-47c0-ed4e-c773dc56dbb0"
      },
      "execution_count": 69,
      "outputs": [
        {
          "output_type": "display_data",
          "data": {
            "text/plain": [
              "<Figure size 1152x648 with 1 Axes>"
            ],
            "image/png": "[encoded data removed]"
          },
          "metadata": {
            "needs_background": "light"
          }
        }
      ]
    },
    {
      "cell_type": "markdown",
      "source": [
        "## **5.3 Predict on validation data**"
      ],
      "metadata": {
        "id": "-yObFl7ITIbI"
      }
    },
    {
      "cell_type": "code",
      "source": [
        "#Get the last 12 values for the training set to predict validation data\n",
        "initial_data = final_np_scaled[-sliding_window:]\n",
        "initial_data = initial_data.reshape(1, sliding_window, 2) #Reshap"
      ],
      "metadata": {
        "id": "JXcMvXzQTJeY"
      },
      "execution_count": 70,
      "outputs": []
    },
    {
      "cell_type": "code",
      "source": [
        "#Make predictions\n",
        "trainPredict_1_MSforecast = model_1_MSforecast.predict(initial_data)\n",
        "\n",
        "#Escale-back the values to compared them agains the original values\n",
        "prediction_new_MultiStep = scaler_DFF.inverse_transform(trainPredict_1_MSforecast)"
      ],
      "metadata": {
        "id": "zwoa3Rt1TKmX"
      },
      "execution_count": 71,
      "outputs": []
    },
    {
      "cell_type": "code",
      "source": [
        "#Convine predicted and original validation values\n",
        "df_trainY_val_MultiStep = prediction_new_MultiStep.ravel()\n",
        "df_validation_7M_CPIU.insert(1, \"DFF_Pred_MUltiStep\", df_trainY_val_MultiStep)\n",
        "df_validation_7M_CPIU"
      ],
      "metadata": {
        "colab": {
          "base_uri": "https://localhost:8080/",
          "height": 457
        },
        "id": "ExyCZEvATMW3",
        "outputId": "072d80a2-0c09-41c0-b696-75774f3b22e8"
      },
      "execution_count": 72,
      "outputs": [
        {
          "output_type": "execute_result",
          "data": {
            "text/plain": [
              "             DFF  DFF_Pred_MUltiStep  CPIU\n",
              "DATE                                      \n",
              "2021-07-01  0.09            2.975843  5.37\n",
              "2021-08-01  0.09            3.497589  5.25\n",
              "2021-09-01  0.08            3.945562  5.39\n",
              "2021-10-01  0.07            3.396968  6.22\n",
              "2021-11-01  0.07            3.103632  6.81\n",
              "2021-12-01  0.06            3.179813  7.04\n",
              "2022-01-01  0.08            3.418643  7.48\n",
              "2022-02-01  0.10            4.064029  7.87\n",
              "2022-03-01  0.09            3.722569  8.54\n",
              "2022-04-01  0.08            4.144484  8.26\n",
              "2022-05-01  0.08            4.674779  8.58\n",
              "2022-06-01  0.08            4.196829  9.10"
            ],
            "text/html": [
              "\n",
              "  <div id=\"df-13049c6a-f2a7-495c-be77-471fd57700f3\">\n",
              "    <div class=\"colab-df-container\">\n",
              "      <div>\n",
              "<style scoped>\n",
              "    .dataframe tbody tr th:only-of-type {\n",
              "        vertical-align: middle;\n",
              "    }\n",
              "\n",
              "    .dataframe tbody tr th {\n",
              "        vertical-align: top;\n",
              "    }\n",
              "\n",
              "    .dataframe thead th {\n",
              "        text-align: right;\n",
              "    }\n",
              "</style>\n",
              "<table border=\"1\" class=\"dataframe\">\n",
              "  <thead>\n",
              "    <tr style=\"text-align: right;\">\n",
              "      <th></th>\n",
              "      <th>DFF</th>\n",
              "      <th>DFF_Pred_MUltiStep</th>\n",
              "      <th>CPIU</th>\n",
              "    </tr>\n",
              "    <tr>\n",
              "      <th>DATE</th>\n",
              "      <th></th>\n",
              "      <th></th>\n",
              "      <th></th>\n",
              "    </tr>\n",
              "  </thead>\n",
              "  <tbody>\n",
              "    <tr>\n",
              "      <th>2021-07-01</th>\n",
              "      <td>0.09</td>\n",
              "      <td>2.975843</td>\n",
              "      <td>5.37</td>\n",
              "    </tr>\n",
              "    <tr>\n",
              "      <th>2021-08-01</th>\n",
              "      <td>0.09</td>\n",
              "      <td>3.497589</td>\n",
              "      <td>5.25</td>\n",
              "    </tr>\n",
              "    <tr>\n",
              "      <th>2021-09-01</th>\n",
              "      <td>0.08</td>\n",
              "      <td>3.945562</td>\n",
              "      <td>5.39</td>\n",
              "    </tr>\n",
              "    <tr>\n",
              "      <th>2021-10-01</th>\n",
              "      <td>0.07</td>\n",
              "      <td>3.396968</td>\n",
              "      <td>6.22</td>\n",
              "    </tr>\n",
              "    <tr>\n",
              "      <th>2021-11-01</th>\n",
              "      <td>0.07</td>\n",
              "      <td>3.103632</td>\n",
              "      <td>6.81</td>\n",
              "    </tr>\n",
              "    <tr>\n",
              "      <th>2021-12-01</th>\n",
              "      <td>0.06</td>\n",
              "      <td>3.179813</td>\n",
              "      <td>7.04</td>\n",
              "    </tr>\n",
              "    <tr>\n",
              "      <th>2022-01-01</th>\n",
              "      <td>0.08</td>\n",
              "      <td>3.418643</td>\n",
              "      <td>7.48</td>\n",
              "    </tr>\n",
              "    <tr>\n",
              "      <th>2022-02-01</th>\n",
              "      <td>0.10</td>\n",
              "      <td>4.064029</td>\n",
              "      <td>7.87</td>\n",
              "    </tr>\n",
              "    <tr>\n",
              "      <th>2022-03-01</th>\n",
              "      <td>0.09</td>\n",
              "      <td>3.722569</td>\n",
              "      <td>8.54</td>\n",
              "    </tr>\n",
              "    <tr>\n",
              "      <th>2022-04-01</th>\n",
              "      <td>0.08</td>\n",
              "      <td>4.144484</td>\n",
              "      <td>8.26</td>\n",
              "    </tr>\n",
              "    <tr>\n",
              "      <th>2022-05-01</th>\n",
              "      <td>0.08</td>\n",
              "      <td>4.674779</td>\n",
              "      <td>8.58</td>\n",
              "    </tr>\n",
              "    <tr>\n",
              "      <th>2022-06-01</th>\n",
              "      <td>0.08</td>\n",
              "      <td>4.196829</td>\n",
              "      <td>9.10</td>\n",
              "    </tr>\n",
              "  </tbody>\n",
              "</table>\n",
              "</div>\n",
              "      <button class=\"colab-df-convert\" onclick=\"convertToInteractive('df-13049c6a-f2a7-495c-be77-471fd57700f3')\"\n",
              "              title=\"Convert this dataframe to an interactive table.\"\n",
              "              style=\"display:none;\">\n",
              "        \n",
              "  <svg xmlns=\"http://www.w3.org/2000/svg\" height=\"24px\"viewBox=\"0 0 24 24\"\n",
              "       width=\"24px\">\n",
              "    <path d=\"M0 0h24v24H0V0z\" fill=\"none\"/>\n",
              "    <path d=\"M18.56 5.44l.94 2.06.94-2.06 2.06-.94-2.06-.94-.94-2.06-.94 2.06-2.06.94zm-11 1L8.5 8.5l.94-2.06 2.06-.94-2.06-.94L8.5 2.5l-.94 2.06-2.06.94zm10 10l.94 2.06.94-2.06 2.06-.94-2.06-.94-.94-2.06-.94 2.06-2.06.94z\"/><path d=\"M17.41 7.96l-1.37-1.37c-.4-.4-.92-.59-1.43-.59-.52 0-1.04.2-1.43.59L10.3 9.45l-7.72 7.72c-.78.78-.78 2.05 0 2.83L4 21.41c.39.39.9.59 1.41.59.51 0 1.02-.2 1.41-.59l7.78-7.78 2.81-2.81c.8-.78.8-2.07 0-2.86zM5.41 20L4 18.59l7.72-7.72 1.47 1.35L5.41 20z\"/>\n",
              "  </svg>\n",
              "      </button>\n",
              "      \n",
              "  <style>\n",
              "    .colab-df-container {\n",
              "      display:flex;\n",
              "      flex-wrap:wrap;\n",
              "      gap: 12px;\n",
              "    }\n",
              "\n",
              "    .colab-df-convert {\n",
              "      background-color: #E8F0FE;\n",
              "      border: none;\n",
              "      border-radius: 50%;\n",
              "      cursor: pointer;\n",
              "      display: none;\n",
              "      fill: #1967D2;\n",
              "      height: 32px;\n",
              "      padding: 0 0 0 0;\n",
              "      width: 32px;\n",
              "    }\n",
              "\n",
              "    .colab-df-convert:hover {\n",
              "      background-color: #E2EBFA;\n",
              "      box-shadow: 0px 1px 2px rgba(60, 64, 67, 0.3), 0px 1px 3px 1px rgba(60, 64, 67, 0.15);\n",
              "      fill: #174EA6;\n",
              "    }\n",
              "\n",
              "    [theme=dark] .colab-df-convert {\n",
              "      background-color: #3B4455;\n",
              "      fill: #D2E3FC;\n",
              "    }\n",
              "\n",
              "    [theme=dark] .colab-df-convert:hover {\n",
              "      background-color: #434B5C;\n",
              "      box-shadow: 0px 1px 3px 1px rgba(0, 0, 0, 0.15);\n",
              "      filter: drop-shadow(0px 1px 2px rgba(0, 0, 0, 0.3));\n",
              "      fill: #FFFFFF;\n",
              "    }\n",
              "  </style>\n",
              "\n",
              "      <script>\n",
              "        const buttonEl =\n",
              "          document.querySelector('#df-13049c6a-f2a7-495c-be77-471fd57700f3 button.colab-df-convert');\n",
              "        buttonEl.style.display =\n",
              "          google.colab.kernel.accessAllowed ? 'block' : 'none';\n",
              "\n",
              "        async function convertToInteractive(key) {\n",
              "          const element = document.querySelector('#df-13049c6a-f2a7-495c-be77-471fd57700f3');\n",
              "          const dataTable =\n",
              "            await google.colab.kernel.invokeFunction('convertToInteractive',\n",
              "                                                     [key], {});\n",
              "          if (!dataTable) return;\n",
              "\n",
              "          const docLinkHtml = 'Like what you see? Visit the ' +\n",
              "            '<a target=\"_blank\" href=https://colab.research.google.com/notebooks/data_table.ipynb>data table notebook</a>'\n",
              "            + ' to learn more about interactive tables.';\n",
              "          element.innerHTML = '';\n",
              "          dataTable['output_type'] = 'display_data';\n",
              "          await google.colab.output.renderOutput(dataTable, element);\n",
              "          const docLink = document.createElement('div');\n",
              "          docLink.innerHTML = docLinkHtml;\n",
              "          element.appendChild(docLink);\n",
              "        }\n",
              "      </script>\n",
              "    </div>\n",
              "  </div>\n",
              "  "
            ]
          },
          "metadata": {},
          "execution_count": 72
        }
      ]
    },
    {
      "cell_type": "code",
      "source": [
        "#Plot validation values and original data from 2006\n",
        "plt.plot(Train_comp.DFF_Original[572:], label= \"Training data from 2006\")\n",
        "plt.plot(Train_comp.DFF_pred_1[572:], label = \"Predicted values from 2006 - Training\")\n",
        "plt.plot(df_validation_7M.DFF, label= \"Original values - Validation\")\n",
        "plt.plot(df_validation_7M.DFF_Pred_MUltiStep, label = \"Predicted values - Validation\")\n",
        "plt.title(\"LSTM Multivariate forecast Validation - 7 months lagged predictors\")\n",
        "plt.legend(loc=\"best\")\n",
        "plt.show()"
      ],
      "metadata": {
        "colab": {
          "base_uri": "https://localhost:8080/",
          "height": 553
        },
        "id": "vdNdltYUTN-v",
        "outputId": "4ed50c9f-f584-401d-b7ba-b46a8013d065"
      },
      "execution_count": 73,
      "outputs": [
        {
          "output_type": "display_data",
          "data": {
            "text/plain": [
              "<Figure size 1152x648 with 1 Axes>"
            ],
            "image/png": "[encoded data removed]"
          },
          "metadata": {
            "needs_background": "light"
          }
        }
      ]
    }
  ]
}